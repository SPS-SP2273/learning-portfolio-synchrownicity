{
 "cells": [
  {
   "attachments": {},
   "cell_type": "markdown",
   "id": "123456",
   "metadata": {},
   "source": [
    "<div style=\"text-align:left;font-size:2em\"><span style=\"font-weight:bolder;font-size:1.25em\">SP2273 | Learning Portfolio</span><br><br><span style=\"font-weight:bold;color:darkred\">Loops (Need)</span></div>"
   ]
  },
  {
   "attachments": {},
   "cell_type": "markdown",
   "id": "d0c2d2ea",
   "metadata": {},
   "source": [
    "# What to expect in this chapter"
   ]
  },
  {
   "attachments": {},
   "cell_type": "markdown",
   "id": "077317c3",
   "metadata": {},
   "source": [
    "# 1 The for iterator"
   ]
  },
  {
   "cell_type": "code",
   "execution_count": 1,
   "id": "ae6c4f73-f87a-43eb-adb7-b4892daea6c7",
   "metadata": {},
   "outputs": [
    {
     "name": "stdout",
     "output_type": "stream",
     "text": [
      "Natasha Romanoff is a Marvel superhero!\n",
      "Tony Stark is a Marvel superhero!\n",
      "Stephen Strange is a Marvel superhero!\n"
     ]
    }
   ],
   "source": [
    "real_names = [\"Natasha Romanoff\", \"Tony Stark\", \"Stephen Strange\"]\n",
    "\n",
    "name=real_names[0]\n",
    "print(f\"{name} is a Marvel superhero!\")\n",
    "\n",
    "name=real_names[1]\n",
    "print(f\"{name} is a Marvel superhero!\")\n",
    "\n",
    "name=real_names[2]\n",
    "print(f\"{name} is a Marvel superhero!\")\n",
    "\n",
    "# Poor way of doing of printing a hero of every superhero in the real_names list\n",
    "# Not a great way of programming because:\n",
    "# 1. Does not scale very well to lists with a large number of elements\n",
    "# 2. Cumbersome to make changes, has to be done three times.\n",
    "# 3. Highly error prone since one needs to type something new.\n",
    "\n",
    "# For loops can thus come in handy to iterate for loops."
   ]
  },
  {
   "attachments": {},
   "cell_type": "markdown",
   "id": "8f481dae",
   "metadata": {},
   "source": [
    "## 1.1 for with a list"
   ]
  },
  {
   "cell_type": "code",
   "execution_count": 2,
   "id": "eb778b1b-122c-4960-bab8-c8adfaa0f670",
   "metadata": {},
   "outputs": [
    {
     "name": "stdout",
     "output_type": "stream",
     "text": [
      "Natasha Romanoff is a Marvel superhero!\n",
      "Tony Stark is a Marvel superhero!\n",
      "Stephen Strange is a Marvel superhero!\n"
     ]
    }
   ],
   "source": [
    "for name in real_names:\n",
    "    print(f\"{name} is a Marvel superhero!\")"
   ]
  },
  {
   "cell_type": "markdown",
   "id": "18a1ec6a-40fe-4a96-a2ae-18d4eee2c51f",
   "metadata": {},
   "source": [
    "Note the structure of the `for` loop:\n",
    "- The loop goes through the list and assigns `name` the value of each element of the list.\n",
    "- The loop runs the code-block using this value of `name`.\n",
    "- The code block is deginted by using `:` and tabs like with `if`.\n",
    "\n",
    "Note that `for` can be used to directly loop through a list.\n",
    "\n",
    "There's nothing special about the names of the variables used. Using variables like `x` or `y` also work, but reduces readbility, for example:\n",
    "```python\n",
    "for x in real_names:\n",
    "    print(f\"{x} is a Marvel superhero!\"}\n",
    "```"
   ]
  },
  {
   "attachments": {},
   "cell_type": "markdown",
   "id": "fa23fb9c",
   "metadata": {},
   "source": [
    "## 1.2 for with enumerate"
   ]
  },
  {
   "cell_type": "code",
   "execution_count": 6,
   "id": "7bba2e50-14d3-480d-8cc5-7a05b63c59fb",
   "metadata": {},
   "outputs": [
    {
     "name": "stdout",
     "output_type": "stream",
     "text": [
      "0:Natasha Romanoff is a Marvel superhero!\n",
      "1:Tony Stark is a Marvel superhero!\n",
      "2:Stephen Strange is a Marvel superhero!\n"
     ]
    }
   ],
   "source": [
    "super_names = [\"Black Widow\", \"Iron Man\", \"Doctor Strange\"]\n",
    "real_names = [\"Natasha Romanoff\", \"Tony Stark\", \"Stephen Strange\"]\n",
    "\n",
    "# A for loop only accepts one list, we need to do something else to access the data in \n",
    "# both lists. One option is to use enumerate().\n",
    "\n",
    "for count, name in enumerate(real_names):\n",
    "    print(f'{count}:{name} is a Marvel superhero!')\n",
    "\n",
    "# enumerate() is something that keeps count. It not only gives the list's elements\n",
    "# but also a number that is stored in count. "
   ]
  },
  {
   "cell_type": "code",
   "execution_count": 8,
   "id": "798fd276-b614-4246-ba36-e042bb309613",
   "metadata": {},
   "outputs": [
    {
     "name": "stdout",
     "output_type": "stream",
     "text": [
      "Natasha Romanoff is Black Widow!\n",
      "Tony Stark is Iron Man!\n",
      "Stephen Strange is Doctor Strange!\n",
      "100: Natasha Romanoff is a Marvel superhero!\n",
      "101: Tony Stark is a Marvel superhero!\n",
      "102: Stephen Strange is a Marvel superhero!\n"
     ]
    }
   ],
   "source": [
    "# We can also use count given by enumerate() to index the other list.\n",
    "for index, name in enumerate(real_names):\n",
    "    superhero_name = super_names[index]\n",
    "    print(f'{name} is {superhero_name}!')\n",
    "\n",
    "# Though enumerate() starts counting from 0, we can easily change it to another\n",
    "# starting value, say 100.\n",
    "\n",
    "for count, name in enumerate(real_names, 100):\n",
    "    print(f'{count}: {name} is a Marvel superhero!')\n"
   ]
  },
  {
   "attachments": {},
   "cell_type": "markdown",
   "id": "875139f4",
   "metadata": {},
   "source": [
    "## 1.3 for with range"
   ]
  },
  {
   "cell_type": "code",
   "execution_count": 10,
   "id": "5cd25731-e086-426a-8e10-ef13032099a7",
   "metadata": {},
   "outputs": [
    {
     "name": "stdout",
     "output_type": "stream",
     "text": [
      "0\n",
      "1\n",
      "2\n",
      "3\n",
      "4\n",
      "5\n",
      "6\n",
      "7\n",
      "8\n",
      "9\n",
      "1\n",
      "4\n",
      "7\n"
     ]
    }
   ],
   "source": [
    "# Example 1:\n",
    "for i in range(5):\n",
    "    print(i)          # This prints the numbers 0-4.\n",
    "\n",
    "# Example 2:\n",
    "# We can tailor the starting and ending values.\n",
    "for i in range(5, 10):\n",
    "    print(i)         # This prints the numbers 5-9.\n",
    "\n",
    "# Example 3:\n",
    "# We can adjust the step size but changing the last number.\n",
    "for i in range(1, 10, 3):\n",
    "    print(i)        # This prints the numbers 1, 4, 7 at step sizes of 3.\n",
    "\n",
    "# Notes:\n",
    "# Functions like range() and enumerate() only work in looping structures.\n",
    "# range() always ends one short of the ending number."
   ]
  },
  {
   "cell_type": "code",
   "execution_count": null,
   "id": "592fdc74-00a7-4ae8-964f-c6602236dd4e",
   "metadata": {},
   "outputs": [],
   "source": [
    "# To use the range function to print the superhero names in our initial problem,\n",
    "# we can do the following:\n",
    "\n",
    "for i in range(len(real_names)):\n",
    "    real_name = real_names[i]\n",
    "    super_name = super_names[i]\n",
    "    print(f\"{real_name} is Marvel's {super_name}!\")\n",
    "\n",
    "# len(real_names) denotes how many times the loop should run."
   ]
  },
  {
   "attachments": {},
   "cell_type": "markdown",
   "id": "42591136",
   "metadata": {},
   "source": [
    "# 2 while"
   ]
  },
  {
   "cell_type": "code",
   "execution_count": 11,
   "id": "7c0fcd3f-deb4-4352-90d0-93a29ca4afac",
   "metadata": {},
   "outputs": [
    {
     "name": "stdout",
     "output_type": "stream",
     "text": [
      "0\n",
      "1\n",
      "2\n",
      "3\n",
      "4\n"
     ]
    }
   ],
   "source": [
    "# A while loop is set up so that it keeps on running while a condition is True.\n",
    "# A while loop checks the condition at the start and begins another loop if it is True.\n",
    "\n",
    "# A useful feature of the while loop is that you do not need to know beforehand how \n",
    "# many iterations are needed.\n",
    "\n",
    "number = 0 \n",
    "while number < 5:\n",
    "    print(number)\n",
    "    number += 1"
   ]
  }
 ],
 "metadata": {
  "kernelspec": {
   "display_name": "Python 3 (ipykernel)",
   "language": "python",
   "name": "python3"
  },
  "language_info": {
   "codemirror_mode": {
    "name": "ipython",
    "version": 3
   },
   "file_extension": ".py",
   "mimetype": "text/x-python",
   "name": "python",
   "nbconvert_exporter": "python",
   "pygments_lexer": "ipython3",
   "version": "3.11.5"
  },
  "toc": {
   "base_numbering": 1,
   "nav_menu": {},
   "number_sections": true,
   "sideBar": true,
   "skip_h1_title": false,
   "title_cell": "Table of Contents",
   "title_sidebar": "Contents",
   "toc_cell": false,
   "toc_position": {},
   "toc_section_display": true,
   "toc_window_display": false
  },
  "vscode": {
   "interpreter": {
    "hash": "31f2aee4e71d21fbe5cf8b01ff0e069b9275f58929596ceb00d14d90e3e16cd6"
   }
  }
 },
 "nbformat": 4,
 "nbformat_minor": 5
}
