{
 "cells": [
  {
   "attachments": {},
   "cell_type": "markdown",
   "id": "123456",
   "metadata": {},
   "source": [
    "<div style=\"text-align:left;font-size:2em\"><span style=\"font-weight:bolder;font-size:1.25em\">SP2273 | Learning Portfolio</span><br><br><span style=\"font-weight:bold;color:darkred\">Loops (Nice)</span></div>"
   ]
  },
  {
   "attachments": {},
   "cell_type": "markdown",
   "id": "3a35a306",
   "metadata": {},
   "source": [
    "# 1 There is more to list comprehension"
   ]
  },
  {
   "cell_type": "code",
   "execution_count": 1,
   "id": "6a28c6d6-2433-4d70-8b34-1a3923c61e16",
   "metadata": {},
   "outputs": [
    {
     "data": {
      "text/plain": [
       "[[0, 'A'],\n",
       " [0, 'B'],\n",
       " [0, 'C'],\n",
       " [1, 'A'],\n",
       " [1, 'B'],\n",
       " [1, 'C'],\n",
       " [2, 'A'],\n",
       " [2, 'B'],\n",
       " [2, 'C'],\n",
       " [3, 'A'],\n",
       " [3, 'B'],\n",
       " [3, 'C'],\n",
       " [4, 'A'],\n",
       " [4, 'B'],\n",
       " [4, 'C']]"
      ]
     },
     "execution_count": 1,
     "metadata": {},
     "output_type": "execute_result"
    }
   ],
   "source": [
    "# One can have more than one loop in a list comprehension\n",
    "[[a, b] for a in range(5) for b in ['A', 'B', 'C']]"
   ]
  },
  {
   "cell_type": "code",
   "execution_count": 2,
   "id": "fa2169ad-203a-46a9-9d61-08f93178d245",
   "metadata": {},
   "outputs": [
    {
     "data": {
      "text/plain": [
       "[[1, 'A'], [1, 'B'], [1, 'C'], [3, 'A'], [3, 'B'], [3, 'C']]"
      ]
     },
     "execution_count": 2,
     "metadata": {},
     "output_type": "execute_result"
    }
   ],
   "source": [
    "# One can also incorporate a condition.\n",
    "\n",
    "[[a, b] for a in range(5) for b in ['A', 'B', 'C'] if a % 2 != 0]"
   ]
  },
  {
   "cell_type": "code",
   "execution_count": 6,
   "id": "a683156e-ded9-4db4-8d16-c932e273fe2c",
   "metadata": {},
   "outputs": [
    {
     "name": "stdout",
     "output_type": "stream",
     "text": [
      "[1, 2, 3, 4, 5, 6, 7]\n"
     ]
    }
   ],
   "source": [
    "# Below is a more complicated use of list comprehension to flatten a list.\n",
    "\n",
    "nested_list = [[1, 2, 3], [4, 5, 6, 7]]\n",
    "[y for x in nested_list for y in x]\n",
    "\n",
    "# which does the same as the following:\n",
    "\n",
    "nested_list = [[1, 2, 3], [4, 5, 6, 7]]\n",
    "output = []\n",
    "for x in nested_list:\n",
    "    for y in x:\n",
    "        output.append(y)\n",
    "print(output)"
   ]
  },
  {
   "attachments": {},
   "cell_type": "markdown",
   "id": "44e3df4a",
   "metadata": {},
   "source": [
    "# 2 Zipping a dictionary"
   ]
  },
  {
   "cell_type": "code",
   "execution_count": 7,
   "id": "47d1c49a-4d1b-4ccf-b350-381ae24d1205",
   "metadata": {},
   "outputs": [
    {
     "data": {
      "text/plain": [
       "{'Natasha Romanoff': 'Black Widow',\n",
       " 'Tony Stark': 'Iron Man',\n",
       " 'Stephen Strange': 'Doctor Strange'}"
      ]
     },
     "execution_count": 7,
     "metadata": {},
     "output_type": "execute_result"
    }
   ],
   "source": [
    "# zip() offers one of the easiest ways to combine two lists into a dictionary:\n",
    "\n",
    "super_names=[\"Black Widow\", \"Iron Man\", \"Doctor Strange\"]\n",
    "real_names=[\"Natasha Romanoff\", \"Tony Stark\", \"Stephen Strange\"]\n",
    "\n",
    "dict(zip(real_names, super_names))\n",
    "\n",
    "# dict() is used to recast zip()'s output into a dictionary"
   ]
  },
  {
   "attachments": {},
   "cell_type": "markdown",
   "id": "f09501db",
   "metadata": {},
   "source": [
    "# 3 for and while has an else"
   ]
  },
  {
   "cell_type": "code",
   "execution_count": 8,
   "id": "110010c8-3e0c-4f93-9cd6-bcfc96d7f881",
   "metadata": {},
   "outputs": [
    {
     "name": "stdout",
     "output_type": "stream",
     "text": [
      "No negative numbers in the list\n"
     ]
    }
   ],
   "source": [
    "# for and while loops come with an optional else statement.\n",
    "# code in else block isn executed only if the loops are completed. \n",
    "# else code-block will not run if loop is exited prematurely (e.g. by using break)\n",
    "\n",
    "numbers = [0, 1, 2, 3, 4, 5, 6, 7, 8, 9]\n",
    "\n",
    "for i in numbers:\n",
    "    if i < 0:\n",
    "        break\n",
    "else:\n",
    "    print('No negative numbers in the list')"
   ]
  },
  {
   "attachments": {},
   "cell_type": "markdown",
   "id": "0bbf3262",
   "metadata": {},
   "source": [
    "# Exercises"
   ]
  },
  {
   "cell_type": "markdown",
   "id": "106211fd-a2cf-42b0-afae-be5eb70ba92d",
   "metadata": {},
   "source": [
    "#### **Exercise 1 (Changing a List)**"
   ]
  },
  {
   "cell_type": "code",
   "execution_count": 13,
   "id": "dfb3bb53-2f39-4c3c-96e1-3ab734603381",
   "metadata": {},
   "outputs": [
    {
     "name": "stdout",
     "output_type": "stream",
     "text": [
      "['apple', 'banana', 'jackfruit', 'papaya', 'watermelons', 'durian', 'mangoes', 'strawberries']\n",
      "['apple', 'banana', 'jackfruit', 'watermelons', 'durian', 'mangoes', 'strawberries']\n"
     ]
    },
    {
     "data": {
      "text/plain": [
       "['apple',\n",
       " 'banana',\n",
       " 'jackfruit',\n",
       " 'watermelons',\n",
       " 'durian',\n",
       " 'mangoes',\n",
       " 'strawberries']"
      ]
     },
     "execution_count": 13,
     "metadata": {},
     "output_type": "execute_result"
    }
   ],
   "source": [
    "fruits = [\"apple\", \"banana\", \"jackfruit\",\n",
    "          \"pineapple\", \"papaya\", \"watermelons\",\n",
    "          \"peaches\", \"durian\",  \"mangoes\",\n",
    "          \"strawberries\", \"passionfruit\"\n",
    "          ]\n",
    "\n",
    "for fruit in fruits:\n",
    "    if fruit[0] == \"p\":\n",
    "        fruits.remove(fruit)\n",
    "print(fruits)\n",
    "\n",
    "# Doesn't work, why?\n",
    "# Because during the For loop, when it reaches index [3] pineapple, the For loop will remove pineapple. The For loop will then look\n",
    "# at the next item which is index [4]. However, while we expect 'papaya' to be in index [4], because the list has been changed,\n",
    "# the 'papaya' has been shifted to index [3] because 'pineapple' has been removed, and therefore there is no chance for 'papaya'\n",
    "# to be removed from the list as a result. It follows that the output will include 'papaya' which is incorrect.\n",
    "\n",
    "\n",
    "# SOLUTION\n",
    "fruits = [\"apple\", \"banana\", \"jackfruit\",\n",
    "          \"pineapple\", \"papaya\", \"watermelons\",\n",
    "          \"peaches\", \"durian\",  \"mangoes\",\n",
    "          \"strawberries\", \"passionfruit\"\n",
    "          ]\n",
    "\n",
    "copy_of_fruits = fruits.copy()\n",
    "\n",
    "# Not that we are looping(iterating) over the copy\n",
    "for fruit in copy_of_fruits:\n",
    "    if fruit[0] == \"p\":\n",
    "        fruits.remove(fruit)\n",
    "print(fruits)\n",
    "\n",
    "# By including a copy, the loop is iterated through the copy, but the fruit itself is removed from the original list 'fruits'.\n",
    "# Because the original list is not changed, therefore there will be no issues encountered in this For loop thus.\n",
    "\n",
    "\n",
    "# MORE EFFICIENT SOLUTION\n",
    "fruits = [\"apple\", \"banana\", \"jackfruit\",\n",
    "          \"pineapple\", \"papaya\", \"watermelons\",\n",
    "          \"peaches\", \"durian\",  \"mangoes\",\n",
    "          \"strawberries\", \"passionfruit\"\n",
    "          ]\n",
    "\n",
    "[fruit for fruit in fruits if fruit[0] != \"p\"]"
   ]
  },
  {
   "cell_type": "markdown",
   "id": "b1fca72d-a3be-4131-ad53-742b48113fc2",
   "metadata": {},
   "source": [
    "#### **Exercise 2 (A List of Powers)**"
   ]
  },
  {
   "cell_type": "code",
   "execution_count": 19,
   "id": "b4cf0565-376f-485e-a715-b42efc84e446",
   "metadata": {},
   "outputs": [
    {
     "name": "stdout",
     "output_type": "stream",
     "text": [
      "[[1, 1, 1, 2, 4, 8, 3, 9, 27, 4, 16, 64, 5, 25, 125], [1, 1, 1, 2, 4, 8, 3, 9, 27, 4, 16, 64, 5, 25, 125], [1, 1, 1, 2, 4, 8, 3, 9, 27, 4, 16, 64, 5, 25, 125], [1, 1, 1, 2, 4, 8, 3, 9, 27, 4, 16, 64, 5, 25, 125], [1, 1, 1, 2, 4, 8, 3, 9, 27, 4, 16, 64, 5, 25, 125]]\n",
      "0 2715490568960\n",
      "1 2715490568960\n",
      "2 2715490568960\n",
      "3 2715490568960\n",
      "4 2715490568960\n",
      "0 2715490583872\n",
      "1 2715490507392\n",
      "2 2715490597440\n",
      "3 2715490596352\n",
      "4 2715490537920\n",
      "[[1, 1, 1], [2, 4, 8], [3, 9, 27], [4, 16, 64], [5, 25, 125]]\n"
     ]
    }
   ],
   "source": [
    "maximum_n = 5\n",
    "result = [[]] * maximum_n\n",
    "\n",
    "for n in range(1, maximum_n + 1):\n",
    "    result[n - 1].append(n)\n",
    "    result[n - 1].append(n**2)\n",
    "    result[n - 1].append(n**3)\n",
    "\n",
    "print(result)\n",
    "\n",
    "# Problem is because [[]] * 5 creates 5 references to the same empty list. Thus\n",
    "# 5 different empty lists will be created [].\n",
    "\n",
    "# TO CHECK:\n",
    "maximum_n = 5\n",
    "\n",
    "result = [[]] * maximum_n\n",
    "\n",
    "for count, element in enumerate(result):\n",
    "    print(count, id(element))\n",
    "\n",
    "maximum_n = 5\n",
    "\n",
    "result = [[] for _ in range(maximum_n)]\n",
    "\n",
    "for count, element in enumerate(result):\n",
    "    print(count, id(element))\n",
    "\n",
    "# SOLUTION\n",
    "maximum_n = 5\n",
    "# result = [[]] * maximum_n\n",
    "result = [[] for _ in range(maximum_n)]\n",
    "\n",
    "for n in range(1, maximum_n + 1):\n",
    "    result[n - 1].append(n)\n",
    "    result[n - 1].append(n**2)\n",
    "    result[n - 1].append(n**3)\n",
    "\n",
    "print(result)"
   ]
  },
  {
   "cell_type": "markdown",
   "id": "7d0d1f88-0ec4-4f90-924f-62dba5d0542c",
   "metadata": {},
   "source": [
    "#### **Exercise 3 (Time Profiling)**"
   ]
  },
  {
   "cell_type": "code",
   "execution_count": 5,
   "id": "9511d23e-e04f-4860-9115-d36b35460e8c",
   "metadata": {},
   "outputs": [
    {
     "name": "stdout",
     "output_type": "stream",
     "text": [
      "1.11 µs ± 14.1 ns per loop (mean ± std. dev. of 7 runs, 1,000,000 loops each)\n"
     ]
    }
   ],
   "source": [
    "%%timeit # %%timeit has to be the first thing in the cell\n",
    "\n",
    "# Way 1: Creating a list of squares with a for loop\n",
    "# 1 - Option 1 and 2 - Option 1\n",
    "\n",
    "list = []\n",
    "\n",
    "for i in range(1, 6):\n",
    "    squared = i * i\n",
    "    list.append(squared)\n",
    "#print(list)\n",
    "\n",
    "# Time Taken: 1.11 µs ± 14.1 ns per loop\n"
   ]
  },
  {
   "cell_type": "code",
   "execution_count": 6,
   "id": "cec74585-9a64-468b-a1ba-acba03d66014",
   "metadata": {},
   "outputs": [
    {
     "name": "stdout",
     "output_type": "stream",
     "text": [
      "872 ns ± 24.3 ns per loop (mean ± std. dev. of 7 runs, 1,000,000 loops each)\n"
     ]
    }
   ],
   "source": [
    "%%timeit\n",
    "\n",
    "# Way 2: Creating a list of squares with While Loop\n",
    "# 1 - Option 2\n",
    "\n",
    "list = []\n",
    "a = 1\n",
    "\n",
    "while True:\n",
    "    squared = a * a\n",
    "    a += 1\n",
    "    list.append(squared)\n",
    "    if a > 5:\n",
    "        break\n",
    "#print(list)   # don't run %timeit with print\n",
    "\n",
    "# Time Taken: 872 ns ± 24.3 ns per loop"
   ]
  },
  {
   "cell_type": "code",
   "execution_count": 12,
   "id": "ff8572d4-3965-4d18-9863-979550dc055a",
   "metadata": {},
   "outputs": [
    {
     "name": "stdout",
     "output_type": "stream",
     "text": [
      "1.29 µs ± 41.3 ns per loop (mean ± std. dev. of 7 runs, 1,000,000 loops each)\n"
     ]
    }
   ],
   "source": [
    "%%timeit\n",
    "\n",
    "# Way 3: Creating a list of squares with a list comprehension loop.\n",
    "# 2 - Option 2 and 5 - Option 2\n",
    "\n",
    "[i*i for i in range(1, 6)]\n",
    "\n",
    "# Time Taken: 1.29 µs ± 41.3 ns per loop"
   ]
  },
  {
   "cell_type": "code",
   "execution_count": 3,
   "id": "74d927ea-fa8e-4462-8e53-def22d30cc13",
   "metadata": {},
   "outputs": [
    {
     "name": "stdout",
     "output_type": "stream",
     "text": [
      "1.08 µs ± 43 ns per loop (mean ± std. dev. of 7 runs, 1,000,000 loops each)\n"
     ]
    }
   ],
   "source": [
    "%%timeit\n",
    "\n",
    "# Way 4: Creating a list of squares using list.append()\n",
    "# 3 - Option 1, 4 - Option 1\n",
    "\n",
    "list = []\n",
    "\n",
    "for i in range(1, 6):\n",
    "    squared = i * i\n",
    "    list.append(squared)\n",
    "#print(list)\n",
    "\n",
    "# Time Taken: 1.08 µs ± 43 ns per loop"
   ]
  },
  {
   "cell_type": "code",
   "execution_count": 2,
   "id": "77792fac-ee08-4ed2-83da-842e3e9cf7db",
   "metadata": {},
   "outputs": [
    {
     "name": "stdout",
     "output_type": "stream",
     "text": [
      "1.6 µs ± 34.6 ns per loop (mean ± std. dev. of 7 runs, 1,000,000 loops each)\n"
     ]
    }
   ],
   "source": [
    "%%timeit\n",
    "\n",
    "# Option 2: Creating a list of squares using list +=\n",
    "# 3 - Option 2\n",
    "\n",
    "list = []\n",
    "\n",
    "for i in range(1, 6):\n",
    "    list += [i*i]\n",
    "#print(list)\n",
    "    \n",
    "# Time Taken: 1.6 µs ± 34.6 ns per loop"
   ]
  },
  {
   "cell_type": "code",
   "execution_count": 6,
   "id": "dfe3af4e-10bc-4efc-a734-8c46c2d90ef5",
   "metadata": {},
   "outputs": [
    {
     "name": "stdout",
     "output_type": "stream",
     "text": [
      "9.86 µs ± 304 ns per loop (mean ± std. dev. of 7 runs, 100,000 loops each)\n"
     ]
    }
   ],
   "source": [
    "%%timeit\n",
    "\n",
    "# Option 1: Creating a List of Squares Using Numpy\n",
    "# *Note there is no need for a for loop when making list of squares in numpy\n",
    "# 5 - Option 1\n",
    "\n",
    "import numpy as np\n",
    "int_array = np.array(range(1, 6))\n",
    "squared = int_array ** 2\n",
    "#print(squared)\n",
    "\n",
    "# Time Taken: 9.86 µs ± 304 ns per loop"
   ]
  },
  {
   "cell_type": "code",
   "execution_count": 1,
   "id": "fdebffcd-9728-41b2-ada0-14f88a7ba0ca",
   "metadata": {},
   "outputs": [
    {
     "name": "stdout",
     "output_type": "stream",
     "text": [
      "35.5 µs ± 818 ns per loop (mean ± std. dev. of 7 runs, 100,000 loops each)\n"
     ]
    }
   ],
   "source": [
    "%%timeit\n",
    "\n",
    "# Option 2: Creating a list of Squares using append() of Numpy\n",
    "# 4 - Option 2\n",
    "\n",
    "import numpy as np\n",
    "\n",
    "int_array = np.array([])\n",
    "list = []\n",
    "\n",
    "for i in range(1, 6):\n",
    "    squared = i*i\n",
    "    int_array = np.append(int_array, squared)\n",
    "    \n",
    "#print(int_array)\n",
    "\n",
    "# Time Taken: "
   ]
  },
  {
   "cell_type": "markdown",
   "id": "95538937-0e1d-4a64-9dd3-de2c76bace79",
   "metadata": {},
   "source": [
    "**Comparing the Execution Speeds of Different Methods of Creating a List of Squares**\n",
    "\n",
    "|#   |Option 1            |Option 2             |Faster Method |\n",
    "|:--:|:--:                |:--:                 |:--:          |\n",
    "|1   |`for` **Loop** <br> 1.11 µs ± 14.1 ns per loop| `while` **Loop** <br> 872 ns ± 24.3 ns per loop| **Option 2**|\n",
    "|2|`for` **Loop** <br> 1.11 µs ± 14.1 ns per loop| **List Comprehension** <br> 1.29 µs ± 41.3 ns per loop| **Option 1**|\n",
    "|3|**List** `append()` <br> 1.08 µs ± 43 ns per loop | **List** `+=` <br> 1.6 µs ± 34.6 ns per loop| **Option 1**|\n",
    "|4|**List** `append()` <br> 1.08 µs ± 43 ns per loop | `append()` **on NumPy** <br> 35.5 µs ± 818 ns per loop| **Option 1** |\n",
    "|5|**NumPy** <br> 9.86 µs ± 304 ns per loop | **List Comprehension** <br> 1.29 µs ± 41.3 ns per loop| **Option 2**|\n",
    "\n",
    "Ranking:\n",
    "1. `for` Loop\n",
    "2. `while` Loop\n",
    "3. List Comprehension\n",
    "4. List `append()`\n",
    "5. List `+=`\n",
    "6. NumPy\n",
    "7. `append()` on Numpy"
   ]
  },
  {
   "cell_type": "markdown",
   "id": "da798c6d-143a-4bb6-9e61-3a7a4612ae51",
   "metadata": {},
   "source": [
    "#### **~ End of Loops (Nice) ~**"
   ]
  }
 ],
 "metadata": {
  "kernelspec": {
   "display_name": "Python 3 (ipykernel)",
   "language": "python",
   "name": "python3"
  },
  "language_info": {
   "codemirror_mode": {
    "name": "ipython",
    "version": 3
   },
   "file_extension": ".py",
   "mimetype": "text/x-python",
   "name": "python",
   "nbconvert_exporter": "python",
   "pygments_lexer": "ipython3",
   "version": "3.11.5"
  },
  "toc": {
   "base_numbering": 1,
   "nav_menu": {},
   "number_sections": true,
   "sideBar": true,
   "skip_h1_title": false,
   "title_cell": "Table of Contents",
   "title_sidebar": "Contents",
   "toc_cell": false,
   "toc_position": {},
   "toc_section_display": true,
   "toc_window_display": false
  },
  "vscode": {
   "interpreter": {
    "hash": "31f2aee4e71d21fbe5cf8b01ff0e069b9275f58929596ceb00d14d90e3e16cd6"
   }
  }
 },
 "nbformat": 4,
 "nbformat_minor": 5
}
