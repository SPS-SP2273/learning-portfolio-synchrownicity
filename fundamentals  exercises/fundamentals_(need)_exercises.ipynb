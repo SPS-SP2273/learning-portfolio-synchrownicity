{
 "cells": [
  {
   "attachments": {},
   "cell_type": "markdown",
   "id": "123456",
   "metadata": {},
   "source": [
    "<div style=\"text-align:left;font-size:2em\"><span style=\"font-weight:bolder;font-size:1.25em\">SP2273 | Learning Portfolio</span><br><br><span style=\"font-weight:bold;color:darkred\">Fundamentals (Need) Exercises</span></div>"
   ]
  },
  {
   "cell_type": "markdown",
   "id": "7d49c9aa-24cc-416c-87a7-e1a880acc84b",
   "metadata": {},
   "source": [
    "#### **Exercise 1 (Total Recall?)**"
   ]
  },
  {
   "cell_type": "markdown",
   "id": "92dfe98a-dc71-46cd-b0e7-0d9e64c87494",
   "metadata": {},
   "source": [
    "**Basic Python Features (From Memory)**\n",
    "<br> (Lines *italicised* indicated features I missed.)\n",
    "\n",
    "- Comments (Using `#` to comment)\n",
    "- Functions (e.g. `print()`)\n",
    "  - *Python is an interpreter and works sequentially, one command at a time.*\n",
    "  - *Python is case-sensitive.* (`print()` $\\ne$ `Print()`)\n",
    "- *`if`, `elif` and `else` functions to make decisions*\n",
    "- *Importance of Indentations (Spaces)*\n",
    "- Brackets\n",
    "  - Using `()` for functions and math operations\n",
    "  - Using `[]` for lists (either 1D or 2D)\n",
    "  - Using `{}` for dictionaries which assign meaning to variables\n",
    "- Variables\n",
    "  - *`'age'` is a string, while `age` is a variable.*\n",
    "- Assignment Operators\n",
    "  - = means to assign a variable\n",
    "  - == is to check for equality of variables (whether they are the same)\n",
    "- Importing of Packages\n",
    "  - Importing Math: `import math`\n",
    "  - Importing Numpy: `import numpy as np`\n",
    "  - Importing packages is important as basic Python is limited in its features (e.g. unable to calculate square roots)\n",
    "- *`.` in Python indicates ownership*\n",
    "- Using the `.split()` function to split strings into multiple smaller strings"
   ]
  },
  {
   "cell_type": "markdown",
   "id": "92a5246c-cc4f-49e2-bc55-36a10439e2c5",
   "metadata": {},
   "source": [
    "#### **Exercise 2 (Debug me)**"
   ]
  },
  {
   "cell_type": "markdown",
   "id": "f551fc66-106f-450c-b474-efe74a713184",
   "metadata": {},
   "source": [
    "Code Assigned:\n",
    "```python\n",
    "x, y = 3, 4\r\n",
    "        z = sqrt(x*2 + y**2)\r\n",
    "    Print(x, y, ```z)"
   ]
  },
  {
   "cell_type": "code",
   "execution_count": 4,
   "id": "ad37876f-4a3f-409a-af0f-f4a2b7f8fe51",
   "metadata": {},
   "outputs": [
    {
     "name": "stdout",
     "output_type": "stream",
     "text": [
      "3 4 5\n"
     ]
    }
   ],
   "source": [
    "# Debugged Code:\n",
    "\n",
    "import math\n",
    "\n",
    "x, y = 3, 4\n",
    "z = math.sqrt(x**2 + y**2)\n",
    "print(x, y, int(z))\n",
    "\n",
    "#Code above will generate the Pythagorean triple 3, 4, 5 as integers."
   ]
  },
  {
   "cell_type": "markdown",
   "id": "3fefe09e-5754-4ea3-8a2a-72aac30e2090",
   "metadata": {},
   "source": [
    "#### **Exercise 3 (In Your Own Words)**"
   ]
  },
  {
   "cell_type": "markdown",
   "id": "a5058616-7e9e-450b-bf81-82ec3d23f3cc",
   "metadata": {},
   "source": [
    "| #  | Term         | Description                                         |\n",
    "|:--:|:--           |:--:                                                 |\n",
    "|1   |Function      |A function is code that accepts data or arguments and runs it through the Python interpreter.|\n",
    "|2   |Argument      |An argument is the code or value passed through the function when called on by the interpreter.|\n",
    "|3   |Comments      |Comments are lines of code ignored by the interpreter that help add clarity to a line or chunk of code by the author. `#` is used to denote comments.|\n",
    "|4   |Indentations  |Indentations are spaces at the beginning of a block of code. They help the interpreter understand what to do given certain conditions (such as while running `if` statements.|\n",
    "|5   |Packages      |Packages are modules imported into Python to help accomplish certain tasks (e.g. square-rooting numbers using the `math` package). Examples of packages include: `math`, `numpy`, `pandas`, `seaborn` etc.)\n",
    "|6   |`.`           |`.` indicates ownership, such as denoting which modules certain functions come from (e.g. `np.sqrt` indicates that the square-root function comes from `numpy`)|\n",
    "|7   |`:`           |`:` shows the start of a new block of code that contains either a loop, function or conditional statement (e.g. `if` statements, `for` loops, `while` loops)|\n",
    "|8   |`[]`          |Values, strings or boolean in `[]` are usually part of lists, whereby the items in the list are known as elements of that list.|\n",
    "|9   |`[[[]]]`      |`[[[]]]` is a 3D list, which is a form of nested list in Python, where other lists are elements of that list. In this case, `[[]]` is an element of the 3D list.|\n",
    "|10  |`{}`          |`{}` are mainly used to define dictionaries (also known as a hash map) that maps a value (string, float, boolean) to a key (usually a string) such that when the key is called, will spit out the associated value.|"
   ]
  },
  {
   "cell_type": "markdown",
   "id": "18edfca9-3527-4a85-b0ac-6b4562dfb11c",
   "metadata": {},
   "source": [
    "#### **Exercise 4 (More than One Way to Divide)**"
   ]
  },
  {
   "cell_type": "code",
   "execution_count": 6,
   "id": "a6bcb7bd-8251-4cd0-86d2-4e884e018ebb",
   "metadata": {},
   "outputs": [
    {
     "name": "stdout",
     "output_type": "stream",
     "text": [
      "2.5\n"
     ]
    }
   ],
   "source": [
    "5/2\n",
    "\n",
    "# Above shows normal division. The function will return the answer as a float.\n",
    "# In this case, printing the above will give 2.5, as with normal division.\n",
    "\n",
    "print(5/2)"
   ]
  },
  {
   "cell_type": "code",
   "execution_count": 11,
   "id": "9787a99f-deb6-450f-af5b-32b702af8024",
   "metadata": {},
   "outputs": [
    {
     "name": "stdout",
     "output_type": "stream",
     "text": [
      "2\n"
     ]
    }
   ],
   "source": [
    "5//2\n",
    "\n",
    "# Above shows integer / floor division. The function will return the floor of the\n",
    "# answer if normal division was used.\n",
    "# In this case, printing the above will give 2, since 5 divided by 2 is 2.5,\n",
    "# and the floor of 2.5 is 2.\n",
    "\n",
    "print(5//2)"
   ]
  },
  {
   "cell_type": "code",
   "execution_count": 12,
   "id": "641cc2a3-6358-47db-9ff0-cc227e762bd2",
   "metadata": {},
   "outputs": [
    {
     "name": "stdout",
     "output_type": "stream",
     "text": [
      "1\n"
     ]
    }
   ],
   "source": [
    "5%2\n",
    "\n",
    "# % is a modulo operator.\n",
    "# Read as '5 mod 2', the above function will return the remainder of the division,\n",
    "# if there is any. If there is no remainder, the integer returned will be 0.\n",
    "# In this case, printing the above will give 1, since the remainder of \n",
    "# 5 divided by 2 is 1.\n",
    "\n",
    "print(5%2)"
   ]
  },
  {
   "cell_type": "markdown",
   "id": "b2d6b77f-2c5e-46d3-accc-5a8e8b2db606",
   "metadata": {},
   "source": [
    "#### **~ End of Fundamentals (Need) Exercises ~**"
   ]
  }
 ],
 "metadata": {
  "kernelspec": {
   "display_name": "Python 3 (ipykernel)",
   "language": "python",
   "name": "python3"
  },
  "language_info": {
   "codemirror_mode": {
    "name": "ipython",
    "version": 3
   },
   "file_extension": ".py",
   "mimetype": "text/x-python",
   "name": "python",
   "nbconvert_exporter": "python",
   "pygments_lexer": "ipython3",
   "version": "3.11.5"
  },
  "toc": {
   "base_numbering": 1,
   "nav_menu": {},
   "number_sections": true,
   "sideBar": true,
   "skip_h1_title": false,
   "title_cell": "Table of Contents",
   "title_sidebar": "Contents",
   "toc_cell": false,
   "toc_position": {},
   "toc_section_display": true,
   "toc_window_display": false
  },
  "vscode": {
   "interpreter": {
    "hash": "31f2aee4e71d21fbe5cf8b01ff0e069b9275f58929596ceb00d14d90e3e16cd6"
   }
  }
 },
 "nbformat": 4,
 "nbformat_minor": 5
}
