{
 "cells": [
  {
   "attachments": {},
   "cell_type": "markdown",
   "id": "123456",
   "metadata": {},
   "source": [
    "<div style=\"text-align:left;font-size:2em\"><span style=\"font-weight:bolder;font-size:1.25em\">SP2273 | Learning Portfolio</span><br><br><span style=\"font-weight:bold;color:darkred\">Fundamentals (Good) Exercises</span></div>"
   ]
  },
  {
   "cell_type": "markdown",
   "id": "a553cc4a-5d54-46aa-a556-c3ccad385676",
   "metadata": {},
   "source": [
    "### **Step 1**"
   ]
  },
  {
   "cell_type": "code",
   "execution_count": 3,
   "id": "ee2a83d6-1c78-4d1e-91c5-c19d2fdc1dcb",
   "metadata": {},
   "outputs": [
    {
     "name": "stdin",
     "output_type": "stream",
     "text": [
      "Give me a number?  kapa\n"
     ]
    },
    {
     "name": "stdout",
     "output_type": "stream",
     "text": [
      "You entered kapa\n"
     ]
    }
   ],
   "source": [
    "user_input = input('Give me a number? ')\n",
    "print('You entered', user_input)"
   ]
  },
  {
   "cell_type": "markdown",
   "id": "302abfe3-cb39-4f2a-bcfe-af9b6a5f6867",
   "metadata": {},
   "source": [
    "### Task"
   ]
  },
  {
   "cell_type": "code",
   "execution_count": null,
   "id": "44a8a554-6f56-4d9f-84f8-7d0445f54d89",
   "metadata": {},
   "outputs": [],
   "source": [
    "try:\n",
    "    score = int(input('Enter the student\\'s score: '))\n",
    "    if 70 <= score <= 100:\n",
    "        print('The student\\'s letter grade is: A.')\n",
    "    elif 50 <= score <= 69:\n",
    "        print('The student\\'s letter grade is: B.')\n",
    "    elif 35 <= score <= 49:\n",
    "        print('The student\\'s letter grade is: C.')\n",
    "    elif 0 <= score <= 34:\n",
    "        print('The student\\'s letter grade is: Fail.')\n",
    "    else:\n",
    "        print('Invalid input. The student\\'s score must be between 0 - 100.')\n",
    "\n",
    "except ValueError: \n",
    "    print(\"Invalid input. Please enter an integer as a numerical grade.\")\n"
   ]
  }
 ],
 "metadata": {
  "kernelspec": {
   "display_name": "Python 3 (ipykernel)",
   "language": "python",
   "name": "python3"
  },
  "language_info": {
   "codemirror_mode": {
    "name": "ipython",
    "version": 3
   },
   "file_extension": ".py",
   "mimetype": "text/x-python",
   "name": "python",
   "nbconvert_exporter": "python",
   "pygments_lexer": "ipython3",
   "version": "3.11.5"
  },
  "toc": {
   "base_numbering": 1,
   "nav_menu": {},
   "number_sections": true,
   "sideBar": true,
   "skip_h1_title": false,
   "title_cell": "Table of Contents",
   "title_sidebar": "Contents",
   "toc_cell": false,
   "toc_position": {},
   "toc_section_display": true,
   "toc_window_display": false
  },
  "vscode": {
   "interpreter": {
    "hash": "31f2aee4e71d21fbe5cf8b01ff0e069b9275f58929596ceb00d14d90e3e16cd6"
   }
  }
 },
 "nbformat": 4,
 "nbformat_minor": 5
}
