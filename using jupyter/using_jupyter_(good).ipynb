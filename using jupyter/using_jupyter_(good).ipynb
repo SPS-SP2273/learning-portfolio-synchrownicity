{
 "cells": [
  {
   "cell_type": "markdown",
   "id": "123456",
   "metadata": {},
   "source": [
    "<div style=\"text-align:left;font-size:2em\"><span style=\"font-weight:bolder;font-size:1.25em\">SP2273 | Learning Portfolio</span><br><br><span style=\"font-weight:bold;color:darkred\">Using Jupyter (Good)</span></div>"
   ]
  },
  {
   "cell_type": "markdown",
   "id": "71c92e2e",
   "metadata": {},
   "source": [
    "# What to expect in this chapter"
   ]
  },
  {
   "cell_type": "markdown",
   "id": "5a3d495c",
   "metadata": {},
   "source": [
    "# 1 Some tips and tricks"
   ]
  },
  {
   "cell_type": "markdown",
   "id": "76b1b3a4-95c6-4f08-b322-db733dff0e55",
   "metadata": {},
   "source": [
    "## 1.1 Keyboard Shortcuts\n",
    "\n",
    "### Things to note\n",
    "\n",
    "To merge cells, press shift, select all cells by hovering over the blue line on the left, then press M\n",
    "\n",
    "To clear output of all cells: check under Edit tab above.\n",
    "\n",
    "**Commands of Note:**\n",
    "1. Run Cell: Ctrl + Enter\n",
    "2. Run Cell and Go To Next: Shift + Enter\n",
    "3. Convert to Code: Esc + Y\n",
    "4. Convert to Markdown: Esc + M\n",
    "5. Create New Cell: Esc + A (Above), Esc + B (Below)\n",
    "6. Copy Cell: Esc + C\n",
    "7. Paste Cell: Esc + V\n",
    "8. Delete Cell: Esc + D + D\n",
    "9. Show Shortcuts: Esc + H\n"
   ]
  },
  {
   "cell_type": "markdown",
   "id": "c94b0ab9",
   "metadata": {},
   "source": [
    "## 1.2 Shell commands"
   ]
  },
  {
   "cell_type": "code",
   "execution_count": 1,
   "id": "8e3a5532-cbe0-4dc0-99f7-960c48bc743d",
   "metadata": {},
   "outputs": [
    {
     "name": "stdout",
     "output_type": "stream",
     "text": [
      "C:\\Users\\yeo_j\\Documents\\GitHub\\learning-portfolio-synchrownicity\\using jupyter\n"
     ]
    }
   ],
   "source": [
    "!cd"
   ]
  },
  {
   "cell_type": "code",
   "execution_count": 2,
   "id": "d11e25c9-333e-4d23-9c21-fdb9351eed71",
   "metadata": {},
   "outputs": [
    {
     "name": "stdout",
     "output_type": "stream",
     "text": [
      " Volume in drive C is Acer\n",
      " Volume Serial Number is C8DB-BDEB\n",
      "\n",
      " Directory of C:\\Users\\yeo_j\\Documents\\GitHub\\learning-portfolio-synchrownicity\\using jupyter\n",
      "\n",
      "22/01/2024  08:43 am    <DIR>          .\n",
      "22/01/2024  08:02 am    <DIR>          ..\n",
      "19/01/2024  04:20 pm    <DIR>          .ipynb_checkpoints\n",
      "22/01/2024  08:43 am             3,361 using_jupyter_(good).ipynb\n",
      "19/01/2024  04:57 pm             7,510 using_jupyter_(need).ipynb\n",
      "               2 File(s)         10,871 bytes\n",
      "               3 Dir(s)  933,836,685,312 bytes free\n"
     ]
    }
   ],
   "source": [
    "!dir"
   ]
  },
  {
   "cell_type": "markdown",
   "id": "a2fe4cf4",
   "metadata": {},
   "source": [
    "# 2 Jupyter Extensions"
   ]
  },
  {
   "cell_type": "markdown",
   "id": "9fd0a8e1",
   "metadata": {},
   "source": [
    "## 2.1 Installing the extensions"
   ]
  },
  {
   "cell_type": "markdown",
   "id": "157a5b98",
   "metadata": {},
   "source": [
    "## 2.2 Enabling the extensions"
   ]
  },
  {
   "cell_type": "markdown",
   "id": "215e0002",
   "metadata": {},
   "source": [
    "# 3 Shell Magic"
   ]
  },
  {
   "cell_type": "code",
   "execution_count": 5,
   "id": "504a2f31",
   "metadata": {},
   "outputs": [
    {
     "name": "stdout",
     "output_type": "stream",
     "text": [
      "50.3 ns ± 1.14 ns per loop (mean ± std. dev. of 7 runs, 10,000,000 loops each)\n"
     ]
    }
   ],
   "source": [
    "%%timeit\n",
    "x=10\n",
    "y=10\n",
    "z=10\n",
    "\n",
    "#one % for the same line, two % for a code block"
   ]
  },
  {
   "cell_type": "markdown",
   "id": "d80f6f7e",
   "metadata": {},
   "source": [
    "# 4 The Kernel"
   ]
  },
  {
   "cell_type": "markdown",
   "id": "644a6c87",
   "metadata": {},
   "source": [
    "# 5 EX"
   ]
  },
  {
   "cell_type": "markdown",
   "id": "7500b793-f63a-45bb-bd78-0a18a9036bb3",
   "metadata": {},
   "source": [
    "#### **Summary of Using Jupyter (Good)**"
   ]
  }
 ],
 "metadata": {
  "kernelspec": {
   "display_name": "Python 3 (ipykernel)",
   "language": "python",
   "name": "python3"
  },
  "language_info": {
   "codemirror_mode": {
    "name": "ipython",
    "version": 3
   },
   "file_extension": ".py",
   "mimetype": "text/x-python",
   "name": "python",
   "nbconvert_exporter": "python",
   "pygments_lexer": "ipython3",
   "version": "3.11.5"
  },
  "toc": {
   "base_numbering": 1,
   "nav_menu": {},
   "number_sections": true,
   "sideBar": true,
   "skip_h1_title": false,
   "title_cell": "Table of Contents",
   "title_sidebar": "Contents",
   "toc_cell": false,
   "toc_position": {},
   "toc_section_display": true,
   "toc_window_display": false
  },
  "varInspector": {
   "cols": {
    "lenName": 16,
    "lenType": 16,
    "lenVar": 40
   },
   "kernels_config": {
    "python": {
     "delete_cmd_postfix": "",
     "delete_cmd_prefix": "del ",
     "library": "var_list.py",
     "varRefreshCmd": "print(var_dic_list())"
    },
    "r": {
     "delete_cmd_postfix": ") ",
     "delete_cmd_prefix": "rm(",
     "library": "var_list.r",
     "varRefreshCmd": "cat(var_dic_list()) "
    }
   },
   "types_to_exclude": [
    "module",
    "function",
    "builtin_function_or_method",
    "instance",
    "_Feature"
   ],
   "window_display": false
  },
  "vscode": {
   "interpreter": {
    "hash": "31f2aee4e71d21fbe5cf8b01ff0e069b9275f58929596ceb00d14d90e3e16cd6"
   }
  }
 },
 "nbformat": 4,
 "nbformat_minor": 5
}
