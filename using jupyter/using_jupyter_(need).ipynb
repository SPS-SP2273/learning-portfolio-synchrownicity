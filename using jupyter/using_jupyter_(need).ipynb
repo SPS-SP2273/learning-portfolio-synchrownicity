{
 "cells": [
  {
   "attachments": {},
   "cell_type": "markdown",
   "id": "123456",
   "metadata": {},
   "source": [
    "<div style=\"text-align:left;font-size:2em\"><span style=\"font-weight:bolder;font-size:1.25em\">SP2273 | Learning Portfolio</span><br><br><span style=\"font-weight:bold;color:darkred\">Using Jupyter (Need)</span></div>"
   ]
  },
  {
   "attachments": {},
   "cell_type": "markdown",
   "id": "f528dc3a",
   "metadata": {},
   "source": [
    "# What to expect in this chapter"
   ]
  },
  {
   "attachments": {},
   "cell_type": "markdown",
   "id": "5322dc37",
   "metadata": {},
   "source": [
    "# Getting ready"
   ]
  },
  {
   "attachments": {},
   "cell_type": "markdown",
   "id": "60b5ca4c",
   "metadata": {},
   "source": [
    "#  Getting started with Jupyter"
   ]
  },
  {
   "attachments": {},
   "cell_type": "markdown",
   "id": "32ef2892",
   "metadata": {},
   "source": [
    "## It is all about running cells"
   ]
  },
  {
   "attachments": {},
   "cell_type": "markdown",
   "id": "e7da6004",
   "metadata": {},
   "source": [
    "##  A traditional start"
   ]
  },
  {
   "cell_type": "code",
   "execution_count": 1,
   "id": "064e54c9-85c5-4183-b49b-3cc36b22c615",
   "metadata": {},
   "outputs": [
    {
     "name": "stdout",
     "output_type": "stream",
     "text": [
      "Hello World\n"
     ]
    }
   ],
   "source": [
    "print(\"Hello World\")"
   ]
  },
  {
   "attachments": {},
   "cell_type": "markdown",
   "id": "926ea3af",
   "metadata": {},
   "source": [
    "# All about Markdown"
   ]
  },
  {
   "attachments": {},
   "cell_type": "markdown",
   "id": "e098b2ed",
   "metadata": {},
   "source": [
    "## Rendering Markdown cells"
   ]
  },
  {
   "cell_type": "markdown",
   "id": "f22ca148-d6a3-48ab-a3e7-e2dd9be85681",
   "metadata": {},
   "source": [
    "The ships hung in the sky in much the same way that bricks don't."
   ]
  },
  {
   "attachments": {},
   "cell_type": "markdown",
   "id": "16918c65",
   "metadata": {},
   "source": [
    "## Some basic syntax"
   ]
  },
  {
   "cell_type": "markdown",
   "id": "ef4c7153-8800-40a6-a195-020872b931e9",
   "metadata": {},
   "source": [
    "The ships *hung in the sky* in much the same way that **bricks don't.** <sup>1</sup><sub>QUOTE</sub>"
   ]
  },
  {
   "attachments": {},
   "cell_type": "markdown",
   "id": "1e95455b",
   "metadata": {},
   "source": [
    "## Headings"
   ]
  },
  {
   "cell_type": "markdown",
   "id": "37db154d-f6ed-493a-843f-4624b8034d11",
   "metadata": {},
   "source": [
    "# The largest heading\n",
    "## The second-largest heading\n",
    "### The third-largest heading\n",
    "#### The smallest heading"
   ]
  },
  {
   "attachments": {},
   "cell_type": "markdown",
   "id": "251800ba",
   "metadata": {},
   "source": [
    "## Displaying Code"
   ]
  },
  {
   "cell_type": "markdown",
   "id": "eea510b6-8256-46e5-89fc-8187d39a9837",
   "metadata": {},
   "source": [
    "`print('Hello World)`\n",
    "\n",
    "```python\n",
    "print('Hello World')\n",
    "```"
   ]
  },
  {
   "attachments": {},
   "cell_type": "markdown",
   "id": "6a41d40c",
   "metadata": {},
   "source": [
    "## Links"
   ]
  },
  {
   "cell_type": "markdown",
   "id": "7edf7515-29c2-4259-920c-d6402bcda26f",
   "metadata": {},
   "source": [
    "[SP2273 Website](https://sps.nus.edu.sg/sp2273)"
   ]
  },
  {
   "attachments": {},
   "cell_type": "markdown",
   "id": "573d8a5d",
   "metadata": {},
   "source": [
    "## Images"
   ]
  },
  {
   "cell_type": "markdown",
   "id": "ce3748e4-4b3c-4973-a936-b65c69985e9d",
   "metadata": {},
   "source": [
    "![](https://nus.edu.sg/images/default-source/base/logo.png)"
   ]
  },
  {
   "attachments": {},
   "cell_type": "markdown",
   "id": "a5831209",
   "metadata": {},
   "source": [
    "## Tables"
   ]
  },
  {
   "cell_type": "markdown",
   "id": "0255040e-f3ab-44d5-83f4-75c79d4cc777",
   "metadata": {},
   "source": [
    "| A    |  B   |    C |\r\n",
    "| :--- | :--: | ---: |\r\n",
    "| a1   |  b1  |   c1 |\r\n",
    "| a2   |  b2  |   c2 |\r\n",
    "| a3   |  b3  |   \n",
    "\n",
    "\n",
    "Colons tell us to left justify (:---), right justify (---:) or middle justify (:--:).\n",
    "<br> Use Table Generator to format Excel tables onto Jupyter notebook.c3 |"
   ]
  },
  {
   "attachments": {},
   "cell_type": "markdown",
   "id": "95488304",
   "metadata": {},
   "source": [
    "## Lists"
   ]
  },
  {
   "cell_type": "markdown",
   "id": "5c7d0f3a-8b5d-4931-93fa-e693712aaaf7",
   "metadata": {},
   "source": [
    "**Numbered**\n",
    "1. Master Yoda\n",
    "2. Luke Skywalker\n",
    "3. Anakin Skywalker\n",
    "\n",
    "**Unnumbered**\n",
    "- Master Yoda\n",
    "- Luke Skywalker\n",
    "- Anakin Skywalker\n",
    "\n",
    "**Numbered-Numbered**\n",
    "1. Master Yoda\n",
    "   1. Was a Jedi\n",
    "   2. Was a bit green\n",
    "1. Luke Skywalker\n",
    "   1. Was a Jedi\n",
    "   2. Is Anakin's son.\n",
    "1. Anakin Skywalker\n",
    "   1. Was a Jedi then became a baddie\n",
    "   2. Is famous for saying 'Luke, I am your father'\n",
    "\n",
    "**Numbered-unnumbered**\n",
    "1. Master Yoda\n",
    "   - Was a Jedi\n",
    "   - Was a bit green\n",
    "2. Luke Skywalker\n",
    "   - Was Jedi\n",
    "   - Is Anakin's son.\n",
    "3. Anakin Skywalker\n",
    "   - Was a Jedi then, became a baddie\n",
    "   - Is famous for saying, _'Luke, I am your father'_.\n"
   ]
  },
  {
   "attachments": {},
   "cell_type": "markdown",
   "id": "69a599d5",
   "metadata": {},
   "source": [
    "## Equations"
   ]
  },
  {
   "cell_type": "markdown",
   "id": "f2670f0f-8d54-4299-bd8c-5813616d856c",
   "metadata": {},
   "source": [
    "$\\sqrt{b^2-4ac}$\n",
    "\n",
    "$$\n",
    "x = \\dfrac{-b \\pm \\sqrt{b^2-4ac}}{2a}\n",
    "$$\n",
    "\n",
    "Equations can be used to display:\n",
    "- Fractions\n",
    "- Subscript\n",
    "- Power and Sqaureroots\n",
    "- Sums and Integrals\n",
    "- Inequality Symbols\n",
    "- Greek Letters"
   ]
  },
  {
   "attachments": {},
   "cell_type": "markdown",
   "id": "6f906792",
   "metadata": {},
   "source": [
    "## Footnotes"
   ]
  },
  {
   "cell_type": "markdown",
   "id": "d9007b25-c8d5-4ce5-9e9c-8f08702bed86",
   "metadata": {},
   "source": [
    "Jupyter can show multiple cursors. Simply hold ctrl with each cursor click to render multiple cursors.\n",
    "<br> Typora to use markdown"
   ]
  },
  {
   "cell_type": "markdown",
   "id": "de218ae8-fff2-4f05-b6f4-bc42db838d1c",
   "metadata": {},
   "source": [
    "This is a ^[footnote]"
   ]
  },
  {
   "cell_type": "markdown",
   "id": "0037fe3a-adea-41bd-a7b1-874c206bdab3",
   "metadata": {},
   "source": [
    "#### **Summary (Using Jupyter (Need))**"
   ]
  }
 ],
 "metadata": {
  "kernelspec": {
   "display_name": "Python 3 (ipykernel)",
   "language": "python",
   "name": "python3"
  },
  "language_info": {
   "codemirror_mode": {
    "name": "ipython",
    "version": 3
   },
   "file_extension": ".py",
   "mimetype": "text/x-python",
   "name": "python",
   "nbconvert_exporter": "python",
   "pygments_lexer": "ipython3",
   "version": "3.11.5"
  },
  "toc": {
   "base_numbering": 1,
   "nav_menu": {},
   "number_sections": true,
   "sideBar": true,
   "skip_h1_title": false,
   "title_cell": "Table of Contents",
   "title_sidebar": "Contents",
   "toc_cell": false,
   "toc_position": {},
   "toc_section_display": true,
   "toc_window_display": false
  },
  "vscode": {
   "interpreter": {
    "hash": "31f2aee4e71d21fbe5cf8b01ff0e069b9275f58929596ceb00d14d90e3e16cd6"
   }
  }
 },
 "nbformat": 4,
 "nbformat_minor": 5
}
