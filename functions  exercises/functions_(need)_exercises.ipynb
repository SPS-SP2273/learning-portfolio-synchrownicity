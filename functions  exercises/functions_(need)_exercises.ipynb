{
 "cells": [
  {
   "attachments": {},
   "cell_type": "markdown",
   "id": "123456",
   "metadata": {},
   "source": [
    "<div style=\"text-align:left;font-size:2em\"><span style=\"font-weight:bolder;font-size:1.25em\">SP2273 | Learning Portfolio</span><br><br><span style=\"font-weight:bold;color:darkred\">Functions (Need) Exercises</span></div>"
   ]
  },
  {
   "cell_type": "markdown",
   "id": "37afb2f1-ce83-49b9-b82f-b89a0d515d49",
   "metadata": {},
   "source": [
    "#### **Exercise 1 (Do you know why?)**"
   ]
  },
  {
   "cell_type": "code",
   "execution_count": 18,
   "id": "cdafc7aa-9739-49a5-b04a-304881337ec4",
   "metadata": {},
   "outputs": [
    {
     "data": {
      "text/plain": [
       "'Hello hell yea!'"
      ]
     },
     "execution_count": 18,
     "metadata": {},
     "output_type": "execute_result"
    }
   ],
   "source": [
    "# The following code works as expected depsite not having an else statement.\n",
    "def greeting(name):\n",
    "    if name == 'Batman':\n",
    "        return 'Hello Batman! So, nice to meet you!'\n",
    "    return f'Hello {name}!'\n",
    "\n",
    "greeting('hell yea')"
   ]
  },
  {
   "cell_type": "markdown",
   "id": "feedeab2-88e9-47c3-8e40-8de0a84367e8",
   "metadata": {},
   "source": [
    "Even without an `else` statement, Python understands that any `name` variable that is not `'Batman'` will run the second return statement `f'Hello {name}!'` because the value of name does not satisfy the `if` statement above. Thus, since order of code matters to Python, Python will ignore the `if` statement, and move on to the second `return` statement."
   ]
  },
  {
   "cell_type": "markdown",
   "id": "6404c2e6-c4b5-4c9f-87ee-14264c9224f7",
   "metadata": {},
   "source": [
    "#### **Exercise 2 (Chubby or not)**"
   ]
  },
  {
   "cell_type": "code",
   "execution_count": 2,
   "id": "8b31dc65-6108-4d8d-99e7-c210f453984d",
   "metadata": {},
   "outputs": [
    {
     "data": {
      "text/plain": [
       "'Normal weight'"
      ]
     },
     "execution_count": 2,
     "metadata": {},
     "output_type": "execute_result"
    }
   ],
   "source": [
    "def calculate_bmi(weight, height):\n",
    "    if height <= 0 or weight <= 0:\n",
    "        print(\"Height and Weight must be positive.\")\n",
    "    else:\n",
    "        bmi = weight / (height ** 2)\n",
    "        if bmi < 18.5:\n",
    "            return 'Underweight'\n",
    "        elif 18.5 <= bmi < 25:\n",
    "            return 'Normal weight'\n",
    "        elif 25 <= bmi < 30:\n",
    "            return 'Overweight'\n",
    "        elif bmi >= 30:\n",
    "            return 'Obesity'\n",
    "\n",
    "calculate_bmi(18.5, 1)"
   ]
  },
  {
   "cell_type": "markdown",
   "id": "6862915f-fd16-4a44-8d6c-271947e26658",
   "metadata": {},
   "source": [
    "#### **~ End of Functions (Exercises) ~**"
   ]
  }
 ],
 "metadata": {
  "kernelspec": {
   "display_name": "Python 3 (ipykernel)",
   "language": "python",
   "name": "python3"
  },
  "language_info": {
   "codemirror_mode": {
    "name": "ipython",
    "version": 3
   },
   "file_extension": ".py",
   "mimetype": "text/x-python",
   "name": "python",
   "nbconvert_exporter": "python",
   "pygments_lexer": "ipython3",
   "version": "3.11.5"
  },
  "toc": {
   "base_numbering": 1,
   "nav_menu": {},
   "number_sections": true,
   "sideBar": true,
   "skip_h1_title": false,
   "title_cell": "Table of Contents",
   "title_sidebar": "Contents",
   "toc_cell": false,
   "toc_position": {},
   "toc_section_display": true,
   "toc_window_display": false
  },
  "vscode": {
   "interpreter": {
    "hash": "31f2aee4e71d21fbe5cf8b01ff0e069b9275f58929596ceb00d14d90e3e16cd6"
   }
  }
 },
 "nbformat": 4,
 "nbformat_minor": 5
}
