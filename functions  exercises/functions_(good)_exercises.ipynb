{
 "cells": [
  {
   "attachments": {},
   "cell_type": "markdown",
   "id": "123456",
   "metadata": {},
   "source": [
    "<div style=\"text-align:left;font-size:2em\"><span style=\"font-weight:bolder;font-size:1.25em\">SP2273 | Learning Portfolio</span><br><br><span style=\"font-weight:bold;color:darkred\">Functions (Good) Exercises</span></div>"
   ]
  },
  {
   "cell_type": "markdown",
   "id": "cafd3dde-3e49-441f-97a0-148255a97d45",
   "metadata": {},
   "source": [
    "#### **Exercise 1 (Celsius to Fahrenheit or Kelvin)**"
   ]
  },
  {
   "cell_type": "code",
   "execution_count": 21,
   "id": "44e453d5-da05-458b-811d-d6300d933757",
   "metadata": {},
   "outputs": [
    {
     "data": {
      "text/plain": [
       "35.6"
      ]
     },
     "execution_count": 21,
     "metadata": {},
     "output_type": "execute_result"
    }
   ],
   "source": [
    "def convert_celsius(temperature_celsius, target_scale):\n",
    "    try:\n",
    "        if target_scale == 'Fahrenheit':\n",
    "            return (temperature_celsius*9/5) + 32\n",
    "        elif target_scale == 'Kelvin':\n",
    "            return temperature_celsius + 273.15\n",
    "        else:\n",
    "            print('That is not a valid target scale!')\n",
    "    except:\n",
    "        print('That is not a valid temperature!')\n",
    "\n",
    "convert_celsius(2, \"Fahrenheit\")"
   ]
  },
  {
   "cell_type": "markdown",
   "id": "86308b5b-90fe-49f4-8627-dd280158983e",
   "metadata": {},
   "source": [
    "#### **Exercise 2 (Fahrenheit to Celsius or Kelvin)**"
   ]
  },
  {
   "cell_type": "code",
   "execution_count": 20,
   "id": "67750d07-5d65-4879-a11f-52275c0e3cf0",
   "metadata": {},
   "outputs": [
    {
     "data": {
      "text/plain": [
       "269.26111111111106"
      ]
     },
     "execution_count": 20,
     "metadata": {},
     "output_type": "execute_result"
    }
   ],
   "source": [
    "def convert_fahrenheit(temperature_fahrenheit, target_scale):\n",
    "    try:\n",
    "        if target_scale == 'Celsius':\n",
    "            return (temperature_fahrenheit - 32) * 5/9\n",
    "        elif target_scale == 'Kelvin':\n",
    "            return ((temperature_fahrenheit - 32) * 5/9) + 273.15\n",
    "        else:\n",
    "            print('That is not a valid target scale!')\n",
    "    except:\n",
    "        print('That is not a valid temperature!')\n",
    "\n",
    "convert_fahrenheit(25, \"Kelvin\")"
   ]
  }
 ],
 "metadata": {
  "kernelspec": {
   "display_name": "Python 3 (ipykernel)",
   "language": "python",
   "name": "python3"
  },
  "language_info": {
   "codemirror_mode": {
    "name": "ipython",
    "version": 3
   },
   "file_extension": ".py",
   "mimetype": "text/x-python",
   "name": "python",
   "nbconvert_exporter": "python",
   "pygments_lexer": "ipython3",
   "version": "3.11.5"
  },
  "toc": {
   "base_numbering": 1,
   "nav_menu": {},
   "number_sections": true,
   "sideBar": true,
   "skip_h1_title": false,
   "title_cell": "Table of Contents",
   "title_sidebar": "Contents",
   "toc_cell": false,
   "toc_position": {},
   "toc_section_display": true,
   "toc_window_display": false
  },
  "vscode": {
   "interpreter": {
    "hash": "31f2aee4e71d21fbe5cf8b01ff0e069b9275f58929596ceb00d14d90e3e16cd6"
   }
  }
 },
 "nbformat": 4,
 "nbformat_minor": 5
}
