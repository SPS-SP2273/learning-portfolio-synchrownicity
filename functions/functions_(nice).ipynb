{
 "cells": [
  {
   "attachments": {},
   "cell_type": "markdown",
   "id": "123456",
   "metadata": {},
   "source": [
    "<div style=\"text-align:left;font-size:2em\"><span style=\"font-weight:bolder;font-size:1.25em\">SP2273 | Learning Portfolio</span><br><br><span style=\"font-weight:bold;color:darkred\">Functions (Nice)</span></div>"
   ]
  },
  {
   "attachments": {},
   "cell_type": "markdown",
   "id": "0b2eec6d",
   "metadata": {},
   "source": [
    "# 1 Modularise and reuse"
   ]
  },
  {
   "attachments": {},
   "cell_type": "markdown",
   "id": "680adae2",
   "metadata": {},
   "source": [
    "# 2 The many ways to pass arguments"
   ]
  },
  {
   "attachments": {},
   "cell_type": "markdown",
   "id": "e7718234",
   "metadata": {},
   "source": [
    "## 2.1 *args & **kwarg"
   ]
  },
  {
   "cell_type": "markdown",
   "id": "ea7f77fe-921d-488c-b870-dcfe44303ec0",
   "metadata": {},
   "source": [
    "`*args` stand for **arguments** and `**kwarg` stands for **keyword arguments**. They allow one flexible ways of using unpacking and dictionaries to pass information to functions."
   ]
  },
  {
   "attachments": {},
   "cell_type": "markdown",
   "id": "3f6e4684",
   "metadata": {},
   "source": [
    "### *args"
   ]
  },
  {
   "cell_type": "code",
   "execution_count": 1,
   "id": "6a94a44b-8f63-4935-a9c1-adf50909de38",
   "metadata": {},
   "outputs": [
    {
     "data": {
      "text/plain": [
       "12"
      ]
     },
     "execution_count": 1,
     "metadata": {},
     "output_type": "execute_result"
    }
   ],
   "source": [
    "# *args\n",
    "# Unpacking can help in passing arguments to functions. The * is essential in doing so.\n",
    "# Without the *, Python will assign x = numbers and complain that y is missing.\n",
    "\n",
    "# Example 1\n",
    "def multiply(x, y):\n",
    "    return x*y\n",
    "numbers = [3, 4]\n",
    "multiply(*numbers)\n"
   ]
  },
  {
   "cell_type": "code",
   "execution_count": 4,
   "id": "e4cdb574-9be7-4b31-aefc-86f9f69ee0bf",
   "metadata": {},
   "outputs": [
    {
     "name": "stdout",
     "output_type": "stream",
     "text": [
      "48\n",
      "120\n"
     ]
    }
   ],
   "source": [
    "# Example 2 (Multipliation of Multiple Numbers)\n",
    "def multiply(*args):\n",
    "    result = 1\n",
    "    for number in args:\n",
    "        result *= number\n",
    "    return result\n",
    "\n",
    "numbers = [2, 4, 6]\n",
    "print(multiply(*numbers))\n",
    "\n",
    "print(multiply(1, 2, 3, 4, 5))"
   ]
  },
  {
   "attachments": {},
   "cell_type": "markdown",
   "id": "d7ff4bca",
   "metadata": {},
   "source": [
    "### **kwargs"
   ]
  },
  {
   "cell_type": "code",
   "execution_count": 5,
   "id": "dbe3eac6-6b49-444d-b90d-529d667d99e2",
   "metadata": {},
   "outputs": [
    {
     "data": {
      "text/plain": [
       "40"
      ]
     },
     "execution_count": 5,
     "metadata": {},
     "output_type": "execute_result"
    }
   ],
   "source": [
    "# **kwargs\n",
    "# Using a dictionary, we can pass keyword arguments. The ** is essential.\n",
    "\n",
    "# Example 1\n",
    "def multiply(x, y, z):\n",
    "    return x * y * z\n",
    "\n",
    "numbers = {'x': 1, 'y': 5, 'z': 8}\n",
    "multiply(**numbers)"
   ]
  },
  {
   "cell_type": "code",
   "execution_count": 6,
   "id": "c2baf787-17b9-45d1-965a-c50ea7118259",
   "metadata": {},
   "outputs": [
    {
     "data": {
      "text/plain": [
       "800"
      ]
     },
     "execution_count": 6,
     "metadata": {},
     "output_type": "execute_result"
    }
   ],
   "source": [
    "# Example 2\n",
    "# We can mix positional arguments and a dictionary.\n",
    "\n",
    "numbers = {'y': 10, 'z': 20}\n",
    "multiply(4, **numbers)"
   ]
  },
  {
   "attachments": {},
   "cell_type": "markdown",
   "id": "cff3d15d",
   "metadata": {},
   "source": [
    "# 3 Gotchas with passing variables to functions"
   ]
  },
  {
   "attachments": {},
   "cell_type": "markdown",
   "id": "e8ed303c",
   "metadata": {},
   "source": [
    "## 3.1 The Problem"
   ]
  },
  {
   "cell_type": "markdown",
   "id": "0a7db014-898f-41ce-ad3d-37881fbc7951",
   "metadata": {},
   "source": [
    "Using functions to modularise one's code is good. However, one needs to be careful with the type of variables that you pass as arguments. "
   ]
  },
  {
   "cell_type": "code",
   "execution_count": 9,
   "id": "edb56fd3-fe2d-492d-944d-358da10be6e6",
   "metadata": {},
   "outputs": [
    {
     "name": "stdout",
     "output_type": "stream",
     "text": [
      "BEFORE|\tNumber: 20, Array: [20], List: [20]\n",
      "Doing something!\n",
      "AFTER|\tNumber: 20, Array: [40], List: [20, 20]\n"
     ]
    }
   ],
   "source": [
    "import numpy as np\n",
    "\n",
    "def do_something(inside_number, inside_array, inside_list):\n",
    "    print('Doing something!')\n",
    "    inside_number *= 2\n",
    "    inside_array *= 2\n",
    "    inside_list *= 2\n",
    "\n",
    "outside_number=20\n",
    "outside_array=np.array([20])\n",
    "outside_list=[20]\n",
    "\n",
    "print(f\"BEFORE|\\tNumber: {outside_number}, Array: {outside_array}, List: {outside_list}\")\n",
    "do_something(outside_number, outside_list, outside_array)\n",
    "print(f\"AFTER|\\tNumber: {outside_number}, Array: {outside_array}, List: {outside_list}\")\n",
    "\n",
    "# The function has changed the values of some variable outside the function.\n",
    "# But not all variables are affected."
   ]
  },
  {
   "attachments": {},
   "cell_type": "markdown",
   "id": "af408cbc",
   "metadata": {},
   "source": [
    "## 3.2 An Explanation"
   ]
  },
  {
   "cell_type": "markdown",
   "id": "cd74418b-e3c5-4094-8357-16dd30c17217",
   "metadata": {},
   "source": [
    "For 'immutable' variables, what happens inside the function does **not** change the global variable. An example of this is integers / floats.; This is called **passing by value**.\n",
    "\n",
    "For 'mutable' variables, what happens inside the function **does** change the variable outside. An example of this is lists / arrays. This is called **passing by reference**.\n",
    "\n",
    "One thus needs to be careful about the *mutability of the variable* one is passing. "
   ]
  },
  {
   "attachments": {},
   "cell_type": "markdown",
   "id": "547ab052",
   "metadata": {},
   "source": [
    "# 4 There is more to exceptions"
   ]
  },
  {
   "attachments": {},
   "cell_type": "markdown",
   "id": "f6318ab6",
   "metadata": {},
   "source": [
    "## 4.1 A list of exceptions"
   ]
  },
  {
   "cell_type": "markdown",
   "id": "8b1dded3-1b77-480f-8465-56576d1c1aac",
   "metadata": {},
   "source": [
    "**Exhaustive List of Exceptions**\n",
    "1. AssertionError: Raised when the assert statement fails.\n",
    "2. AttributeError: Raised when the attribute or reference fails.\n",
    "3. FloatingPointError: Raised when a floating point operation fails.\n",
    "4. IndexError: Raised when the index of a sequence is out of range.\n",
    "5. KeyError: Raised when a key is not in a dictionary\n",
    "6. NameError: Raised when a variable is not found in local / global scope.\n",
    "7. SyntaxError: Raised by the paraser when a syntax error is occurred.\n",
    "8. TypeError: Raised when a function / operation is applied to an object of incorrect type.\n",
    "9. ValueError: Raised when a function gets an argument of correct type by improper value.\n",
    "10. ZeroDivisionError: Raised when the second operand of a division or module operation is zero."
   ]
  },
  {
   "attachments": {},
   "cell_type": "markdown",
   "id": "d348adf8",
   "metadata": {},
   "source": [
    "## 4.2 Handling specific exceptions"
   ]
  },
  {
   "cell_type": "code",
   "execution_count": 10,
   "id": "b2f3d635-1146-445c-969e-66af9aefde96",
   "metadata": {},
   "outputs": [
    {
     "name": "stdin",
     "output_type": "stream",
     "text": [
      "Give me a number and I will calculate its square. ala\n"
     ]
    },
    {
     "name": "stdout",
     "output_type": "stream",
     "text": [
      "Oh oh! I cannot square ala!\n"
     ]
    }
   ],
   "source": [
    "try:\n",
    "    number=input(\"Give me a number and I will calculate its square.\")\n",
    "    square=int(number)**2\n",
    "    print(f'The square of {number} is {square}!')\n",
    "except ValueError:  # specifies the type of error\n",
    "    print(f\"Oh oh! I cannot square {number}!\")\n"
   ]
  },
  {
   "attachments": {},
   "cell_type": "markdown",
   "id": "3ba8caaa",
   "metadata": {},
   "source": [
    "## 4.3 try also has an else"
   ]
  },
  {
   "cell_type": "code",
   "execution_count": 11,
   "id": "9ab09a9e-e61e-4210-be30-57a50b486991",
   "metadata": {},
   "outputs": [
    {
     "name": "stdin",
     "output_type": "stream",
     "text": [
      "Give me a number and I will calculate its square. 3\n"
     ]
    },
    {
     "name": "stdout",
     "output_type": "stream",
     "text": [
      "The square of 3 is 9!\n",
      "Yeah! Things ran without a problem!\n"
     ]
    }
   ],
   "source": [
    "# The 'else' block in try-except statements will only run if everything works smoothly.\n",
    "\n",
    "try:\n",
    "    number=input(\"Give me a number and I will calculate its square.\")\n",
    "    square=int(number)**2\n",
    "    print(f'The square of {number} is {square}!')\n",
    "except ValueError:\n",
    "    print(f\"Oh oh! I cannot square {number}!\")\n",
    "else:\n",
    "    print('Yeah! Things ran without a problem!')"
   ]
  },
  {
   "attachments": {},
   "cell_type": "markdown",
   "id": "5fd48901",
   "metadata": {},
   "source": [
    "# Exercises"
   ]
  },
  {
   "cell_type": "code",
   "execution_count": null,
   "id": "67a34d6d",
   "metadata": {},
   "outputs": [],
   "source": [
    "# Your solution here"
   ]
  },
  {
   "attachments": {},
   "cell_type": "markdown",
   "id": "1a89f775",
   "metadata": {},
   "source": [
    "## Footnotes"
   ]
  }
 ],
 "metadata": {
  "kernelspec": {
   "display_name": "Python 3 (ipykernel)",
   "language": "python",
   "name": "python3"
  },
  "language_info": {
   "codemirror_mode": {
    "name": "ipython",
    "version": 3
   },
   "file_extension": ".py",
   "mimetype": "text/x-python",
   "name": "python",
   "nbconvert_exporter": "python",
   "pygments_lexer": "ipython3",
   "version": "3.11.5"
  },
  "toc": {
   "base_numbering": 1,
   "nav_menu": {},
   "number_sections": true,
   "sideBar": true,
   "skip_h1_title": false,
   "title_cell": "Table of Contents",
   "title_sidebar": "Contents",
   "toc_cell": false,
   "toc_position": {},
   "toc_section_display": true,
   "toc_window_display": false
  },
  "vscode": {
   "interpreter": {
    "hash": "31f2aee4e71d21fbe5cf8b01ff0e069b9275f58929596ceb00d14d90e3e16cd6"
   }
  }
 },
 "nbformat": 4,
 "nbformat_minor": 5
}
