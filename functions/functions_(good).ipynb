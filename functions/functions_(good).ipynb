{
 "cells": [
  {
   "attachments": {},
   "cell_type": "markdown",
   "id": "123456",
   "metadata": {},
   "source": [
    "<div style=\"text-align:left;font-size:2em\"><span style=\"font-weight:bolder;font-size:1.25em\">SP2273 | Learning Portfolio</span><br><br><span style=\"font-weight:bold;color:darkred\">Functions (Good)</span></div>"
   ]
  },
  {
   "attachments": {},
   "cell_type": "markdown",
   "id": "516a38c0",
   "metadata": {},
   "source": [
    "# What to expect in this chapter"
   ]
  },
  {
   "attachments": {},
   "cell_type": "markdown",
   "id": "cb22988b",
   "metadata": {},
   "source": [
    "# 1 Checks, balances, and contingencies"
   ]
  },
  {
   "cell_type": "markdown",
   "id": "da36e2e4-df4c-4b93-a600-fc6caf9e5f96",
   "metadata": {},
   "source": [
    "Having checks, balances and contingencies in the code is a good idea as one cannot think of everything that can go wrong. \n",
    "\n",
    "There are two ways Python allows one to incorporate checks: `assert` and `try-except`."
   ]
  },
  {
   "attachments": {},
   "cell_type": "markdown",
   "id": "0314fed3",
   "metadata": {},
   "source": [
    "## 1.1 assert"
   ]
  },
  {
   "cell_type": "code",
   "execution_count": 4,
   "id": "fca9d790-9262-4636-a602-7196ad6cdd9c",
   "metadata": {},
   "outputs": [
    {
     "ename": "AssertionError",
     "evalue": "x is becoming negative!",
     "output_type": "error",
     "traceback": [
      "\u001b[1;31m---------------------------------------------------------------------------\u001b[0m",
      "\u001b[1;31mAssertionError\u001b[0m                            Traceback (most recent call last)",
      "Cell \u001b[1;32mIn[4], line 13\u001b[0m\n\u001b[0;32m      9\u001b[0m \u001b[38;5;66;03m# The program will run for as long as the condition is True. If it fails, then an\u001b[39;00m\n\u001b[0;32m     10\u001b[0m \u001b[38;5;66;03m# AssertaitionError is raised, and the program stops running.\u001b[39;00m\n\u001b[0;32m     12\u001b[0m x \u001b[38;5;241m=\u001b[39m \u001b[38;5;241m-\u001b[39m\u001b[38;5;241m1\u001b[39m\n\u001b[1;32m---> 13\u001b[0m \u001b[38;5;28;01massert\u001b[39;00m x \u001b[38;5;241m>\u001b[39m\u001b[38;5;241m=\u001b[39m \u001b[38;5;241m0\u001b[39m, \u001b[38;5;124m\"\u001b[39m\u001b[38;5;124mx is becoming negative!\u001b[39m\u001b[38;5;124m\"\u001b[39m\n\u001b[0;32m     14\u001b[0m \u001b[38;5;66;03m# The following throws an error and will stop.\u001b[39;00m\n",
      "\u001b[1;31mAssertionError\u001b[0m: x is becoming negative!"
     ]
    }
   ],
   "source": [
    "# The command assert can check a condition and halt execution if necessary. It \n",
    "# also gives the option of printing a message.\n",
    "# Syntax: assert condition-to-check, message\n",
    "\n",
    "# assert stops the flow if the condition fails. Here is an example.\n",
    "x = 10\n",
    "assert x >= 0, \"x is becoming negative!\"\n",
    "\n",
    "# The program will run for as long as the condition is True. If it fails, then an\n",
    "# AssertaitionError is raised, and the program stops running.\n",
    "\n",
    "x = -1\n",
    "assert x >= 0, \"x is becoming negative!\"\n",
    "# The following throws an error and will stop."
   ]
  },
  {
   "attachments": {},
   "cell_type": "markdown",
   "id": "7cab0be8",
   "metadata": {},
   "source": [
    "## 1.2 try-except"
   ]
  },
  {
   "cell_type": "markdown",
   "id": "b0899af8-f2e8-40af-bfb4-cafc37fc6b4c",
   "metadata": {},
   "source": [
    "The technical name for things going wrong is **exceptions**. Example: Division by zero will raise a `ZeroDivisionError`. An exception left unhandled will halt the flow of the programme. The `try-except` structure helps one catch and handle these exceptions.\n",
    "\n",
    "The `try-except` syntax helps one ensure that the programme can handle situations beyond one's control. One can use `try-except` to handle situations which the server does not respond.\n",
    "\n",
    "Looking at the example below:"
   ]
  },
  {
   "cell_type": "code",
   "execution_count": 6,
   "id": "2f1aa30a-578b-46f8-a0db-32376db161db",
   "metadata": {},
   "outputs": [
    {
     "name": "stdin",
     "output_type": "stream",
     "text": [
      "Give me a number and I will calculate its square. 2\n"
     ]
    },
    {
     "name": "stdout",
     "output_type": "stream",
     "text": [
      "The square of 2 is 4!\n"
     ]
    },
    {
     "name": "stdin",
     "output_type": "stream",
     "text": [
      "Give me a number and I will calculate its square. aaddsc\n"
     ]
    },
    {
     "name": "stdout",
     "output_type": "stream",
     "text": [
      "Oh oh! I cannot square aaddsc!\n"
     ]
    }
   ],
   "source": [
    "number = input(\"Give me a number and I will calculate its square.\")\n",
    "square = int(number) ** 2\n",
    "print(f'The square of {number} is {square}!')\n",
    "\n",
    "# The above works if an integer is added. But what if the input is not a number?\n",
    "# We can use try-except to circumvent this problem.\n",
    "\n",
    "try:\n",
    "    number = input(\"Give me a number and I will calculate its square.\")\n",
    "    square = int(number) ** 2\n",
    "    print(f'The square of {number} is {square}!')\n",
    "except:\n",
    "    print(f\"Oh oh! I cannot square {number}!\")"
   ]
  },
  {
   "attachments": {},
   "cell_type": "markdown",
   "id": "99b94b10",
   "metadata": {},
   "source": [
    "## 1.3 A simple suggestion"
   ]
  },
  {
   "attachments": {},
   "cell_type": "markdown",
   "id": "21d44438",
   "metadata": {},
   "source": [
    "# 2 Some loose ends"
   ]
  },
  {
   "attachments": {},
   "cell_type": "markdown",
   "id": "89ab38f2",
   "metadata": {},
   "source": [
    "## 2.1 Positional, keyword and default arguments"
   ]
  },
  {
   "cell_type": "code",
   "execution_count": 10,
   "id": "4d693637-a4c1-4369-b616-dc45380e063f",
   "metadata": {},
   "outputs": [
    {
     "data": {
      "text/plain": [
       "' 1| 2|42'"
      ]
     },
     "execution_count": 10,
     "metadata": {},
     "output_type": "execute_result"
    }
   ],
   "source": [
    "# There are three ways to pass a value to an argument.\n",
    "# The ways are: positional, keyword or default.\n",
    "\n",
    "def side_by_side(a, b, c = 42):\n",
    "    return f'{a: 2d}|{b: 2d}|{c:2d}'\n",
    "\n",
    "# There are three ways this function can be used.\n",
    "# 1. Positional (Python assigns the values to a, b, c in positional order of arguments)\n",
    "side_by_side(1, 2, 3)\n",
    "\n",
    "# 2. Keywords (Values are explicitly assigned to a, b, c -- order does not matter)\n",
    "side_by_side(c=3, b=1, a=2)\n",
    "\n",
    "# 3. Default (since c is optional, I can choose not to specify it)\n",
    "side_by_side(1, b=2)\n"
   ]
  },
  {
   "cell_type": "code",
   "execution_count": 11,
   "id": "7ab46be7-46b3-435e-baa7-501f83b3cb06",
   "metadata": {},
   "outputs": [
    {
     "data": {
      "text/plain": [
       "' 1| 2|42'"
      ]
     },
     "execution_count": 11,
     "metadata": {},
     "output_type": "execute_result"
    }
   ],
   "source": [
    "# Below are some examples of how one can combine these three styles.\n",
    "# However, one style (keyword then positional) confuses Python and will not work.\n",
    "\n",
    "side_by_side(1, 2)           # Two positional, 1 default\n",
    "## ' 1| 2| 42'\n",
    "side_by_side(1, 2, 3)        # Three positional\n",
    "## ' 1| 2| 3'\n",
    "side_by_side(a=1, b=2)       # Two keyword, 1 default\n",
    "## ' 1| 2| 42'\n",
    "side_by_side(c=3, b=1, a=2)  # Three keyword\n",
    "## ' 2| 1| 3'\n",
    "side_by_side(1, c=3, b=2)    # One positional, 2 keyword\n",
    "## ' 1| 2| 3'\n",
    "side_by_side(1, b=2)         # One positional, 1 keyword, 1 default\n",
    "## ' 1| 2| 42'"
   ]
  },
  {
   "cell_type": "code",
   "execution_count": 12,
   "id": "4de0ee55-c87e-4790-9409-22f55754c2ee",
   "metadata": {},
   "outputs": [
    {
     "ename": "SyntaxError",
     "evalue": "positional argument follows keyword argument (1137128615.py, line 6)",
     "output_type": "error",
     "traceback": [
      "\u001b[1;36m  Cell \u001b[1;32mIn[12], line 6\u001b[1;36m\u001b[0m\n\u001b[1;33m    side_by_side(a=2, 1)      # Won't work.\u001b[0m\n\u001b[1;37m                       ^\u001b[0m\n\u001b[1;31mSyntaxError\u001b[0m\u001b[1;31m:\u001b[0m positional argument follows keyword argument\n"
     ]
    }
   ],
   "source": [
    "# The following will NOT work because Python cannot unambigiously determine the \n",
    "# position of 1.\n",
    "\n",
    "# Keywords cannot be followed \n",
    "# by positional arguments\n",
    "side_by_side(a=2, 1)      # Won't work.                          "
   ]
  },
  {
   "attachments": {},
   "cell_type": "markdown",
   "id": "a6d8420c",
   "metadata": {},
   "source": [
    "## 2.2 Docstrings"
   ]
  },
  {
   "cell_type": "code",
   "execution_count": 15,
   "id": "fce0560e-e40d-4ff5-906e-97abe6a62838",
   "metadata": {},
   "outputs": [
    {
     "name": "stdout",
     "output_type": "stream",
     "text": [
      "Help on function side_by_side in module __main__:\n",
      "\n",
      "side_by_side(a, b, c=42)\n",
      "    A test function to demonstrate how \n",
      "    positional, keyword and default arguments \n",
      "    work.\n",
      "\n"
     ]
    }
   ],
   "source": [
    "# Python has a docstring feature that allows one to document what a function does\n",
    "# inside the function. The docstring is displayed when we ask Python to show us \n",
    "# the help info using help().\n",
    "\n",
    "def side_by_side(a, b, c=42):\n",
    "    '''\n",
    "    A test function to demonstrate how \n",
    "    positional, keyword and default arguments \n",
    "    work.\n",
    "    '''\n",
    "    return f'{a: 2d}|{b: 2d}|{c: 2d}'\n",
    "\n",
    "# A docstring needs to be sandwiched between a pair of ''' and can span multiple lines.\n",
    "help(side_by_side)"
   ]
  },
  {
   "attachments": {},
   "cell_type": "markdown",
   "id": "4db79c35",
   "metadata": {},
   "source": [
    "## 2.3 Function are first-class citizens"
   ]
  },
  {
   "cell_type": "code",
   "execution_count": 16,
   "id": "74dab57d-d010-495f-8775-f9e9d60ee9a6",
   "metadata": {},
   "outputs": [
    {
     "data": {
      "text/plain": [
       "-1.0"
      ]
     },
     "execution_count": 16,
     "metadata": {},
     "output_type": "execute_result"
    }
   ],
   "source": [
    "# Python functions have the same privileges as variables.\n",
    "# Useful for scientific programming because we can pass a function as an argument \n",
    "# to another function.\n",
    "\n",
    "import numpy as np\n",
    "\n",
    "def my_function(angle, trig_function):\n",
    "        return trig_function(angle)\n",
    "\n",
    "# Let's use the function\n",
    "my_function(np.pi/2, np.sin)        \n",
    "## 1.0\n",
    "my_function(np.pi/2, np.cos)        \n",
    "## 6.123233995736766e-17\n",
    "my_function(np.pi/2, lambda x: np.cos(2*x))  \n",
    "## -1.0\n",
    "\n",
    "# When we pass a function as an argument, we do not include the parenthesis ()."
   ]
  },
  {
   "attachments": {},
   "cell_type": "markdown",
   "id": "30ae618c",
   "metadata": {},
   "source": [
    "## 2.4 More about unpacking"
   ]
  },
  {
   "cell_type": "code",
   "execution_count": 17,
   "id": "238c798d-edd0-495e-a6ad-8cea0fa31a22",
   "metadata": {},
   "outputs": [
    {
     "data": {
      "text/plain": [
       "(1, 2, 3)"
      ]
     },
     "execution_count": 17,
     "metadata": {},
     "output_type": "execute_result"
    }
   ],
   "source": [
    "# Unpacking can make extracting information from lists are arrays easy.\n",
    "\n",
    "# Example 1\n",
    "x, y, z = [1, 2, 3]\n",
    "x, y, z"
   ]
  },
  {
   "cell_type": "code",
   "execution_count": 18,
   "id": "f28fc8cd-3dfb-458f-941b-d706f0947920",
   "metadata": {},
   "outputs": [
    {
     "data": {
      "text/plain": [
       "(1, 2, 3)"
      ]
     },
     "execution_count": 18,
     "metadata": {},
     "output_type": "execute_result"
    }
   ],
   "source": [
    "# Example 2 \n",
    "x, y, z = np.array([1, 2, 3])\n",
    "x, y, z"
   ]
  },
  {
   "cell_type": "code",
   "execution_count": 20,
   "id": "fb6dee7b-9c03-4e17-a9bb-fb3c730e252c",
   "metadata": {},
   "outputs": [
    {
     "data": {
      "text/plain": [
       "(1, [2, 3, 4], 5)"
      ]
     },
     "execution_count": 20,
     "metadata": {},
     "output_type": "execute_result"
    }
   ],
   "source": [
    "# Example 3\n",
    "x, *y, z = np.array([1, 2, 3, 4, 5])\n",
    "x, y, z"
   ]
  },
  {
   "cell_type": "code",
   "execution_count": 22,
   "id": "a871085a-dda7-4e63-885f-605943269c9e",
   "metadata": {},
   "outputs": [
    {
     "data": {
      "text/plain": [
       "(1, 5)"
      ]
     },
     "execution_count": 22,
     "metadata": {},
     "output_type": "execute_result"
    }
   ],
   "source": [
    "# Example 4\n",
    "x, *_, y = [1, 2, 3, 4, 5]\n",
    "x, y"
   ]
  }
 ],
 "metadata": {
  "kernelspec": {
   "display_name": "Python 3 (ipykernel)",
   "language": "python",
   "name": "python3"
  },
  "language_info": {
   "codemirror_mode": {
    "name": "ipython",
    "version": 3
   },
   "file_extension": ".py",
   "mimetype": "text/x-python",
   "name": "python",
   "nbconvert_exporter": "python",
   "pygments_lexer": "ipython3",
   "version": "3.11.5"
  },
  "toc": {
   "base_numbering": 1,
   "nav_menu": {},
   "number_sections": true,
   "sideBar": true,
   "skip_h1_title": false,
   "title_cell": "Table of Contents",
   "title_sidebar": "Contents",
   "toc_cell": false,
   "toc_position": {},
   "toc_section_display": true,
   "toc_window_display": false
  },
  "vscode": {
   "interpreter": {
    "hash": "31f2aee4e71d21fbe5cf8b01ff0e069b9275f58929596ceb00d14d90e3e16cd6"
   }
  }
 },
 "nbformat": 4,
 "nbformat_minor": 5
}
