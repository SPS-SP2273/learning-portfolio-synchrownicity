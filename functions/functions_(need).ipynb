{
 "cells": [
  {
   "attachments": {},
   "cell_type": "markdown",
   "id": "123456",
   "metadata": {},
   "source": [
    "<div style=\"text-align:left;font-size:2em\"><span style=\"font-weight:bolder;font-size:1.25em\">SP2273 | Learning Portfolio</span><br><br><span style=\"font-weight:bold;color:darkred\">Functions (Need)</span></div>"
   ]
  },
  {
   "attachments": {},
   "cell_type": "markdown",
   "id": "f6ab2d8c",
   "metadata": {},
   "source": [
    "# What to expect in this chapter"
   ]
  },
  {
   "attachments": {},
   "cell_type": "markdown",
   "id": "04d45b71",
   "metadata": {},
   "source": [
    "# 1 User-defined functions"
   ]
  },
  {
   "cell_type": "markdown",
   "id": "7a95a1bd-b991-4f48-b42e-32e4782e1f7e",
   "metadata": {},
   "source": [
    "`print()` is an example of an **internal** function in Python. One can also create / define one's own functions. There are two ways to do this: **named** and **anonymous**."
   ]
  },
  {
   "attachments": {},
   "cell_type": "markdown",
   "id": "75bb90cc",
   "metadata": {},
   "source": [
    "## 1.1 Named Functions"
   ]
  },
  {
   "attachments": {},
   "cell_type": "markdown",
   "id": "a34344de",
   "metadata": {},
   "source": [
    "### Named functions that return"
   ]
  },
  {
   "cell_type": "markdown",
   "id": "c68b4dc3-4d07-4473-9ad3-5e9dff866dd4",
   "metadata": {},
   "source": [
    "A function can be defined using the keyword `def`.\n",
    "\n",
    "In the below block of code, the function's name is `greeting` and it accepts a single argument called `name`.\n",
    "\n",
    "As with all Python structures, the keyword `def`, colon `:` and the indentation demarcates the function's code block. The keyword `return` produces an output from the function. When Python sees `return`, it jumps out of the function with the return value.\n",
    "\n",
    "Note that `return` can only be used within a function."
   ]
  },
  {
   "cell_type": "code",
   "execution_count": 2,
   "id": "9df599f3-3801-495f-9bc9-b705d23e6e49",
   "metadata": {},
   "outputs": [
    {
     "data": {
      "text/plain": [
       "'Hello Superman!'"
      ]
     },
     "execution_count": 2,
     "metadata": {},
     "output_type": "execute_result"
    }
   ],
   "source": [
    "def greeting(name):\n",
    "    if name == 'Batman':\n",
    "        return 'Hello Batman! So, nice to meet you!'\n",
    "    else:\n",
    "        return f'Hello {name}!'\n",
    "\n",
    "greeting(\"Superman\")"
   ]
  },
  {
   "cell_type": "code",
   "execution_count": 4,
   "id": "9dfdd060-4d65-42f1-b3ef-ea856398c36a",
   "metadata": {},
   "outputs": [
    {
     "name": "stdout",
     "output_type": "stream",
     "text": [
      "Hello Superman!\n"
     ]
    }
   ],
   "source": [
    "# The return value can be picked up by assigning it a variable or used directly, like so:\n",
    "greet = greeting(\"Superman\")\n",
    "print(greet)"
   ]
  },
  {
   "cell_type": "code",
   "execution_count": 11,
   "id": "8e75455b-5bce-4dde-85f6-8ca729bcc625",
   "metadata": {},
   "outputs": [
    {
     "name": "stdout",
     "output_type": "stream",
     "text": [
      "5 1 3.0\n"
     ]
    }
   ],
   "source": [
    "# Function that accepts a list and returns the maximum, minimum and mean:\n",
    "import numpy as np\n",
    "\n",
    "def basic_stats(numbers):\n",
    "    np_numbers = np.array(numbers)\n",
    "    my_min = np_numbers.min()\n",
    "    my_max = np_numbers.max()\n",
    "    my_mean = np_numbers.mean()\n",
    "    return my_max, my_min, my_mean\n",
    "    \n",
    "list_min, list_max, list_mean = basic_stats([1, 2, 3, 4, 5])\n",
    "print(list_min, list_max, list_mean)"
   ]
  },
  {
   "attachments": {},
   "cell_type": "markdown",
   "id": "c0409b23",
   "metadata": {},
   "source": [
    "### Named functions that don’t return"
   ]
  },
  {
   "cell_type": "markdown",
   "id": "7146a8be-0ad4-4eb9-b2f4-a77df92fe735",
   "metadata": {},
   "source": [
    "A function does not have to return anything. An example of this is `print()` which does something but does not return a value. Functions like these can be used in certain applications, for example, to save data to a file.\n",
    "\n"
   ]
  },
  {
   "attachments": {},
   "cell_type": "markdown",
   "id": "f27b3bf9",
   "metadata": {},
   "source": [
    "## 1.2 Anonymous functions"
   ]
  },
  {
   "cell_type": "markdown",
   "id": "3c709e69-7a00-46c3-b2c7-b527f70bdf79",
   "metadata": {},
   "source": [
    "Anonymous or **lambda** functions are suitable for short one-liners.\n",
    "A `lambda` function always returns the value of the last statement."
   ]
  },
  {
   "cell_type": "code",
   "execution_count": 14,
   "id": "b94b7a94-95d2-498f-ae18-734a1d0a9544",
   "metadata": {},
   "outputs": [
    {
     "data": {
      "text/plain": [
       "'Hello Superman!'"
      ]
     },
     "execution_count": 14,
     "metadata": {},
     "output_type": "execute_result"
    }
   ],
   "source": [
    "# Example 1: Function accepting a single argument called name.\n",
    "my_short_function = lambda name: f\"Hello {name}!\"\n",
    "my_short_function(\"Superman\")\n",
    "\n",
    "# Above is not a good example of an anonymous function because a name is used."
   ]
  },
  {
   "cell_type": "code",
   "execution_count": 18,
   "id": "750f1e32-ce3c-4857-9050-518deb9dab6f",
   "metadata": {},
   "outputs": [
    {
     "name": "stdout",
     "output_type": "stream",
     "text": [
      "[[0, 9, -19], [1, 8, -18], [2, 7, -17], [3, 6, -16], [4, 5, -15], [5, 4, -14], [6, 3, -13], [7, 2, -12], [8, 1, -11], [9, 0, -10]]\n",
      "[[9, 0, -10], [8, 1, -11], [7, 2, -12], [6, 3, -13], [5, 4, -14], [4, 5, -15], [3, 6, -16], [2, 7, -17], [1, 8, -18], [0, 9, -19]]\n",
      "[[0, 9, -19], [1, 8, -18], [2, 7, -17], [3, 6, -16], [4, 5, -15], [5, 4, -14], [6, 3, -13], [7, 2, -12], [8, 1, -11], [9, 0, -10]]\n"
     ]
    }
   ],
   "source": [
    "# Example 2: Sorting a 2D List\n",
    "numbers=[[9, 0, -10],\n",
    "         [8, 1, -11],\n",
    "         [7, 2, -12],\n",
    "         [6, 3, -13],\n",
    "         [5, 4, -14],\n",
    "         [4, 5, -15],\n",
    "         [3, 6, -16],\n",
    "         [2, 7, -17],\n",
    "         [1, 8, -18],\n",
    "         [0, 9, -19]]\n",
    "\n",
    "# Method 1: sorted() function\n",
    "print(sorted(numbers))\n",
    "# This sorts the list by comparing the first elements of the sub-lists.\n",
    "\n",
    "# Method 2: Sort by comparing a custom key that uses the 2nd element (index = 1)\n",
    "a = sorted(numbers, key = lambda x: x[1])\n",
    "print(a)\n",
    "\n",
    "# Method 3: Other Criteria (Key that sorted() can be used for comparison has to be specified)\n",
    "b = sorted(numbers, key = lambda x: sum(x))\n",
    "print(b)"
   ]
  },
  {
   "attachments": {},
   "cell_type": "markdown",
   "id": "e5a426a5",
   "metadata": {},
   "source": [
    "## 1.3 Optional arguments"
   ]
  },
  {
   "cell_type": "markdown",
   "id": "80d75811-da2b-4266-bee4-00b8f13fb470",
   "metadata": {},
   "source": [
    "Python allows us to make arguments to our function **optional**. To do thus, we need to give the argument a **default** value so that it always has something to work with."
   ]
  },
  {
   "cell_type": "code",
   "execution_count": 22,
   "id": "876f6833-5b0a-4b34-aeac-3477c8011113",
   "metadata": {},
   "outputs": [
    {
     "data": {
      "text/plain": [
       "'Hello no one!'"
      ]
     },
     "execution_count": 22,
     "metadata": {},
     "output_type": "execute_result"
    }
   ],
   "source": [
    "def greeting(name = 'no one'):\n",
    "    if name == 'Batman':\n",
    "        return 'Hello Batman! So, nice to meet you!'\n",
    "    else:\n",
    "        return f'Hello {name}!'\n",
    "        \n",
    "greeting()   # function run without an argument, and it will still work without error"
   ]
  },
  {
   "cell_type": "markdown",
   "id": "0bb638e3-841f-40cf-b743-9cb4e44d5ef7",
   "metadata": {},
   "source": [
    "Note the documentation for `print()` below. We note that `print()` can accept other arguments that are optional with default values. We can specify them as such:"
   ]
  },
  {
   "cell_type": "code",
   "execution_count": 23,
   "id": "612186ba-945c-492b-8a36-30a35a6ff149",
   "metadata": {},
   "outputs": [
    {
     "data": {
      "text/plain": [
       "\u001b[1;31mSignature:\u001b[0m \u001b[0mprint\u001b[0m\u001b[1;33m(\u001b[0m\u001b[1;33m*\u001b[0m\u001b[0margs\u001b[0m\u001b[1;33m,\u001b[0m \u001b[0msep\u001b[0m\u001b[1;33m=\u001b[0m\u001b[1;34m' '\u001b[0m\u001b[1;33m,\u001b[0m \u001b[0mend\u001b[0m\u001b[1;33m=\u001b[0m\u001b[1;34m'\\n'\u001b[0m\u001b[1;33m,\u001b[0m \u001b[0mfile\u001b[0m\u001b[1;33m=\u001b[0m\u001b[1;32mNone\u001b[0m\u001b[1;33m,\u001b[0m \u001b[0mflush\u001b[0m\u001b[1;33m=\u001b[0m\u001b[1;32mFalse\u001b[0m\u001b[1;33m)\u001b[0m\u001b[1;33m\u001b[0m\u001b[1;33m\u001b[0m\u001b[0m\n",
       "\u001b[1;31mDocstring:\u001b[0m\n",
       "Prints the values to a stream, or to sys.stdout by default.\n",
       "\n",
       "sep\n",
       "  string inserted between values, default a space.\n",
       "end\n",
       "  string appended after the last value, default a newline.\n",
       "file\n",
       "  a file-like object (stream); defaults to the current sys.stdout.\n",
       "flush\n",
       "  whether to forcibly flush the stream.\n",
       "\u001b[1;31mType:\u001b[0m      builtin_function_or_method"
      ]
     },
     "metadata": {},
     "output_type": "display_data"
    }
   ],
   "source": [
    "?print  # print() documentation"
   ]
  },
  {
   "cell_type": "code",
   "execution_count": 24,
   "id": "2c25a529-0171-4c13-b4ce-b281252e3a3c",
   "metadata": {},
   "outputs": [
    {
     "name": "stdout",
     "output_type": "stream",
     "text": [
      "I am Batman\n",
      "I---am---Batman!\n"
     ]
    }
   ],
   "source": [
    "# Using default values\n",
    "print('I', 'am', 'Batman')\n",
    "\n",
    "# Specifying an optional argument\n",
    "print('I', 'am', 'Batman!', sep = '---')"
   ]
  },
  {
   "attachments": {},
   "cell_type": "markdown",
   "id": "74626b79",
   "metadata": {},
   "source": [
    "## 1.4 The importance of functions?"
   ]
  },
  {
   "attachments": {},
   "cell_type": "markdown",
   "id": "a44b7117",
   "metadata": {},
   "source": [
    "### An argument for functions"
   ]
  },
  {
   "cell_type": "markdown",
   "id": "716d293e-a792-4d6d-af14-e6b87cd28129",
   "metadata": {},
   "source": [
    "Functions have several advantages to them:\n",
    "\n",
    "1. **Abstraction of Details**\n",
    "Relates ones ability to strategise. If one breaks up a complicated solution into chunks (i.e. functions), it becomes easier to think about because one is not deailing with all the details as once. It is easier to focus on one's overall solution because one is not distracted by unnecessary info. The hiding of 'stuff' is called **abstraction**.\n",
    "\n",
    "2. **Reusability of Code**\n",
    "If one **encapsulates** a chunk of code in a function, it becomes straightforward to reuse it instead of copying and pasting at different places. Thus, code will be shorter and more compact.\n",
    "\n",
    "3. **Maintability of Code**\n",
    "Code is easier to change and maintain because one only needs ot make changes in one place, at the function definition.\n"
   ]
  },
  {
   "attachments": {},
   "cell_type": "markdown",
   "id": "15909ea0",
   "metadata": {},
   "source": [
    "### A word of caution"
   ]
  },
  {
   "cell_type": "markdown",
   "id": "70ee8f76-e71b-44b9-a8ef-da02aa3a3338",
   "metadata": {},
   "source": [
    "However, functions can be **overused**. Having too many functions makes one's code difficult to read and increase computational overheads."
   ]
  }
 ],
 "metadata": {
  "kernelspec": {
   "display_name": "Python 3 (ipykernel)",
   "language": "python",
   "name": "python3"
  },
  "language_info": {
   "codemirror_mode": {
    "name": "ipython",
    "version": 3
   },
   "file_extension": ".py",
   "mimetype": "text/x-python",
   "name": "python",
   "nbconvert_exporter": "python",
   "pygments_lexer": "ipython3",
   "version": "3.11.5"
  },
  "toc": {
   "base_numbering": 1,
   "nav_menu": {},
   "number_sections": true,
   "sideBar": true,
   "skip_h1_title": false,
   "title_cell": "Table of Contents",
   "title_sidebar": "Contents",
   "toc_cell": false,
   "toc_position": {},
   "toc_section_display": true,
   "toc_window_display": false
  },
  "vscode": {
   "interpreter": {
    "hash": "31f2aee4e71d21fbe5cf8b01ff0e069b9275f58929596ceb00d14d90e3e16cd6"
   }
  }
 },
 "nbformat": 4,
 "nbformat_minor": 5
}
