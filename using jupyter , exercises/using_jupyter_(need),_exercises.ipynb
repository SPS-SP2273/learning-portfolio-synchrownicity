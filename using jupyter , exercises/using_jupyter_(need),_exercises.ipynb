{
 "cells": [
  {
   "attachments": {},
   "cell_type": "markdown",
   "id": "123456",
   "metadata": {},
   "source": [
    "<div style=\"text-align:left;font-size:2em\"><span style=\"font-weight:bolder;font-size:1.25em\">SP2273 | Learning Portfolio</span><br><br><span style=\"font-weight:bold;color:darkred\">Using Jupyter (Need), Exercises</span></div>"
   ]
  },
  {
   "cell_type": "markdown",
   "id": "6ecc41db-a4b5-4073-94ba-e7d8f19d310a",
   "metadata": {},
   "source": [
    "# Exercise 1 \\"
   ]
  },
  {
   "attachments": {},
   "cell_type": "markdown",
   "id": "d36dc050",
   "metadata": {},
   "source": [
    "## **Quadratic Equations**"
   ]
  },
  {
   "attachments": {},
   "cell_type": "markdown",
   "id": "a12965b1",
   "metadata": {},
   "source": [
    "### **Introduction**"
   ]
  },
  {
   "cell_type": "markdown",
   "id": "23f3ff92-1bd4-462d-b434-a122c1ba839a",
   "metadata": {},
   "source": [
    "![](https://upload.wikimedia.org/wikipedia/commons/f/f8/Polynomialdeg2.svg)\n",
    "<br>_(Image from the [Wikipedia page on Quadratic equations](https://en.wikipedia.org/wiki/Quadratic_equation))_\n",
    "\n",
    "The general form of a quadratic equation is:\n",
    "<br><div align=\"center\">$ax^2 + bx + c = 0$"
   ]
  },
  {
   "attachments": {},
   "cell_type": "markdown",
   "id": "a57f6e5e",
   "metadata": {},
   "source": [
    "### **Solutions**"
   ]
  },
  {
   "cell_type": "markdown",
   "id": "edf1b5c6-8b1c-4e99-baa8-24c85fb1c5ec",
   "metadata": {},
   "source": [
    "Provided $a \\ne 0$, we can use an elementary algebraic method called [completing the square](https://en.wikipedia.org/wiki/Completing_the_square) to show that a quadratic equation has the following solution:\n",
    "\n",
    "$$\n",
    "x = \\dfrac {-b \\pm \\sqrt{b^2-4ac}}{2a}\n",
    "$$"
   ]
  },
  {
   "attachments": {},
   "cell_type": "markdown",
   "id": "8b67bf98",
   "metadata": {},
   "source": [
    "### **Discriminant**"
   ]
  },
  {
   "cell_type": "markdown",
   "id": "d39b7408-ff90-4364-8bcf-8a1772ac646b",
   "metadata": {},
   "source": [
    "The quantity $\\Delta = b^2-4ac$ is called the **discriminant** of the equation and decides the nature of its solutions. The table below shows the various possibilities:\n",
    "\n",
    "|**Discriminant**        |**Roots**                               |\n",
    "|:--:                    |:--                                     |\n",
    "|$\\Delta = b^2-4ac = 0$  |A single solution of $\\dfrac {-b}{(2a)}$|\n",
    "|$\\Delta = b^2-4ac \\gt 0$|Two distinct solutions                  |\n",
    "|$\\Delta = b^2-4ac \\lt 0$|No real solutions; both are complex.    |"
   ]
  },
  {
   "cell_type": "markdown",
   "id": "5b232941-db40-48df-be9f-0f2a4c43271b",
   "metadata": {},
   "source": [
    "# Exercise 2 \\"
   ]
  },
  {
   "cell_type": "markdown",
   "id": "53b4ae35-8c2f-4463-8c04-fcab1e3d6218",
   "metadata": {},
   "source": [
    "1. What is a Git **repository**?\n",
    "\n",
    "2. Git keeps tracks of ___________ in the files in our repository.\n",
    "\n",
    "3. What is a **commit**?\n",
    "\n",
    "4. What is a **push**?\n",
    "\n",
    "5. What is a **pull**?\n",
    "\n",
    "6. What is the difference between **Github** and **Github Desktop**?"
   ]
  }
 ],
 "metadata": {
  "kernelspec": {
   "display_name": "Python 3 (ipykernel)",
   "language": "python",
   "name": "python3"
  },
  "language_info": {
   "codemirror_mode": {
    "name": "ipython",
    "version": 3
   },
   "file_extension": ".py",
   "mimetype": "text/x-python",
   "name": "python",
   "nbconvert_exporter": "python",
   "pygments_lexer": "ipython3",
   "version": "3.11.5"
  },
  "toc": {
   "base_numbering": 1,
   "nav_menu": {},
   "number_sections": true,
   "sideBar": true,
   "skip_h1_title": false,
   "title_cell": "Table of Contents",
   "title_sidebar": "Contents",
   "toc_cell": false,
   "toc_position": {},
   "toc_section_display": true,
   "toc_window_display": false
  },
  "vscode": {
   "interpreter": {
    "hash": "31f2aee4e71d21fbe5cf8b01ff0e069b9275f58929596ceb00d14d90e3e16cd6"
   }
  }
 },
 "nbformat": 4,
 "nbformat_minor": 5
}
