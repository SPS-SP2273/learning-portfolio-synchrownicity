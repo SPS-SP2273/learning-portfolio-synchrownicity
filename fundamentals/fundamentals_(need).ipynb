{
 "cells": [
  {
   "attachments": {},
   "cell_type": "markdown",
   "id": "123456",
   "metadata": {},
   "source": [
    "<div style=\"text-align:left;font-size:2em\"><span style=\"font-weight:bolder;font-size:1.25em\">SP2273 | Learning Portfolio</span><br><br><span style=\"font-weight:bold;color:darkred\">Fundamentals (Need)</span></div>"
   ]
  },
  {
   "attachments": {},
   "cell_type": "markdown",
   "id": "da1e2be1",
   "metadata": {},
   "source": [
    "# What to expect in this chapter"
   ]
  },
  {
   "attachments": {},
   "cell_type": "markdown",
   "id": "ae6e6d11",
   "metadata": {},
   "source": [
    "# 1 Functions"
   ]
  },
  {
   "cell_type": "code",
   "execution_count": 2,
   "id": "e21b87da-1bc6-48fb-8c63-7a74a4051f0f",
   "metadata": {},
   "outputs": [
    {
     "name": "stdout",
     "output_type": "stream",
     "text": [
      "Hello World!\n"
     ]
    }
   ],
   "source": [
    "print(\"Hello World!\")"
   ]
  },
  {
   "attachments": {},
   "cell_type": "markdown",
   "id": "804c65ca",
   "metadata": {},
   "source": [
    "# 2 Remember"
   ]
  },
  {
   "attachments": {},
   "cell_type": "markdown",
   "id": "feefa285",
   "metadata": {},
   "source": [
    "# 3 Python is interpreted"
   ]
  },
  {
   "attachments": {},
   "cell_type": "markdown",
   "id": "477285f6",
   "metadata": {},
   "source": [
    "# 4 Python is sensitive."
   ]
  },
  {
   "cell_type": "code",
   "execution_count": 3,
   "id": "4f56c7ea-1c96-4862-87bf-e01c05e40fc6",
   "metadata": {},
   "outputs": [],
   "source": [
    "# print() will work\n",
    "# Print() will NOT work\n",
    "\n",
    "#Shows that Python is case-sensitive."
   ]
  },
  {
   "attachments": {},
   "cell_type": "markdown",
   "id": "43d53f1d",
   "metadata": {},
   "source": [
    "# 5 Remember"
   ]
  },
  {
   "attachments": {},
   "cell_type": "markdown",
   "id": "cb7a6df6",
   "metadata": {},
   "source": [
    "# 6 Comments"
   ]
  },
  {
   "cell_type": "code",
   "execution_count": 4,
   "id": "6d624299-e79a-46ab-a89e-18d61ea72dd4",
   "metadata": {},
   "outputs": [
    {
     "name": "stdout",
     "output_type": "stream",
     "text": [
      "One\n",
      "Three\n"
     ]
    }
   ],
   "source": [
    "print('One')\n",
    "# print('Two')   --> Python will ignore this line\n",
    "print('Three')"
   ]
  },
  {
   "attachments": {},
   "cell_type": "markdown",
   "id": "2ddae5ae",
   "metadata": {},
   "source": [
    "# 7 Remember"
   ]
  },
  {
   "attachments": {},
   "cell_type": "markdown",
   "id": "f166bfc0",
   "metadata": {},
   "source": [
    "# 8 = is not the same as =="
   ]
  },
  {
   "cell_type": "code",
   "execution_count": 9,
   "id": "a4a974aa-9227-4200-b2b3-982a51aa3ae5",
   "metadata": {},
   "outputs": [
    {
     "name": "stdout",
     "output_type": "stream",
     "text": [
      "True\n"
     ]
    }
   ],
   "source": [
    "name = 'Batman'\n",
    "\n",
    "print(name == 'Batman')"
   ]
  },
  {
   "attachments": {},
   "cell_type": "markdown",
   "id": "65a319b5",
   "metadata": {},
   "source": [
    "# 9 Remember"
   ]
  },
  {
   "attachments": {},
   "cell_type": "markdown",
   "id": "a733f54e",
   "metadata": {},
   "source": [
    "# 10 Use if to make decisions"
   ]
  },
  {
   "cell_type": "code",
   "execution_count": 10,
   "id": "b83317fc-a49e-47ba-8196-3dabaf0c75b1",
   "metadata": {},
   "outputs": [
    {
     "name": "stdout",
     "output_type": "stream",
     "text": [
      "Hello Batman!\n"
     ]
    }
   ],
   "source": [
    "name = 'Batman'\n",
    "\n",
    "if name == 'Batman':\n",
    "    print('Hello Batman!')\n",
    "else:\n",
    "    print('Hello World!')"
   ]
  },
  {
   "attachments": {},
   "cell_type": "markdown",
   "id": "8e9cbeb6",
   "metadata": {},
   "source": [
    "# 11 Remember"
   ]
  },
  {
   "attachments": {},
   "cell_type": "markdown",
   "id": "2727b1c2",
   "metadata": {},
   "source": [
    "# 12 Indentations (spaces) are sooo IMPORTANT!"
   ]
  },
  {
   "cell_type": "code",
   "execution_count": 11,
   "id": "9d280775-5b76-45d9-a767-d5db12cde39e",
   "metadata": {},
   "outputs": [
    {
     "name": "stdout",
     "output_type": "stream",
     "text": [
      "10\n"
     ]
    }
   ],
   "source": [
    "x=  10\n",
    "print(x) #if indented, this code will NOT work"
   ]
  },
  {
   "attachments": {},
   "cell_type": "markdown",
   "id": "eecc598a",
   "metadata": {},
   "source": [
    "# 13 Remember"
   ]
  },
  {
   "attachments": {},
   "cell_type": "markdown",
   "id": "22cb49ac",
   "metadata": {},
   "source": [
    "# 14 ‘age’ is English, age is a variable."
   ]
  },
  {
   "cell_type": "code",
   "execution_count": 13,
   "id": "3b325a6a-ff25-41b0-a5e8-c19c374d49f9",
   "metadata": {},
   "outputs": [
    {
     "name": "stdout",
     "output_type": "stream",
     "text": [
      "10\n",
      "age\n",
      "You're twenty years old.\n"
     ]
    }
   ],
   "source": [
    "age = 10\n",
    "print(age) #Prints the value of the variable agw\n",
    "print(\"age\") #Prints the English word 'age'\n",
    "\n",
    "print(\"You're twenty years old.\")"
   ]
  },
  {
   "attachments": {},
   "cell_type": "markdown",
   "id": "385cb86f",
   "metadata": {},
   "source": [
    "# 15 Brackets"
   ]
  },
  {
   "cell_type": "code",
   "execution_count": 14,
   "id": "031f2cfd-aa42-45d9-8f12-b448282abdfd",
   "metadata": {},
   "outputs": [
    {
     "name": "stdout",
     "output_type": "stream",
     "text": [
      "Hello\n",
      "[1, 2, 3, 4, 5]\n",
      "[[1, 'A'], [2, 'B'], [3, 'C'], [4, 'D'], [5, 'E']]\n",
      "Bruce Wayne\n"
     ]
    }
   ],
   "source": [
    "#Rounded Brackets are used in:\n",
    "print('Hello')   #Functions\n",
    "(1 + 2) * 5      #Math\n",
    "\n",
    "#Square Brackets are used in:\n",
    "py_list = [1, 2, 3, 4, 5]   # A 1D list\n",
    "\n",
    "py_list_2 = [               # A 2D list\n",
    "                [1, \"A\"],      \n",
    "                [2, \"B\"],\n",
    "                [3, \"C\"],\n",
    "                [4, \"D\"],\n",
    "                [5, \"E\"]\n",
    "            ]\n",
    "\n",
    "print(py_list)\n",
    "print(py_list_2)\n",
    "\n",
    "#Curly Brackets are used in:\n",
    "personal_info = {\n",
    "    'Names': 'Batman',\n",
    "    'Real Name': 'Bruce Wayne',\n",
    "    'Age': 55,\n",
    "    'Affiliation': 'Justice League',\n",
    "    'Universe': 'DC'\n",
    "}                                       #Dictionaries\n",
    "\n",
    "print(personal_info['Real Name'])"
   ]
  },
  {
   "attachments": {},
   "cell_type": "markdown",
   "id": "da87e724",
   "metadata": {},
   "source": [
    "# 16 Giving Python superpowers with Packages"
   ]
  },
  {
   "attachments": {},
   "cell_type": "markdown",
   "id": "962374aa",
   "metadata": {},
   "source": [
    "## 16.1 Some Context"
   ]
  },
  {
   "cell_type": "code",
   "execution_count": 15,
   "id": "a99714a0-9fa9-4ac4-9dd5-1fe6af14a7ac",
   "metadata": {},
   "outputs": [],
   "source": [
    "# sqrt(4) as a function cannot automatically calculate the square root of 4\n",
    "# because basic Python is limited in this way."
   ]
  },
  {
   "attachments": {},
   "cell_type": "markdown",
   "id": "25810ad0",
   "metadata": {},
   "source": [
    "## 16.2 Importing the math package"
   ]
  },
  {
   "cell_type": "code",
   "execution_count": 16,
   "id": "186483ea-c16d-4add-aa74-a5c438dc1a0a",
   "metadata": {},
   "outputs": [
    {
     "data": {
      "text/plain": [
       "2.0"
      ]
     },
     "execution_count": 16,
     "metadata": {},
     "output_type": "execute_result"
    }
   ],
   "source": [
    "import math\n",
    "math.sqrt(4)"
   ]
  },
  {
   "attachments": {},
   "cell_type": "markdown",
   "id": "fe303258",
   "metadata": {},
   "source": [
    "## 16.3 Importing the numpy package"
   ]
  },
  {
   "cell_type": "code",
   "execution_count": 18,
   "id": "0693d879-4b0b-4937-998d-430b269aa73f",
   "metadata": {},
   "outputs": [
    {
     "data": {
      "text/plain": [
       "array([2., 3., 4.])"
      ]
     },
     "execution_count": 18,
     "metadata": {},
     "output_type": "execute_result"
    }
   ],
   "source": [
    "import numpy as np\n",
    "\n",
    "np.sqrt(4)\n",
    "\n",
    "np.sqrt([4, 9, 16]) #numpy can also handle lists of numbers"
   ]
  },
  {
   "attachments": {},
   "cell_type": "markdown",
   "id": "b5d341b6",
   "metadata": {},
   "source": [
    "## 16.4 Why so many packages?"
   ]
  },
  {
   "attachments": {},
   "cell_type": "markdown",
   "id": "d22e0783",
   "metadata": {},
   "source": [
    "# 17 Remember"
   ]
  },
  {
   "attachments": {},
   "cell_type": "markdown",
   "id": "110f6fbc",
   "metadata": {},
   "source": [
    "# 18 The dot (.)"
   ]
  },
  {
   "cell_type": "code",
   "execution_count": 21,
   "id": "51f5707a-fe62-46a9-bab9-3ceefd99ae7f",
   "metadata": {},
   "outputs": [
    {
     "data": {
      "text/plain": [
       "['I', 'am', 'Batman']"
      ]
     },
     "execution_count": 21,
     "metadata": {},
     "output_type": "execute_result"
    }
   ],
   "source": [
    "math.sqrt(4)\n",
    "np.sqrt(4)\n",
    "\n",
    "#The dot indicates ownership, for example,\n",
    "#in the first line, the sqrt() function belongs to the math module\n",
    "#in the second line, the sqrt() function belongs to NumPy\n",
    "\n",
    "\"I am Batman\".split()   #split function split the sentences into words (only for strings)"
   ]
  },
  {
   "attachments": {},
   "cell_type": "markdown",
   "id": "50dd7fb1",
   "metadata": {},
   "source": [
    "# 19 Remember"
   ]
  },
  {
   "attachments": {},
   "cell_type": "markdown",
   "id": "0def13ca",
   "metadata": {},
   "source": [
    "## Footnotes"
   ]
  }
 ],
 "metadata": {
  "kernelspec": {
   "display_name": "Python 3 (ipykernel)",
   "language": "python",
   "name": "python3"
  },
  "language_info": {
   "codemirror_mode": {
    "name": "ipython",
    "version": 3
   },
   "file_extension": ".py",
   "mimetype": "text/x-python",
   "name": "python",
   "nbconvert_exporter": "python",
   "pygments_lexer": "ipython3",
   "version": "3.11.5"
  },
  "toc": {
   "base_numbering": 1,
   "nav_menu": {},
   "number_sections": true,
   "sideBar": true,
   "skip_h1_title": false,
   "title_cell": "Table of Contents",
   "title_sidebar": "Contents",
   "toc_cell": false,
   "toc_position": {},
   "toc_section_display": true,
   "toc_window_display": false
  },
  "vscode": {
   "interpreter": {
    "hash": "31f2aee4e71d21fbe5cf8b01ff0e069b9275f58929596ceb00d14d90e3e16cd6"
   }
  }
 },
 "nbformat": 4,
 "nbformat_minor": 5
}
