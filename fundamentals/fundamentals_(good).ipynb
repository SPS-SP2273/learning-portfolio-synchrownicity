{
 "cells": [
  {
   "attachments": {},
   "cell_type": "markdown",
   "id": "123456",
   "metadata": {},
   "source": [
    "<div style=\"text-align:left;font-size:2em\"><span style=\"font-weight:bolder;font-size:1.25em\">SP2273 | Learning Portfolio</span><br><br><span style=\"font-weight:bold;color:darkred\">Fundamentals (Good)</span></div>"
   ]
  },
  {
   "attachments": {},
   "cell_type": "markdown",
   "id": "f56999a2",
   "metadata": {},
   "source": [
    "# What to expect in this chapter"
   ]
  },
  {
   "attachments": {},
   "cell_type": "markdown",
   "id": "f7124f0f",
   "metadata": {},
   "source": [
    "# 1 There is more to if"
   ]
  },
  {
   "cell_type": "code",
   "execution_count": 2,
   "id": "f453a9d4-e759-4845-86ca-865b5fad1a53",
   "metadata": {},
   "outputs": [
    {
     "name": "stdout",
     "output_type": "stream",
     "text": [
      "Hello Batman!\n"
     ]
    }
   ],
   "source": [
    "name = 'Batman'\n",
    "\n",
    "if name == 'Batman': \n",
    "    print('Hello Batman!')\n",
    "elif name == 'Robin':\n",
    "    print('Hello Sidekick!')\n",
    "else:\n",
    "    print('Hello World!')\n",
    "\n",
    "#This should output 'Hello Batman!'."
   ]
  },
  {
   "attachments": {},
   "cell_type": "markdown",
   "id": "fd05c934",
   "metadata": {},
   "source": [
    "# 2 Asking questions"
   ]
  },
  {
   "cell_type": "code",
   "execution_count": 8,
   "id": "75a460f5-5fb3-4309-a060-47a9f46dfc62",
   "metadata": {},
   "outputs": [
    {
     "name": "stdout",
     "output_type": "stream",
     "text": [
      "True\n",
      "False\n",
      "True\n",
      "True\n",
      "True\n",
      "True\n",
      "False\n"
     ]
    }
   ],
   "source": [
    "fruits = ['apple', 'banana', 'pineapple', 'jackfruit']\n",
    "vegetables = ['celery', 'potato', 'broccoli', 'kale']\n",
    "\n",
    "if 'apple' in fruits:\n",
    "    print(True)\n",
    "\n",
    "if 'peach' in fruits:\n",
    "    print(True)\n",
    "else:\n",
    "    print(False)\n",
    "\n",
    "if 'peach' not in fruits:\n",
    "    print(True)\n",
    "\n",
    "if 'apple' in fruits and 'celery' in vegetables:\n",
    "    print(True)\n",
    "\n",
    "if 'apple' in fruits or 'cucumber' in vegetables:\n",
    "    print(True)\n",
    "\n",
    "if 'app' in 'apple':\n",
    "    print(True)\n",
    "\n",
    "print('apples'>'oranges') \n",
    "#This returns False as English letters can be represented as numbers.\n",
    "#In this case, 'a' is 97 while 'o' is 111."
   ]
  },
  {
   "attachments": {},
   "cell_type": "markdown",
   "id": "b1a73c62",
   "metadata": {},
   "source": [
    "# 3 Remember"
   ]
  },
  {
   "attachments": {},
   "cell_type": "markdown",
   "id": "88fdb0ff",
   "metadata": {},
   "source": [
    "## 3.1 Asking Math questions"
   ]
  },
  {
   "cell_type": "code",
   "execution_count": 11,
   "id": "b5f4da0f-ade0-440c-988e-d95fcd0f06ab",
   "metadata": {},
   "outputs": [
    {
     "name": "stdout",
     "output_type": "stream",
     "text": [
      "True\n",
      "True\n",
      "True\n"
     ]
    }
   ],
   "source": [
    "x = 14\n",
    "\n",
    "#Three formats of writing comparison operator syntax:\n",
    "print(x > 5 and x < 15) #This should return True.\n",
    "print((x>5) and (x<15)) #This should return True. Same as above.\n",
    "print(5 < x < 15) #This should return True. Same as above."
   ]
  },
  {
   "attachments": {},
   "cell_type": "markdown",
   "id": "043c97b8",
   "metadata": {},
   "source": [
    "# 4 Python stores information in different formats or types"
   ]
  },
  {
   "cell_type": "code",
   "execution_count": 13,
   "id": "b36aa62e-660e-418a-9c1a-0d53bed3d2f9",
   "metadata": {},
   "outputs": [
    {
     "name": "stdout",
     "output_type": "stream",
     "text": [
      "1 <class 'int'>\n",
      "1.234 <class 'str'>\n",
      "1.234 <class 'float'>\n",
      "(1.234+0j) <class 'complex'>\n"
     ]
    }
   ],
   "source": [
    "x = int(1.234)\n",
    "print(x, type(x))\n",
    "# Returns 1, class is Integer.\n",
    "\n",
    "x = str(1.234)\n",
    "print(x, type(x))\n",
    "# Returns 1.234 as a string, class is String.\n",
    "\n",
    "x = float(1.234)\n",
    "print(x, type(x))\n",
    "# Returns 1.234 as a decimal, class is Float.\n",
    "\n",
    "x = complex(1.234)\n",
    "print(x, type(x))\n",
    "# Returns 1.234+0j as a complex number, class is Complex."
   ]
  },
  {
   "attachments": {},
   "cell_type": "markdown",
   "id": "7d71c73f",
   "metadata": {},
   "source": [
    "# 5 Never compare floats directly"
   ]
  },
  {
   "attachments": {},
   "cell_type": "markdown",
   "id": "5ba0481a",
   "metadata": {},
   "source": [
    "## 5.1 The Problem"
   ]
  },
  {
   "cell_type": "code",
   "execution_count": 17,
   "id": "c8407780-8c3d-4309-9650-4313e4f6948a",
   "metadata": {},
   "outputs": [
    {
     "data": {
      "text/plain": [
       "'0.29999999999999999'"
      ]
     },
     "execution_count": 17,
     "metadata": {},
     "output_type": "execute_result"
    }
   ],
   "source": [
    "# Computers have limited hardware resources. Thus, floating point numbers cannot be stored\n",
    "# exactly on a computer. This leads to roundoff errors.\n",
    "\n",
    "a = 0.1\n",
    "a3 = 0.3\n",
    "a * 3 == a3  #This should return false.\n",
    "\n",
    "f'{0.3:.17f}' #This should return 0.2999999... to 17 decimal places.\n",
    "\n",
    "#Thus, we observe that 0.3 is not exactly 0.2999999..."
   ]
  },
  {
   "attachments": {},
   "cell_type": "markdown",
   "id": "b4816e78",
   "metadata": {},
   "source": [
    "## 5.2 A solution"
   ]
  },
  {
   "attachments": {},
   "cell_type": "markdown",
   "id": "ea2447f4",
   "metadata": {},
   "source": [
    "# 6 Combining English and variables"
   ]
  },
  {
   "attachments": {},
   "cell_type": "markdown",
   "id": "dd5296d6",
   "metadata": {},
   "source": [
    "## 6.1 Structure of f-strings"
   ]
  },
  {
   "cell_type": "code",
   "execution_count": 34,
   "id": "7b5f5bb7-8e4d-4611-ad23-f1fdd48054e5",
   "metadata": {},
   "outputs": [
    {
     "name": "stdout",
     "output_type": "stream",
     "text": [
      "Hello Batman!\n",
      "Hello BATMAN!\n",
      "The value of 10 squared is 100!\n",
      "Bruce Wayne is Batman.\n",
      "        Bruce Wayne is Batman.\n",
      "    Bruce Wayne is Batman.    \n",
      "Bruce Wayne is Batman.        \n",
      "The cube of pi to 6 decimal places is 31.006277\n",
      "The cube of pi to 6 decimal places is 3.100628e+01\n"
     ]
    }
   ],
   "source": [
    "name = \"Batman\"\n",
    "print(f\"Hello {name}!\") #Includes name in the string.\n",
    "\n",
    "print(f\"Hello {name.upper()}!\") #Includes name in uppercase in the string.\n",
    "\n",
    "x = 10\n",
    "print(f\"The value of {x} squared is {x**2}!\") #Includes x and x^2 in the string.\n",
    "\n",
    "# f and {} come together to form an f-string or string interpolation.\n",
    "\n",
    "\n",
    "# Example 1\n",
    "text = 'Bruce Wayne is Batman.'\n",
    "print(f'{text}') #Prints the text verbatim.\n",
    "\n",
    "print(f'{text:>30}')  #Prints text as a block of 30 characters and aligns it right.\n",
    "\n",
    "print(f'{text:^30}') #Prints text as a block of 30 characters and aligns it centre.\n",
    "\n",
    "print(f'{text:<30}') #Prints text as a block of characters and aligns it left.\n",
    "\n",
    "\n",
    "# Example 2 and 3\n",
    "import numpy as np\n",
    "print(f'The cube of pi to 6 decimal places is {np.pi**3:.6f}')\n",
    "# The f in .6f tells the f-string to output the number to 6 d.p.\n",
    "\n",
    "print(f'The cube of pi to 6 decimal places is {np.pi**3:.6e}')\n",
    "# The e in .6e tells the f-string to output the number in standard form / scientific notation."
   ]
  },
  {
   "cell_type": "markdown",
   "id": "a8cb7874-f8c7-42fa-917e-bd6be8d8c809",
   "metadata": {},
   "source": [
    "f-strings have the structure `{X:>0Y.ZW}`. The following provides an explanation into its syntax:\n",
    "\n",
    "1. `X` assigns the variable to a format (either number or string).\n",
    "2. `>` aligns the output, either `<` (left), `>` (right) or `^` (centre).\n",
    "3. `0` use 0's to pad the spaces, or ` ` works too.\n",
    "4. `Y` displays the total number of allowable characters\n",
    "5. `Z` shows the number of decimal places the return value will be to.\n",
    "6. `W` specifies the type of variable, either `f` (float), `d` (int), `s` (string), `g` (asks Python to figure out)"
   ]
  },
  {
   "attachments": {},
   "cell_type": "markdown",
   "id": "2dffc3f7",
   "metadata": {},
   "source": [
    "# 7 Escape sequences"
   ]
  },
  {
   "cell_type": "markdown",
   "id": "66700329-7008-4dec-9fa4-5e9d381d7f5a",
   "metadata": {},
   "source": [
    "Characters needed when writing English that are rendered as something else if typed in Python on their own. (E.g. '' quotation marks which tell Python the variable is a string, when we just want quotation marks by themselves.\n",
    "\n",
    "**Escape Sequences:**\n",
    "1. `\\'`: Single Quote\n",
    "2. `\\\\`: Backslash\n",
    "3. `\\n`: New Line\n",
    "4. `\\t`: Horizontal Tab\n"
   ]
  },
  {
   "cell_type": "code",
   "execution_count": 37,
   "id": "c9d99b52-2329-41fb-bfd8-63355a1760be",
   "metadata": {},
   "outputs": [
    {
     "name": "stdout",
     "output_type": "stream",
     "text": [
      "Line 1\n",
      "\tLine 2\n",
      "\t\tLine 3\n",
      "You're twenty years old.\n",
      "A\\B\\C\n",
      "A\n",
      "B\n",
      "C\n",
      "A\tB\tC\n"
     ]
    }
   ],
   "source": [
    "print('Line 1\\n\\tLine 2\\n\\t\\tLine 3')\n",
    "# Breaks the line and tabs it.\n",
    "\n",
    "# Example 1\n",
    "print('You\\'re twenty years old.')\n",
    "\n",
    "#Example 2\n",
    "print('A\\\\B\\\\C')\n",
    "\n",
    "#Example 3\n",
    "print('A\\nB\\nC')\n",
    "\n",
    "#Example 4\n",
    "print('A\\tB\\tC')"
   ]
  },
  {
   "attachments": {},
   "cell_type": "markdown",
   "id": "5d7485ac",
   "metadata": {},
   "source": [
    "# 8 Computers read = from Right to Left!"
   ]
  },
  {
   "cell_type": "code",
   "execution_count": 38,
   "id": "8b64b4b8-5380-465c-8e88-322907fddb2f",
   "metadata": {},
   "outputs": [
    {
     "name": "stdout",
     "output_type": "stream",
     "text": [
      "42\n"
     ]
    }
   ],
   "source": [
    "# Python executes variable assignment (=) from Right to Left.\n",
    "\n",
    "y = 40\n",
    "y = y + 2\n",
    "print(y) #This should output 42."
   ]
  },
  {
   "attachments": {},
   "cell_type": "markdown",
   "id": "8d200c9d",
   "metadata": {},
   "source": [
    "# 9 Shorter and Cleaner Code"
   ]
  },
  {
   "cell_type": "code",
   "execution_count": 40,
   "id": "0f51003b-be04-427d-aee8-39e32a7f2ac3",
   "metadata": {},
   "outputs": [
    {
     "data": {
      "text/plain": [
       "42"
      ]
     },
     "execution_count": 40,
     "metadata": {},
     "output_type": "execute_result"
    }
   ],
   "source": [
    "# Shorthand Syntax\n",
    "\n",
    "y = 40 \n",
    "y = y + 2\n",
    "y\n",
    "\n",
    "# is exactly the same as:\n",
    "\n",
    "y = 40\n",
    "y += 2\n",
    "y #also prints out 42.\n",
    "\n",
    "# Works for other operations too.\n",
    "# Subtraction: y -= 2\n",
    "# Multiplication: y *= 2\n",
    "# Division: y /= 2"
   ]
  },
  {
   "attachments": {},
   "cell_type": "markdown",
   "id": "a3a68418",
   "metadata": {},
   "source": [
    "# 10 Python can be a prima-donna."
   ]
  },
  {
   "cell_type": "markdown",
   "id": "aba82668-9fb8-4282-88ee-1109c5056515",
   "metadata": {},
   "source": [
    "Fixing coding errors is known as **debugging**. This occurs when Python occurs an error and the error needs to be fixed."
   ]
  },
  {
   "attachments": {},
   "cell_type": "markdown",
   "id": "096cd660",
   "metadata": {},
   "source": [
    "# 11 Best Practices for Scientific Computing"
   ]
  },
  {
   "cell_type": "markdown",
   "id": "3d347398-08b6-42e0-91d2-12ac1a407c62",
   "metadata": {},
   "source": [
    "1. **Write programs for people, not computers.**\n",
    "2. **Optimise software only after it works correctly.**\n",
    "3. **Document design and purpose, not mechanics.**\n",
    "4. **Collaborate.**"
   ]
  },
  {
   "attachments": {},
   "cell_type": "markdown",
   "id": "746754b7",
   "metadata": {},
   "source": [
    "# 12 Looking for help"
   ]
  },
  {
   "cell_type": "code",
   "execution_count": 42,
   "id": "73d41195-f23b-45ca-aeb4-6543010699c0",
   "metadata": {},
   "outputs": [
    {
     "name": "stdout",
     "output_type": "stream",
     "text": [
      "Help on built-in function print in module builtins:\n",
      "\n",
      "print(*args, sep=' ', end='\\n', file=None, flush=False)\n",
      "    Prints the values to a stream, or to sys.stdout by default.\n",
      "    \n",
      "    sep\n",
      "      string inserted between values, default a space.\n",
      "    end\n",
      "      string appended after the last value, default a newline.\n",
      "    file\n",
      "      a file-like object (stream); defaults to the current sys.stdout.\n",
      "    flush\n",
      "      whether to forcibly flush the stream.\n",
      "\n"
     ]
    }
   ],
   "source": [
    "help(print) #Shows the documentation for the print function."
   ]
  },
  {
   "attachments": {},
   "cell_type": "markdown",
   "id": "9966fcc2",
   "metadata": {},
   "source": [
    "## References"
   ]
  },
  {
   "attachments": {},
   "cell_type": "markdown",
   "id": "cb222e85",
   "metadata": {},
   "source": [
    "## Footnotes"
   ]
  }
 ],
 "metadata": {
  "kernelspec": {
   "display_name": "Python 3 (ipykernel)",
   "language": "python",
   "name": "python3"
  },
  "language_info": {
   "codemirror_mode": {
    "name": "ipython",
    "version": 3
   },
   "file_extension": ".py",
   "mimetype": "text/x-python",
   "name": "python",
   "nbconvert_exporter": "python",
   "pygments_lexer": "ipython3",
   "version": "3.11.5"
  },
  "toc": {
   "base_numbering": 1,
   "nav_menu": {},
   "number_sections": true,
   "sideBar": true,
   "skip_h1_title": false,
   "title_cell": "Table of Contents",
   "title_sidebar": "Contents",
   "toc_cell": false,
   "toc_position": {},
   "toc_section_display": true,
   "toc_window_display": false
  },
  "vscode": {
   "interpreter": {
    "hash": "31f2aee4e71d21fbe5cf8b01ff0e069b9275f58929596ceb00d14d90e3e16cd6"
   }
  }
 },
 "nbformat": 4,
 "nbformat_minor": 5
}
