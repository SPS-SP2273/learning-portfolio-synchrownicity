{
 "cells": [
  {
   "attachments": {},
   "cell_type": "markdown",
   "id": "123456",
   "metadata": {},
   "source": [
    "<div style=\"text-align:left;font-size:2em\"><span style=\"font-weight:bolder;font-size:1.25em\">SP2273 | Learning Portfolio</span><br><br><span style=\"font-weight:bold;color:darkred\">Fundamentals (Nice)</span></div>"
   ]
  },
  {
   "attachments": {},
   "cell_type": "markdown",
   "id": "7ed8bcba",
   "metadata": {},
   "source": [
    "# 1 If if is not enough"
   ]
  },
  {
   "cell_type": "code",
   "execution_count": 1,
   "id": "1ee0fd89-ba60-415c-8e4f-5c0a53a97cef",
   "metadata": {},
   "outputs": [
    {
     "name": "stdout",
     "output_type": "stream",
     "text": [
      "Hello Hero | Batman!\n"
     ]
    }
   ],
   "source": [
    "# Instead of if-elif-else statements, we can use a match-case statement as a replacement.\n",
    "\n",
    "name = \"Batman\"\n",
    "\n",
    "match name:\n",
    "    case \"Batman\":\n",
    "        print(\"Hello Hero | Batman!\")\n",
    "    case \"Robin\":\n",
    "        print(\"Hello Sidekick | Robin!\")\n",
    "    case _:\n",
    "        print(\"Hello World!\")\n",
    "\n",
    "# The above should return \"Hello Hero | Batman!\"."
   ]
  },
  {
   "attachments": {},
   "cell_type": "markdown",
   "id": "2fe3cfc0",
   "metadata": {},
   "source": [
    "# 2 Ternary operators or Conditional Statements"
   ]
  },
  {
   "cell_type": "code",
   "execution_count": 7,
   "id": "08447cdd-2ff9-4375-b696-d87a0a4b9e63",
   "metadata": {},
   "outputs": [],
   "source": [
    "# Ternary operators help made the code more readable and less verbose.\n",
    "\n",
    "# Instead of:\n",
    "nationality = \"German\"\n",
    "if nationality == 'French':\n",
    "    greeting = \"Bonjour!\"\n",
    "else:\n",
    "    greeting = \"Hello!\"\n",
    "\n",
    "# We can write:\n",
    "greeting = \"Bonjour\" if nationality == \"French\" else \"Hello!\"\n",
    "\n",
    "# Or:\n",
    "(\"Bonjour\", \"Hello\")[nationality == \"French\"]\n",
    "\n",
    "# Another ternary operator:\n",
    "text = None\n",
    "message = text or \"No message!\""
   ]
  },
  {
   "attachments": {},
   "cell_type": "markdown",
   "id": "c4257f4b",
   "metadata": {},
   "source": [
    "# 3 Swapping values"
   ]
  },
  {
   "cell_type": "code",
   "execution_count": 6,
   "id": "d767e374-a0f9-428e-856a-dbd7f82377fe",
   "metadata": {},
   "outputs": [
    {
     "name": "stdout",
     "output_type": "stream",
     "text": [
      "2 1\n"
     ]
    }
   ],
   "source": [
    "# Values can be easily swapped on Python:\n",
    "a, b = 1, 2\n",
    "a, b = b, a\n",
    "print(a, b)"
   ]
  },
  {
   "attachments": {},
   "cell_type": "markdown",
   "id": "fa808aa7",
   "metadata": {},
   "source": [
    "# 4 There are more types"
   ]
  },
  {
   "cell_type": "code",
   "execution_count": 12,
   "id": "e7cb4b5b-298d-45b8-bd06-d7d033689a22",
   "metadata": {},
   "outputs": [
    {
     "name": "stdout",
     "output_type": "stream",
     "text": [
      "float          : 2.220446049250313e-16\n",
      "float16        : 0.000977\n",
      "float32        : 1.1920929e-07\n",
      "float64        : 2.220446049250313e-16\n"
     ]
    }
   ],
   "source": [
    "# To counteract rounding off errors, we can consider using higher precision types \n",
    "# such as np.float32 or np.float64. \n",
    "# We can use np.finfo() to query the limits applicable to floating point operations.\n",
    "import numpy as np\n",
    "\n",
    "my_types = [\n",
    "    float,\n",
    "    np.float16,\n",
    "    np.float32,\n",
    "    np.float64,\n",
    "]\n",
    "\n",
    "for my_type in my_types:\n",
    "    print(f'{my_type.__name__:<15s}:', np.finfo(my_type).eps)\n",
    "\n",
    "#The above gives the difference between 1.0 and the next nearest float types."
   ]
  },
  {
   "attachments": {},
   "cell_type": "markdown",
   "id": "9043a4b2",
   "metadata": {},
   "source": [
    "# 5 Operator precedance"
   ]
  },
  {
   "cell_type": "markdown",
   "id": "00c81e10-91e8-4f6a-93f9-36d2c9865028",
   "metadata": {},
   "source": [
    "**Operator Precedence (Order of Operations)**\n",
    "1. Parantheses: `()`\n",
    "2. Function Call: `f(args...)`\n",
    "3. Slicing: `x[index:index]`\n",
    "4. Subscription: `x[index]`\n",
    "5. Attribute Reference: `x.attribute`\n",
    "6. Exponentiation (Right to Left): `**`\n",
    "7. Bitwise Not: `~x`\n",
    "8. Positive, Negative: `+x, -x`\n",
    "9. Multiplication, Division, Modulo: `*, /, %`\n",
    "10. Addition, Subtraction: `+, -`\n",
    "11. Bitwise Shifts: `<<, >>`\n",
    "12. Bitwise AND: `&`\n",
    "13. Bitwise XOR: `^`\n",
    "14. Bitwsie OR: `\\|`\n",
    "15. Comparisons, Membership, Identity: `in, not in, is, is not, <, <=, >, >=, <>, !=, ==`\n",
    "16. Boolean NOT: `not x`\n",
    "17. Boolean AND: `and`\n",
    "18. Boolean OR: `or`\n",
    "19. Lambda Expression: `lambda`"
   ]
  },
  {
   "attachments": {},
   "cell_type": "markdown",
   "id": "565ea92c",
   "metadata": {},
   "source": [
    "# 6 Variables in Python are just names"
   ]
  },
  {
   "attachments": {},
   "cell_type": "markdown",
   "id": "5179a484",
   "metadata": {},
   "source": [
    "## 6.1 The Problem"
   ]
  },
  {
   "cell_type": "code",
   "execution_count": 13,
   "id": "19e0d511-0383-477e-93ab-ea998649d4d4",
   "metadata": {},
   "outputs": [
    {
     "name": "stdout",
     "output_type": "stream",
     "text": [
      "x: [1, 2, 3], y: [1, 2, 3]\n"
     ]
    }
   ],
   "source": [
    "x = [1, 2]\n",
    "y = x         # y is bound to x which is the same list object with value [1, 2]\n",
    "y.append(3)\n",
    "\n",
    "print(f\"x: {x}, y: {y}\")  # both x and y thus output the same list objects\n",
    "\n",
    "# Prediction --> Ouput: x: [1, 2], y: [1, 2, 3]\n",
    "# Actual: Ouput: x: [1, 2, 3], y: [1, 2, 3]\n"
   ]
  },
  {
   "attachments": {},
   "cell_type": "markdown",
   "id": "b3d253db",
   "metadata": {},
   "source": [
    "## 6.2 An explanation"
   ]
  },
  {
   "cell_type": "code",
   "execution_count": 14,
   "id": "abdae3a2-0d83-438c-958c-44f85144846d",
   "metadata": {},
   "outputs": [
    {
     "data": {
      "text/plain": [
       "'CODE 1'"
      ]
     },
     "execution_count": 14,
     "metadata": {},
     "output_type": "execute_result"
    }
   ],
   "source": [
    "'''CODE 1'''"
   ]
  },
  {
   "cell_type": "code",
   "execution_count": 16,
   "id": "47045018-a0cd-4c59-b531-e28ed8af1ace",
   "metadata": {},
   "outputs": [
    {
     "name": "stdout",
     "output_type": "stream",
     "text": [
      "x: 140713707672360, y: 140713707672360, 1: 140713707672360\n"
     ]
    }
   ],
   "source": [
    "x = 1\n",
    "y = 1\n",
    "print(f\"x: {id(x)}, y: {id(y)}, 1: {id(1)}\")\n",
    "\n",
    "# The above shows us that x and y both have the same id as 1.\n",
    "# Before the code is run, Python has objects 1, x and y that have three properties: \n",
    "# type, value and id. \n",
    "# The number 1 has the value 1, type int and some id. \n",
    "# The letter a has the value 'a', type str and some id.\n",
    "\n",
    "# After the code is run, x and y are bound to 1. Thus, x and y are referred to as \n",
    "# NAMES that are bound to 1."
   ]
  },
  {
   "cell_type": "code",
   "execution_count": 17,
   "id": "3d050819-49a5-44ec-9911-03e225e819b5",
   "metadata": {},
   "outputs": [
    {
     "data": {
      "text/plain": [
       "'CODE 2'"
      ]
     },
     "execution_count": 17,
     "metadata": {},
     "output_type": "execute_result"
    }
   ],
   "source": [
    "'''CODE 2'''"
   ]
  },
  {
   "cell_type": "code",
   "execution_count": 19,
   "id": "ae4b4e10-d509-42c8-bdcc-078e337c62cc",
   "metadata": {},
   "outputs": [
    {
     "name": "stdout",
     "output_type": "stream",
     "text": [
      "x: 140713707672360, y: 140713707672392\n",
      "1: 140713707672360, 2: 140713707672392\n"
     ]
    }
   ],
   "source": [
    "x = 1 \n",
    "y = x + 1\n",
    "print(f\"x: {id(x)}, y: {id(y)}\")\n",
    "print(f\"1: {id(1)}, 2: {id(2)}\")\n",
    "\n",
    "# y now gets bound to the object 2. This happens because the value of object 1\n",
    "# cannot be changed, so the binding is changed instead.\n",
    "# Objects such as 1 whose values cannot be changed are IMMUTABLE. \n",
    "# Other immutable types are str, float and bool.\n",
    "\n",
    "# MUTABLE objects are objects whose values can be changed.\n",
    "# These include lists and dictionaries and instances of classes.\n"
   ]
  },
  {
   "attachments": {},
   "cell_type": "markdown",
   "id": "592ffaff",
   "metadata": {},
   "source": [
    "## 6.3 A solution"
   ]
  },
  {
   "cell_type": "code",
   "execution_count": 20,
   "id": "f5cf1174-fbab-48f4-8e08-62b55ab38370",
   "metadata": {},
   "outputs": [
    {
     "name": "stdout",
     "output_type": "stream",
     "text": [
      "x: [1, 2], y: [1, 2, 3]\n"
     ]
    }
   ],
   "source": [
    "# For y to be a completely independent copy of x, we can use the .copy() function.\n",
    "x = [1, 2]\n",
    "y = x.copy()\n",
    "y.append(3)\n",
    "\n",
    "print(f\"x: {x}, y: {y}\")"
   ]
  },
  {
   "attachments": {},
   "cell_type": "markdown",
   "id": "c4f631a3",
   "metadata": {},
   "source": [
    "# 7 == is not the same as is"
   ]
  },
  {
   "cell_type": "code",
   "execution_count": null,
   "id": "e52256ef-53c7-4c22-a860-dcd3eae85eaa",
   "metadata": {},
   "outputs": [],
   "source": [
    "x is y  \n",
    "# The 'is' function checks for identity (it asks if x and y are bound to the same object\n",
    "# by comparing the ID.\n",
    "\n",
    "x == y\n",
    "# The '==' function checks for equality by running a function that checks for equality\n",
    "# (e.g. _eq_ of a class)."
   ]
  },
  {
   "attachments": {},
   "cell_type": "markdown",
   "id": "996ed8e0",
   "metadata": {},
   "source": [
    "## Footnotes"
   ]
  },
  {
   "cell_type": "markdown",
   "id": "028b4156-695e-4b9d-9019-5bdcbc0ca6b4",
   "metadata": {},
   "source": [
    "**Summary of Fundamentals (Nice)** <br>\n",
    "1. `match`-`case` statements as a replacement to `if`-`elif`-`else`\n",
    "2. Ternary Operators as a replacement for Conditionals\n",
    "   - Example: `greeting = \"Bonjour\" if nationality == \"French\" else \"Hello!\"`\n",
    "3. Swapping of Values by switching around variables\n",
    "4. Higher Precision Types: `np.float32` and `np.float64`\n",
    "5. Operator Precedence\n",
    "6. Type, Value and Int of Objects in Python\n",
    "7. Immutable (`str`, `float`, `bool`) and Mutable (`lists`, `dictionaries`) Objects\n",
    "8. Making Independent Copies of Another Variable using `.copy()`\n",
    "9. `is` checks for **identity**, while `==` checks for **equality** through an equality function"
   ]
  }
 ],
 "metadata": {
  "kernelspec": {
   "display_name": "Python 3 (ipykernel)",
   "language": "python",
   "name": "python3"
  },
  "language_info": {
   "codemirror_mode": {
    "name": "ipython",
    "version": 3
   },
   "file_extension": ".py",
   "mimetype": "text/x-python",
   "name": "python",
   "nbconvert_exporter": "python",
   "pygments_lexer": "ipython3",
   "version": "3.11.5"
  },
  "toc": {
   "base_numbering": 1,
   "nav_menu": {},
   "number_sections": true,
   "sideBar": true,
   "skip_h1_title": false,
   "title_cell": "Table of Contents",
   "title_sidebar": "Contents",
   "toc_cell": false,
   "toc_position": {},
   "toc_section_display": true,
   "toc_window_display": false
  },
  "vscode": {
   "interpreter": {
    "hash": "31f2aee4e71d21fbe5cf8b01ff0e069b9275f58929596ceb00d14d90e3e16cd6"
   }
  }
 },
 "nbformat": 4,
 "nbformat_minor": 5
}
