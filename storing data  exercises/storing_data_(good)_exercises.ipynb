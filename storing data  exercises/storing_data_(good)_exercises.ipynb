{
 "cells": [
  {
   "attachments": {},
   "cell_type": "markdown",
   "id": "123456",
   "metadata": {},
   "source": [
    "<div style=\"text-align:left;font-size:2em\"><span style=\"font-weight:bolder;font-size:1.25em\">SP2273 | Learning Portfolio</span><br><br><span style=\"font-weight:bold;color:darkred\">Storing Data (Good) Exercises</span></div>"
   ]
  },
  {
   "cell_type": "markdown",
   "id": "55d55416-3520-4973-a3f5-8cf724999a4d",
   "metadata": {},
   "source": [
    "#### **Exercise 1 (Total Recall)**"
   ]
  },
  {
   "cell_type": "markdown",
   "id": "c1177f09-8455-4cea-9ab8-323d13395425",
   "metadata": {},
   "source": [
    "Purely from memory, write short descriptions of the following terms:\n",
    "\n",
    "|**Term**    |**Brief Description**        |\n",
    "|:--         |:--:                         |\n",
    "|Subsetting  | Subsetting is the process of select an element, either from a list or an array.|\n",
    "|Indexing    | Indexing is simply selecting one element from a list or array. <br> For example, ` x = [1, 2, 3, 4, 5]`, `x[4]`. This outputs the element with the fourth index, i.e. `5`.|\n",
    "|Slicing     | Slicing is the process of select a number or multiple elements from a list of array. <br> An example would be as follows: `x = [1, 2, 3, 4, 5]`, `x[0:2]`. This outputs the first two elements `[1, 2]` from the original list x.|\n",
    "|Masking     | Masking is the process of removing certain elements from the original list. <br> Masking only works for NumPy arrays. For example, after importing `NumPy as np`, `x = [1, 2, 3, 4, 5]`, `np.array[x > 3]`. This will only output elements of `x` with a value greater than `3`. Thus, it will output `[4, 5]`.|\n"
   ]
  },
  {
   "cell_type": "markdown",
   "id": "713ee7cb-062c-4412-835a-b268fdbb0da6",
   "metadata": {},
   "source": [
    "#### **Exercise 2 (Show me the 'odd' letters)**"
   ]
  },
  {
   "cell_type": "code",
   "execution_count": 15,
   "id": "c28ad88f-a332-410f-8f41-cf43ea2e8711",
   "metadata": {},
   "outputs": [
    {
     "name": "stdout",
     "output_type": "stream",
     "text": [
      "['1' '3' '2' '4' '5' '7' '6' '8' '10' '9']\n",
      "[ 1  3  2  4  5  7  6  8 10  9]\n",
      "[1 1 0 0 1 1 0 0 0 1]\n",
      "[ True  True False False  True  True False False False  True]\n",
      "['A' 'C' 'E' 'G' 'I']\n"
     ]
    }
   ],
   "source": [
    "import numpy as np\n",
    "\n",
    "np_array_2d = np.array([[1, \"A\"], [3, \"C\"], [2, \"B\"], [4, \"D\"],\n",
    "                        [5, \"E\"], [7, \"G\"], [6, \"F\"], [8, \"H\"],\n",
    "                        [10, \"J\"], [9, \"I\"]])\n",
    "\n",
    "\n",
    "# Step 1: Subset all the first elements.\n",
    "first_elements = np_array_2d[:, 0]\n",
    "print(first_elements) \n",
    "\n",
    "\n",
    "# Step 2: Convert the elements to integers using astype(int).\n",
    "first_elements_int = first_elements.astype(int)\n",
    "print(first_elements_int) \n",
    "\n",
    "    # Note the syntax for as.type(int):\n",
    "    # DataFrame.astype(dtype, copy = True, errors = 'raise')\n",
    "    # Setting copy to TRUE, it creates another copy of the dataset with the changes.\n",
    "    # Setting errors to Raise, allow the exceptions to be raised by the function,\n",
    "    # if not we can set errors ot Ignore.\n",
    "\n",
    "\n",
    "# Step 3: Using Modulo to Get Remainder for Division by 2.\n",
    "remainder_first_elements = first_elements_int % 2\n",
    "print(remainder_first_elements)   \n",
    "\n",
    "\n",
    "# Step 4: Use Step 3 result to create a mask that checks if remainder is zero or not.\n",
    "mask = remainder_first_elements.astype(bool)\n",
    "print(mask)\n",
    "\n",
    "\n",
    "# Step 5: Use the mask to extract the corresponding second elements.\n",
    "odd_letters_list = np_array_2d[mask]\n",
    "odd_letters_only = odd_letters_list[:, 1]\n",
    "print(odd_letters_only)   # This outputs the correct result."
   ]
  },
  {
   "cell_type": "markdown",
   "id": "bc7a317d-9625-4101-8332-f091fe36c433",
   "metadata": {},
   "source": [
    "#### **~ End of Storing Data (Good) Exercises ~**"
   ]
  }
 ],
 "metadata": {
  "kernelspec": {
   "display_name": "Python 3 (ipykernel)",
   "language": "python",
   "name": "python3"
  },
  "language_info": {
   "codemirror_mode": {
    "name": "ipython",
    "version": 3
   },
   "file_extension": ".py",
   "mimetype": "text/x-python",
   "name": "python",
   "nbconvert_exporter": "python",
   "pygments_lexer": "ipython3",
   "version": "3.11.5"
  },
  "toc": {
   "base_numbering": 1,
   "nav_menu": {},
   "number_sections": true,
   "sideBar": true,
   "skip_h1_title": false,
   "title_cell": "Table of Contents",
   "title_sidebar": "Contents",
   "toc_cell": false,
   "toc_position": {},
   "toc_section_display": true,
   "toc_window_display": false
  },
  "vscode": {
   "interpreter": {
    "hash": "31f2aee4e71d21fbe5cf8b01ff0e069b9275f58929596ceb00d14d90e3e16cd6"
   }
  }
 },
 "nbformat": 4,
 "nbformat_minor": 5
}
