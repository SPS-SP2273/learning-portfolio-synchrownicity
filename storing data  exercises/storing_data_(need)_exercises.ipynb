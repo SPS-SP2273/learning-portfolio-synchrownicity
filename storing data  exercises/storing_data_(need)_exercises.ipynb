{
 "cells": [
  {
   "attachments": {},
   "cell_type": "markdown",
   "id": "123456",
   "metadata": {},
   "source": [
    "<div style=\"text-align:left;font-size:2em\"><span style=\"font-weight:bolder;font-size:1.25em\">SP2273 | Learning Portfolio</span><br><br><span style=\"font-weight:bold;color:darkred\">Storing Data (Need) Exercises</span></div>"
   ]
  },
  {
   "cell_type": "markdown",
   "id": "230cbdd8-b637-4868-ab0d-8e2a80277245",
   "metadata": {},
   "source": [
    "#### **Exercise 1 (Total Recall?)**"
   ]
  },
  {
   "cell_type": "markdown",
   "id": "d9ffe964-fcf0-4a29-9acd-86517d8be74f",
   "metadata": {},
   "source": [
    "Purely from memory, jot down:\n",
    "<br>\n",
    "1. **Two similarities between lists and arrays.**\n",
    "   - Both lists and arrays can store information (float, integer, boolean, complex) in a sequential order, whereby the information is stored as elements of the list or array.\n",
    "   - *Data from both lists and arrays can be accessed by calling upon the index corresponding to the data's position. `[0]` for the first data point, `[1]` for the second, and so on.*\n",
    "\n",
    "     <br>\n",
    "     \n",
    "3. **Two differences between lists and arrays.**\n",
    "   - Arrays can only store one type of information at a time (float, integer, boolean, complex) while lists are more flexible in that they can store multiple types without issue.\n",
    "\n",
    "   - Lists and arrays handle certain functions differently. For example, multiplying a list by an integer will cause the same list to be appended behind the original list that integer amount of times. Multiplying an array by an integer, on the other hand, will cause each element to be multiplied by that integer. The syntax for certain functions are also different (such as sum, max, min).\n",
    "    <br>\n",
    "5. **What is a dictionary?**\n",
    "   \n",
    "   A dictionary is similar to lists and arrays in a sense that it helps store certain information that can be used later. However, unlike lists and arrays, dictionary stores information via a `key`-`value` pair, where each `value` is mapped to a certain `key` (usually a string). By calling the `key` through the dictionary, the corresponding `value` will be returned. For example:\n",
    "   <br>\n",
    "   \n",
    "   ```python\n",
    "   day_conversions = {\n",
    "               \"Mon\": \"Monday\"\n",
    "               \"Tues\": \"Tuesday\"\n",
    "               \"Wed\": \"Wednesday\"\n",
    "               \"Thurs\": \"Thursday\"\n",
    "               \"Fri\": \"Friday\"\n",
    "               \"Sat\": \"Saturday\"\n",
    "               \"Sun\": \"Sunday\"\n",
    "    }\n",
    "\n",
    "    print(day_conversions[\"Mon\"])    # This will output the value \"Monday\".\n",
    "    print(day_conversions.keys())    # This will output all the keys.\n",
    "    print(day_conversions.values())  # This will output all the values.\n",
    "    ```"
   ]
  },
  {
   "cell_type": "markdown",
   "id": "2497c600-85a0-4bd7-ba5a-7c2e7a8c018e",
   "metadata": {},
   "source": [
    "#### **Exercise 2 (Indexing)**"
   ]
  },
  {
   "cell_type": "code",
   "execution_count": 1,
   "id": "0891215b-ce89-426f-b68b-62a23d22b6aa",
   "metadata": {},
   "outputs": [
    {
     "name": "stdout",
     "output_type": "stream",
     "text": [
      "a1\n",
      "c3\n",
      "e5\n",
      "g7\n",
      "i9\n"
     ]
    }
   ],
   "source": [
    "py_list = [\"a1\", \"b2\", \"c3\", \"d4\", \"e5\", \"f6\", \"g7\", \"h8\", \"i9\", \"j10\"]\n",
    "print(py_list[0])   # Prints 'a1'\n",
    "print(py_list[2])   # Prints 'c3'\n",
    "print(py_list[4])   # Prints 'e5'\n",
    "print(py_list[6])   # Prints 'g7'\n",
    "print(py_list[8])   # Prints 'i9'"
   ]
  },
  {
   "cell_type": "markdown",
   "id": "0f290122-596a-400e-be40-a88f5b331dfc",
   "metadata": {},
   "source": [
    "#### **Exercise 3 (Index Again)**"
   ]
  },
  {
   "cell_type": "code",
   "execution_count": 3,
   "id": "695b3962-1c3b-4990-a557-60f1362b62bb",
   "metadata": {},
   "outputs": [
    {
     "name": "stdout",
     "output_type": "stream",
     "text": [
      "Boron\n",
      "Boron\n"
     ]
    }
   ],
   "source": [
    "elements = ['Hydrogen',\n",
    "            'Helium', 'Lithium',\n",
    "            'Beryllium', 'Boron', 'Carbon',\n",
    "            'Nitrogen', 'Oxygen',\n",
    "            'Fluorine',\n",
    "            'Neon']\n",
    "\n",
    "print(elements[4])    # Prints 'Boron' using forward indexing.\n",
    "print(elements[-6])   # Prints 'Boron' using reverse indexing."
   ]
  },
  {
   "cell_type": "markdown",
   "id": "991c13a1-9411-40ec-b2ad-bae8790c06ce",
   "metadata": {},
   "source": [
    "#### **Exercise 4 (How many ones)**"
   ]
  },
  {
   "cell_type": "code",
   "execution_count": 5,
   "id": "ddfe6ba6-7240-4d9b-966d-bdadd03c0540",
   "metadata": {},
   "outputs": [
    {
     "name": "stdout",
     "output_type": "stream",
     "text": [
      "9\n"
     ]
    }
   ],
   "source": [
    "import numpy as np\n",
    "\n",
    "numbers=[45, 60, 1, 30, 96, 1, 96, 57, 16, 1,\n",
    "        99, 62, 86, 43, 42, 60, 59, 1, 1, 35,\n",
    "        83, 47, 34, 28, 68, 23, 22, 92, 1, 79,\n",
    "        1, 29, 94, 72, 46, 47, 1, 74, 32, 20,\n",
    "        8, 37, 35, 1, 89, 29, 86, 19, 43, 61]                  \n",
    "\n",
    "numbers_array = np.array(numbers)\n",
    "\n",
    "a = numbers_array == 1\n",
    "\n",
    "print(a.sum())\n",
    "#The above will output the number of 1s in the list.\n"
   ]
  },
  {
   "cell_type": "markdown",
   "id": "1e0d34d7-1067-4a21-9732-698ee9345dc0",
   "metadata": {},
   "source": [
    "#### **~ End of Storing Data (Need) Exercises ~**"
   ]
  }
 ],
 "metadata": {
  "kernelspec": {
   "display_name": "Python 3 (ipykernel)",
   "language": "python",
   "name": "python3"
  },
  "language_info": {
   "codemirror_mode": {
    "name": "ipython",
    "version": 3
   },
   "file_extension": ".py",
   "mimetype": "text/x-python",
   "name": "python",
   "nbconvert_exporter": "python",
   "pygments_lexer": "ipython3",
   "version": "3.11.5"
  },
  "toc": {
   "base_numbering": 1,
   "nav_menu": {},
   "number_sections": true,
   "sideBar": true,
   "skip_h1_title": false,
   "title_cell": "Table of Contents",
   "title_sidebar": "Contents",
   "toc_cell": false,
   "toc_position": {},
   "toc_section_display": true,
   "toc_window_display": false
  },
  "vscode": {
   "interpreter": {
    "hash": "31f2aee4e71d21fbe5cf8b01ff0e069b9275f58929596ceb00d14d90e3e16cd6"
   }
  }
 },
 "nbformat": 4,
 "nbformat_minor": 5
}
