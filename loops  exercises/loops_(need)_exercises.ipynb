{
 "cells": [
  {
   "attachments": {},
   "cell_type": "markdown",
   "id": "123456",
   "metadata": {},
   "source": [
    "<div style=\"text-align:left;font-size:2em\"><span style=\"font-weight:bolder;font-size:1.25em\">SP2273 | Learning Portfolio</span><br><br><span style=\"font-weight:bold;color:darkred\">Loops (Need) Exercises</span></div>"
   ]
  },
  {
   "cell_type": "markdown",
   "id": "1e4924bb-1ac0-460a-b267-4430530c901e",
   "metadata": {},
   "source": [
    "#### **Exercise 1 (Celcius to Farenheit)**"
   ]
  },
  {
   "cell_type": "code",
   "execution_count": 30,
   "id": "8d708a23-1d3d-4647-8843-7db6b2a14a46",
   "metadata": {},
   "outputs": [
    {
     "name": "stdout",
     "output_type": "stream",
     "text": [
      "[0, 32.0]\n",
      "[5, 41.0]\n",
      "[10, 50.0]\n",
      "[15, 59.0]\n",
      "[20, 68.0]\n",
      "[25, 77.0]\n",
      "[30, 86.0]\n",
      "[35, 95.0]\n",
      "[40, 104.0]\n",
      "[45, 113.0]\n",
      "[50, 122.0]\n"
     ]
    }
   ],
   "source": [
    "temperatures_celsius = [\n",
    "    0, 5, 10, 15, 20, 25,\n",
    "    30, 35, 40, 45, 50\n",
    "]\n",
    "\n",
    "for temp in range(len(temperatures_celsius)):\n",
    "    cel_temp = temperatures_celsius[temp]\n",
    "    fahr_temp = (cel_temp * 9/5) + 32\n",
    "    print([cel_temp, fahr_temp])"
   ]
  },
  {
   "cell_type": "markdown",
   "id": "0b9e1e37-dca8-4a50-86e2-483015a74856",
   "metadata": {},
   "source": [
    "#### **Exercise 2 (Multiplication Table)**"
   ]
  },
  {
   "cell_type": "code",
   "execution_count": 3,
   "id": "d581352b-a646-4507-a3fb-371041b902a4",
   "metadata": {},
   "outputs": [
    {
     "name": "stdout",
     "output_type": "stream",
     "text": [
      "A1\tA2\tA3\t\n",
      "\n",
      "B1\tB2\tB3\t\n",
      "\n",
      "C1\tC2\tC3\t\n",
      "\n"
     ]
    }
   ],
   "source": [
    "# Can put loops within loops to do doubly loopy stuff. Here is an example:\n",
    "\n",
    "for letter in ['A', 'B', 'C']:\n",
    "    for number in [1, 2, 3]:\n",
    "        print(f'{letter}{number}', end = '\\t')\n",
    "    print('\\n')"
   ]
  },
  {
   "cell_type": "code",
   "execution_count": 2,
   "id": "c6a6e62d-09a2-4f5d-acac-1090adcb2b35",
   "metadata": {},
   "outputs": [
    {
     "name": "stdout",
     "output_type": "stream",
     "text": [
      "1 : 1\t2\t3\t4\t5\t\n",
      "\n",
      "2 : 2\t4\t6\t8\t10\t\n",
      "\n",
      "3 : 3\t6\t9\t12\t15\t\n",
      "\n",
      "4 : 4\t8\t12\t16\t20\t\n",
      "\n",
      "5 : 5\t10\t15\t20\t25\t\n",
      "\n"
     ]
    }
   ],
   "source": [
    "for number in range(1, 6):\n",
    "    print(f'{number} :', end = ' ')           # prints the first nyumber + colon\n",
    "    for number_2 in range(1, 6):              # for loop which prints the table\n",
    "        final_value = number*number_2\n",
    "        print(f'{final_value}', end = '\\t')\n",
    "    print('\\n')                               # prints the next line"
   ]
  },
  {
   "cell_type": "markdown",
   "id": "9df5f7d0-978d-4573-bd7a-012e6636b24c",
   "metadata": {},
   "source": [
    "#### **~ End of Loops Exercise (Need)~**"
   ]
  }
 ],
 "metadata": {
  "kernelspec": {
   "display_name": "Python 3 (ipykernel)",
   "language": "python",
   "name": "python3"
  },
  "language_info": {
   "codemirror_mode": {
    "name": "ipython",
    "version": 3
   },
   "file_extension": ".py",
   "mimetype": "text/x-python",
   "name": "python",
   "nbconvert_exporter": "python",
   "pygments_lexer": "ipython3",
   "version": "3.11.5"
  },
  "toc": {
   "base_numbering": 1,
   "nav_menu": {},
   "number_sections": true,
   "sideBar": true,
   "skip_h1_title": false,
   "title_cell": "Table of Contents",
   "title_sidebar": "Contents",
   "toc_cell": false,
   "toc_position": {},
   "toc_section_display": true,
   "toc_window_display": false
  },
  "vscode": {
   "interpreter": {
    "hash": "31f2aee4e71d21fbe5cf8b01ff0e069b9275f58929596ceb00d14d90e3e16cd6"
   }
  }
 },
 "nbformat": 4,
 "nbformat_minor": 5
}
