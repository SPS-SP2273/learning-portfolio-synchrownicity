{
 "cells": [
  {
   "attachments": {},
   "cell_type": "markdown",
   "id": "123456",
   "metadata": {},
   "source": [
    "<div style=\"text-align:left;font-size:2em\"><span style=\"font-weight:bolder;font-size:1.25em\">SP2273 | Learning Portfolio</span><br><br><span style=\"font-weight:bold;color:darkred\">Loops (Good) Exercises</span></div>"
   ]
  },
  {
   "cell_type": "markdown",
   "id": "2c9e88e7-078f-4b4e-bd95-f5113c025ea2",
   "metadata": {},
   "source": [
    "#### **Exercise 1 (Make me an Odd List)**"
   ]
  },
  {
   "cell_type": "code",
   "execution_count": 22,
   "id": "d3b155e1-a4aa-4aed-b498-8ba663701507",
   "metadata": {},
   "outputs": [
    {
     "name": "stdout",
     "output_type": "stream",
     "text": [
      "[1, 3, 5, 7, 9]\n"
     ]
    }
   ],
   "source": [
    "list = []                   # Cannot put inside for loop as it will generate a new list\n",
    "\n",
    "for i in range(10):\n",
    "    if i % 2 == 0:\n",
    "        continue\n",
    "    else:\n",
    "        list.extend([i])    # Extend with list not integer\n",
    "\n",
    "print(list)"
   ]
  },
  {
   "cell_type": "markdown",
   "id": "74dca1f6-619e-4854-a795-100c8d9e6dba",
   "metadata": {},
   "source": [
    "#### **Exercise 2 (Make Me Another Odd List)**"
   ]
  },
  {
   "cell_type": "code",
   "execution_count": 3,
   "id": "dc3ac6e2-4162-4925-89e2-8e3395fb4b28",
   "metadata": {},
   "outputs": [
    {
     "data": {
      "text/plain": [
       "[1, 3, 5, 7, 9]"
      ]
     },
     "execution_count": 3,
     "metadata": {},
     "output_type": "execute_result"
    }
   ],
   "source": [
    "[number for number in range(10) if number % 2 != 0]"
   ]
  },
  {
   "cell_type": "markdown",
   "id": "b0240418-43fe-4bb2-b8ad-617ce05f458a",
   "metadata": {},
   "source": [
    "#### **Exercise 3 (Time Me!)**"
   ]
  },
  {
   "cell_type": "code",
   "execution_count": 1,
   "id": "33e2d62f-af6a-4b2c-8621-550185f21791",
   "metadata": {},
   "outputs": [
    {
     "name": "stdout",
     "output_type": "stream",
     "text": [
      "1.95 µs ± 18.3 ns per loop (mean ± std. dev. of 7 runs, 1,000,000 loops each)\n"
     ]
    }
   ],
   "source": [
    "%%timeit                    # Don't use %%timeit with a print statement\n",
    "\n",
    "list = []                   # Cannot put inside for loop as it will generate a new list\n",
    "\n",
    "for i in range(10):\n",
    "    if i % 2 == 0:\n",
    "        continue\n",
    "    else:\n",
    "        list.extend([i])    # Extend with list not integer\n",
    "\n",
    "#print(list)         \n",
    "\n",
    "# Time Taken: 1.95 µs ± 18.3 ns per loop"
   ]
  },
  {
   "cell_type": "code",
   "execution_count": 2,
   "id": "c9773270-f19b-4309-8048-efa1d7444c50",
   "metadata": {},
   "outputs": [
    {
     "name": "stdout",
     "output_type": "stream",
     "text": [
      "1.66 µs ± 13.4 ns per loop (mean ± std. dev. of 7 runs, 1,000,000 loops each)\n"
     ]
    }
   ],
   "source": [
    "%%timeit\n",
    "\n",
    "[number for number in range(10) if number % 2 != 0]\n",
    "\n",
    "# Time Taken: 1.66 µs ± 13.4 ns per loop"
   ]
  },
  {
   "cell_type": "markdown",
   "id": "a840b7c4-9241-4a48-bcdb-86d8bf6bd9a2",
   "metadata": {},
   "source": [
    "#### **Exercise 4 (A Problem of Decay)**"
   ]
  },
  {
   "cell_type": "code",
   "execution_count": 4,
   "id": "abdc814a-c1de-4d4a-b13e-8bbe41efa330",
   "metadata": {},
   "outputs": [
    {
     "name": "stdout",
     "output_type": "stream",
     "text": [
      "14\n"
     ]
    }
   ],
   "source": [
    "initial = 100\n",
    "year = 0\n",
    "\n",
    "while True:\n",
    "    if initial < 50:\n",
    "        break\n",
    "    else:\n",
    "        initial *= 0.95\n",
    "        year += 1\n",
    "\n",
    "print(year)"
   ]
  },
  {
   "cell_type": "markdown",
   "id": "1e9f5e56-202f-4eaa-b00a-343c39d11b7c",
   "metadata": {},
   "source": [
    "#### **Exercise 5 (Changes in CO2)**"
   ]
  },
  {
   "cell_type": "code",
   "execution_count": 58,
   "id": "1cbfd191-7a49-4f92-b214-93e0a5f6fd1c",
   "metadata": {},
   "outputs": [
    {
     "name": "stdout",
     "output_type": "stream",
     "text": [
      "2016 3.41\n"
     ]
    }
   ],
   "source": [
    "\n",
    "co2_data = [\n",
    "    (2000, 369.55), (2001, 371.14), (2002, 373.28), \n",
    "    (2003, 375.80), (2004, 377.52), (2005, 379.80), \n",
    "    (2006, 381.90), (2007, 383.79), (2008, 385.60), \n",
    "    (2009, 387.43), (2010, 389.90), (2011, 391.65), \n",
    "    (2012, 393.85), (2013, 396.52), (2014, 398.65),\n",
    "    (2015, 400.83), (2016, 404.24), (2017, 406.55), \n",
    "    (2018, 408.52), (2019, 411.44), (2020, 414.24)\n",
    "]\n",
    "\n",
    "for i in range(len(co2_data)):\n",
    "    if i == 0:\n",
    "        continue # Removes the first tuple where there is no last year data (i.e. 1999)\n",
    "    else:\n",
    "        co2_data_last_year = co2_data[i-1]       # Identifies previous year's tuple\n",
    "        co2_last_year = co2_data_last_year[1]    # Identifies previous year's CO2\n",
    "        co2_data_this_year = co2_data[i]         # Identifies this year's tuple\n",
    "        co2_this_year = co2_data_this_year[1]    # Identifies this year's CO2\n",
    "        change = co2_this_year - co2_last_year\n",
    "        if change > 3:\n",
    "            print(co2_data_this_year[0], round(change, 2)) # Prints this year + change in ppm\n",
    "        else:\n",
    "            continue"
   ]
  },
  {
   "cell_type": "markdown",
   "id": "5be52bc3-a575-4969-ab45-776e38c1c1c8",
   "metadata": {},
   "source": [
    "#### **~ End of Loops Exercise (Good)~**"
   ]
  }
 ],
 "metadata": {
  "kernelspec": {
   "display_name": "Python 3 (ipykernel)",
   "language": "python",
   "name": "python3"
  },
  "language_info": {
   "codemirror_mode": {
    "name": "ipython",
    "version": 3
   },
   "file_extension": ".py",
   "mimetype": "text/x-python",
   "name": "python",
   "nbconvert_exporter": "python",
   "pygments_lexer": "ipython3",
   "version": "3.11.5"
  },
  "toc": {
   "base_numbering": 1,
   "nav_menu": {},
   "number_sections": true,
   "sideBar": true,
   "skip_h1_title": false,
   "title_cell": "Table of Contents",
   "title_sidebar": "Contents",
   "toc_cell": false,
   "toc_position": {},
   "toc_section_display": true,
   "toc_window_display": false
  },
  "vscode": {
   "interpreter": {
    "hash": "31f2aee4e71d21fbe5cf8b01ff0e069b9275f58929596ceb00d14d90e3e16cd6"
   }
  }
 },
 "nbformat": 4,
 "nbformat_minor": 5
}
