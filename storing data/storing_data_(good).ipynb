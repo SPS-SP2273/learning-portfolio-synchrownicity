{
 "cells": [
  {
   "attachments": {},
   "cell_type": "markdown",
   "id": "123456",
   "metadata": {},
   "source": [
    "<div style=\"text-align:left;font-size:2em\"><span style=\"font-weight:bolder;font-size:1.25em\">SP2273 | Learning Portfolio</span><br><br><span style=\"font-weight:bold;color:darkred\">Storing Data (Good)</span></div>"
   ]
  },
  {
   "attachments": {},
   "cell_type": "markdown",
   "id": "be2786c3",
   "metadata": {},
   "source": [
    "# What to expect in this chapter"
   ]
  },
  {
   "attachments": {},
   "cell_type": "markdown",
   "id": "ea0d9b8a",
   "metadata": {},
   "source": [
    "# 1 Subsetting: Indexing and Slicing"
   ]
  },
  {
   "cell_type": "markdown",
   "id": "6d549ed5-5260-4433-b644-b31bc3ebf98c",
   "metadata": {},
   "source": [
    "**Subsetting**\n",
    "Subsetting is the process of *selecting a subset of the data* in a list or array.\n",
    "One form of this is picking a *single element* through **indexing** (see previous chapter).\n",
    "Another option to *select a range of elements* is called **slicing**.\n",
    "\n",
    "In short,\n",
    "- **Subsetting**: To select\n",
    "- **Indexing**: Selecting one element\n",
    "- **Slicing**: Selecting a range of elements"
   ]
  },
  {
   "attachments": {},
   "cell_type": "markdown",
   "id": "521b5e8f",
   "metadata": {},
   "source": [
    "## 1.1 Lists & Arrays in 1D | Subsetting & Indexing"
   ]
  },
  {
   "cell_type": "code",
   "execution_count": 2,
   "id": "71310b16-ecc4-4d81-8baa-e9e726f060f9",
   "metadata": {},
   "outputs": [
    {
     "data": {
      "text/plain": [
       "['j10', 'i9', 'h8', 'g7', 'f6', 'e5', 'd4', 'c3', 'b2', 'a1']"
      ]
     },
     "execution_count": 2,
     "metadata": {},
     "output_type": "execute_result"
    }
   ],
   "source": [
    "import numpy as np\n",
    "\n",
    "x = [\"a1\", \"b2\", \"c3\", \"d4\", \"e5\", \"f6\", \"g7\", \"h8\", \"i9\", \"j10\"]\n",
    "np_array = np.array(x)\n",
    "\n",
    "x[0]       # Prints first element 'a1'.\n",
    "x[-1]      # Prints last element 'j10'.\n",
    "x[0:3]     # Prints first to third element 'a1', 'b2', 'c3'.\n",
    "x[1:6]     # Prints second to sixth element.\n",
    "x[1:6:2]   # Prints second to sixth element in steps of 2 ['b2', 'd4', 'f6'].\n",
    "x[5: ]     # Prints sixth element to the end (gives len(x) - 5 elements)\n",
    "x[:5]      # Prints first to sixth element (gives 5 elements)\n",
    "x[5:2:-1]  # Prints index 5 to 3 (i.e. in reverse)\n",
    "x[::-1]    # reverses the list"
   ]
  },
  {
   "attachments": {},
   "cell_type": "markdown",
   "id": "d17f91ee",
   "metadata": {},
   "source": [
    "## 1.2 Arrays only | Subsetting by masking"
   ]
  },
  {
   "cell_type": "code",
   "execution_count": 5,
   "id": "ede1face-86cf-41bf-821c-5619b5880dfb",
   "metadata": {},
   "outputs": [
    {
     "data": {
      "text/plain": [
       "array([ 4,  5,  6,  7,  8,  9, 10])"
      ]
     },
     "execution_count": 5,
     "metadata": {},
     "output_type": "execute_result"
    }
   ],
   "source": [
    "# NumPy arrays can be subsetted by masking.\n",
    "\n",
    "np_array = np.array([1, 2, 3, 4, 5, 6, 7, 8, 9, 10])\n",
    "my_mask = np_array > 3\n",
    "my_mask\n",
    "\n",
    "# This returns an array in a TRUE / FALSE format.\n",
    "# I can then use this TRUE / FALSE format to ask NumPy to show by the ones that are\n",
    "# TRUE by using the following command.\n",
    "\n",
    "np_array[my_mask]\n",
    "\n",
    "# The TRUE / FALSE answer acts like a mask allowing only the TRUE subset to be seen."
   ]
  },
  {
   "cell_type": "code",
   "execution_count": 6,
   "id": "28c6480a-cc14-4146-bd7d-7f235d5faee7",
   "metadata": {},
   "outputs": [
    {
     "data": {
      "text/plain": [
       "array([ 4,  5,  6,  7,  8,  9, 10])"
      ]
     },
     "execution_count": 6,
     "metadata": {},
     "output_type": "execute_result"
    }
   ],
   "source": [
    "# To simplify this, we can write the following:\n",
    "np_array[np_array > 3]\n",
    "\n",
    "# This omits the need to create another variable."
   ]
  },
  {
   "cell_type": "code",
   "execution_count": 8,
   "id": "10073850-2c13-4735-b175-e21167ed023b",
   "metadata": {},
   "outputs": [
    {
     "data": {
      "text/plain": [
       "array([1, 2, 3])"
      ]
     },
     "execution_count": 8,
     "metadata": {},
     "output_type": "execute_result"
    }
   ],
   "source": [
    "# The mask can be inverted using ~. This is the Bitwise NOT operator.\n",
    "np_array[~(np_array > 3)]\n",
    "# This outputs array([1, 2, 3])"
   ]
  },
  {
   "cell_type": "code",
   "execution_count": 10,
   "id": "b94f5f70-01f9-450c-a684-b44de97c8f4f",
   "metadata": {},
   "outputs": [
    {
     "data": {
      "text/plain": [
       "array([4, 5, 6, 7])"
      ]
     },
     "execution_count": 10,
     "metadata": {},
     "output_type": "execute_result"
    }
   ],
   "source": [
    "# We can also combine one mask with another mask using the AND operator.\n",
    "# AND will only show something if both masks are true.\n",
    "# & is the Bitwise AND operator.\n",
    "\n",
    "np_array[(np_array > 3) & (np_array < 8)]"
   ]
  },
  {
   "cell_type": "code",
   "execution_count": 11,
   "id": "b8cc71a6-3123-4cb7-868a-e606f04af1ad",
   "metadata": {},
   "outputs": [
    {
     "data": {
      "text/plain": [
       "array([ 1,  2,  9, 10])"
      ]
     },
     "execution_count": 11,
     "metadata": {},
     "output_type": "execute_result"
    }
   ],
   "source": [
    "# We can combine one mask OR another mask using | which is the Bitwise OR operator.\n",
    "\n",
    "np_array[(np_array < 3) | (np_array > 8)]"
   ]
  },
  {
   "attachments": {},
   "cell_type": "markdown",
   "id": "4ad1a7cd",
   "metadata": {},
   "source": [
    "## 1.3 Lists & Arrays in 2D | Indexing & Slicing"
   ]
  },
  {
   "cell_type": "code",
   "execution_count": 15,
   "id": "9c126c54-d316-470b-b2c6-027dc142d15b",
   "metadata": {},
   "outputs": [
    {
     "name": "stdout",
     "output_type": "stream",
     "text": [
      "[4, 'D']\n"
     ]
    },
    {
     "data": {
      "text/plain": [
       "array(['4', 'D'], dtype='<U11')"
      ]
     },
     "execution_count": 15,
     "metadata": {},
     "output_type": "execute_result"
    }
   ],
   "source": [
    "# Differences between lists and arrays are more apparent in higher dimensional lists\n",
    "# and arrays, especially when indexing / slicing in higher dimensions.\n",
    "\n",
    "py_list_2d = [[1, \"A\"], [2, \"B\"], [3, \"C\"], [4, \"D\"],\n",
    "              [5, \"E\"], [6, \"F\"], [7, \"G\"], [8, \"H\"],\n",
    "              [9, \"I\"], [10, \"J\"]]\n",
    "\n",
    "np_array_2d = np.array(py_list_2d)\n",
    "\n",
    "# Q1. What is at position 4 (index 3)?\n",
    "print(py_list_2d[3])\n",
    "\n",
    "np_array_2d[3]"
   ]
  },
  {
   "cell_type": "code",
   "execution_count": 17,
   "id": "94d0b251-1cff-4698-8104-1e3e57cde717",
   "metadata": {},
   "outputs": [
    {
     "name": "stdout",
     "output_type": "stream",
     "text": [
      "4\n",
      "4\n"
     ]
    }
   ],
   "source": [
    "# Q2. What is the FIRST element at position 4 (index 3)?\n",
    "\n",
    "print(py_list_2d[3][0])\n",
    "print(np_array_2d[3, 0])\n",
    "\n",
    "# Note the syntax between lists and arrays.\n",
    "# Arrays use a single pair of square brackets compared to lists."
   ]
  },
  {
   "cell_type": "code",
   "execution_count": 18,
   "id": "29b2c4b9-b9ac-4c70-8a33-aa2b9a78cd3e",
   "metadata": {},
   "outputs": [
    {
     "name": "stdout",
     "output_type": "stream",
     "text": [
      "[[1, 'A'], [2, 'B'], [3, 'C']]\n"
     ]
    },
    {
     "data": {
      "text/plain": [
       "array([['1', 'A'],\n",
       "       ['2', 'B'],\n",
       "       ['3', 'C']], dtype='<U11')"
      ]
     },
     "execution_count": 18,
     "metadata": {},
     "output_type": "execute_result"
    }
   ],
   "source": [
    "# Q3. What are the first three elements?\n",
    "\n",
    "print(py_list_2d[:3])\n",
    "\n",
    "np_array_2d[:3]"
   ]
  },
  {
   "cell_type": "code",
   "execution_count": 19,
   "id": "28408079-74d4-4d35-9724-689b9fe9d309",
   "metadata": {},
   "outputs": [
    {
     "name": "stdout",
     "output_type": "stream",
     "text": [
      "[1, 'A']\n"
     ]
    },
    {
     "data": {
      "text/plain": [
       "array(['1', '2', '3'], dtype='<U11')"
      ]
     },
     "execution_count": 19,
     "metadata": {},
     "output_type": "execute_result"
    }
   ],
   "source": [
    "# Q4. \n",
    "\n",
    "print(py_list_2d[:3][0])\n",
    "# Instead of printing the first elements of the three sublists (up to index 2, i.e. \n",
    "# [1, 2, 3], it instead returns the first of the list you get from py_list_2d[:3].\n",
    "\n",
    "np_array_2d[:3, 0]\n",
    "# NumPy arrays however, will obtain the correct thing."
   ]
  },
  {
   "cell_type": "code",
   "execution_count": 22,
   "id": "e7b4d444-e922-4620-a2d7-be2e4af9e8eb",
   "metadata": {},
   "outputs": [
    {
     "name": "stdout",
     "output_type": "stream",
     "text": [
      "[4, 'D']\n",
      "['4' '5' '6']\n"
     ]
    },
    {
     "data": {
      "text/plain": [
       "array(['1', '2', '3', '4', '5', '6', '7', '8', '9', '10'], dtype='<U11')"
      ]
     },
     "execution_count": 22,
     "metadata": {},
     "output_type": "execute_result"
    }
   ],
   "source": [
    "# Q5.\n",
    "\n",
    "print(py_list_2d[3:6][0])\n",
    "# This will return [4, 'D'], because it prints the 1D lists of index 3 to 5 within the\n",
    "# 2D list py_list_2d, and then subsequently prints the first element of this sublist,\n",
    "# which is [4, 'D'].\n",
    "\n",
    "print(np_array_2d[3:6, 0])\n",
    "# This returns array(['4', '5', '6'], because from the sublist of 1D lists of index 3 to 5,\n",
    "# it will print the first element of each of the 1D list, which are the integers 4, 5, 6.\n",
    "\n",
    "np_array_2d[:, 0]\n",
    "# To return every first element of each of the 1D lists in the 2D lists, use the above\n",
    "# syntax."
   ]
  },
  {
   "attachments": {},
   "cell_type": "markdown",
   "id": "d01fb907",
   "metadata": {},
   "source": [
    "## 1.4 Growing lists"
   ]
  },
  {
   "cell_type": "code",
   "execution_count": 25,
   "id": "c4845357-b557-41d6-bd7f-db5895837a0f",
   "metadata": {},
   "outputs": [
    {
     "name": "stdout",
     "output_type": "stream",
     "text": [
      "[1, 2, 1, 2, 1, 2, 1, 2, 1, 2]\n",
      "[1, 2, 3, 4]\n",
      "[1, 2, 3, 4]\n",
      "[1, 2, 3, 4]\n",
      "[1, 2, 3, 4, 5, 6]\n",
      "[1, 2, 3, 4, 5, 6]\n",
      "[1, 2, 3, [4, 5, 6]]\n"
     ]
    }
   ],
   "source": [
    "# The slicing function of NumPy arrays is more intuitive with lists.\n",
    "# What are some advantages of lists? Ease in efficiency in growing.\n",
    "# NumPy arrays are great at math but provided their SIZE DOES NOT CHANGE.\n",
    "\n",
    "# Below shows how to grow a list, which will be useful for in solving differential\n",
    "# equations numerically.\n",
    "\n",
    "x=[1,2]*5\n",
    "print(x)\n",
    "\n",
    "# Appending lists one element at a time:\n",
    "x = [1]\n",
    "x = x + [2]\n",
    "x = x + [3]\n",
    "x = x + [4]\n",
    "print(x)\n",
    "\n",
    "x=[1]\n",
    "x+= [2]\n",
    "x+= [3]\n",
    "x+= [4]\n",
    "print(x)   # Same syntax as above.\n",
    "\n",
    "x=[1]\n",
    "x.append(2)\n",
    "x.append(3)\n",
    "x.append(4)\n",
    "print(x)   # Same syntax as above.\n",
    "\n",
    "# Execution speeds are different between the above versions, with append() running 1.5\n",
    "# times faster than the rest.\n",
    "\n",
    "# Incorporating multiple elements:\n",
    "x = [1, 2, 3]\n",
    "x += [4, 5, 6]\n",
    "print(x)\n",
    "\n",
    "x = [1, 2, 3]\n",
    "x.extend([4, 5, 6])\n",
    "print(x)\n",
    "\n",
    "x = [1, 2, 3]\n",
    "x.append([4, 5, 6])\n",
    "print(x)\n",
    "\n",
    "# Take note of the difference in the result between extend and append.\n",
    "# Append adds a list within the list, while extend continues the original list itself.\n"
   ]
  },
  {
   "attachments": {},
   "cell_type": "markdown",
   "id": "5be78d18",
   "metadata": {},
   "source": [
    "# Some loose ends"
   ]
  },
  {
   "attachments": {},
   "cell_type": "markdown",
   "id": "06f9a3f0",
   "metadata": {},
   "source": [
    "## 1.5 Tuples"
   ]
  },
  {
   "cell_type": "code",
   "execution_count": 29,
   "id": "abc920a2-b8fb-442b-bbfb-95d4e2d82dad",
   "metadata": {},
   "outputs": [
    {
     "name": "stdout",
     "output_type": "stream",
     "text": [
      "1\n"
     ]
    },
    {
     "data": {
      "text/plain": [
       "'\\na[0] = -1\\na[0] += [10]\\n'"
      ]
     },
     "execution_count": 29,
     "metadata": {},
     "output_type": "execute_result"
    }
   ],
   "source": [
    "# Tuples are similar to lists, except they use rounded brackets (  ) and cannot\n",
    "# be changed after creation (i.e. they are immutable). \n",
    "\n",
    "a = (1, 2, 3)\n",
    "print(a[0])\n",
    "\n",
    "# The below will not work and gives a TypeError because tuples do not support\n",
    "# item assignment.\n",
    "'''\n",
    "a[0] = -1\n",
    "a[0] += [10]\n",
    "'''\n"
   ]
  },
  {
   "attachments": {},
   "cell_type": "markdown",
   "id": "6ba2b2f5",
   "metadata": {},
   "source": [
    "## 1.6 Be VERY careful when copying"
   ]
  },
  {
   "cell_type": "code",
   "execution_count": 31,
   "id": "ee7fb143-512c-4849-a09a-b07f0ae0cde9",
   "metadata": {},
   "outputs": [
    {
     "name": "stdout",
     "output_type": "stream",
     "text": [
      "[1, 2, 3]\n",
      "[1, 2, 3]\n",
      "[1, 2, 3]\n",
      "[1, 2, 3]\n"
     ]
    }
   ],
   "source": [
    "# Do NOT copy the list as follows:\n",
    "x = [1, 2, 3]\n",
    "y = x\n",
    "z = x\n",
    "print(y)\n",
    "print(z)\n",
    "\n",
    "# Instead, we should use the copy() function to copy the list.\n",
    "x = [1, 2, 3]\n",
    "y = x.copy()\n",
    "z = x.copy()\n",
    "print(y)\n",
    "print(z)\n"
   ]
  },
  {
   "attachments": {},
   "cell_type": "markdown",
   "id": "d8ffdf62",
   "metadata": {},
   "source": [
    "# Exercises & Self-Assessment"
   ]
  },
  {
   "cell_type": "code",
   "execution_count": null,
   "id": "40d345ae",
   "metadata": {},
   "outputs": [],
   "source": [
    "\n",
    "\n",
    "\n",
    "# Your solution here\n",
    "\n",
    "\n"
   ]
  },
  {
   "attachments": {},
   "cell_type": "markdown",
   "id": "9f2af9e1",
   "metadata": {},
   "source": [
    "## Footnotes"
   ]
  }
 ],
 "metadata": {
  "kernelspec": {
   "display_name": "Python 3 (ipykernel)",
   "language": "python",
   "name": "python3"
  },
  "language_info": {
   "codemirror_mode": {
    "name": "ipython",
    "version": 3
   },
   "file_extension": ".py",
   "mimetype": "text/x-python",
   "name": "python",
   "nbconvert_exporter": "python",
   "pygments_lexer": "ipython3",
   "version": "3.11.5"
  },
  "toc": {
   "base_numbering": 1,
   "nav_menu": {},
   "number_sections": true,
   "sideBar": true,
   "skip_h1_title": false,
   "title_cell": "Table of Contents",
   "title_sidebar": "Contents",
   "toc_cell": false,
   "toc_position": {},
   "toc_section_display": true,
   "toc_window_display": false
  },
  "vscode": {
   "interpreter": {
    "hash": "31f2aee4e71d21fbe5cf8b01ff0e069b9275f58929596ceb00d14d90e3e16cd6"
   }
  }
 },
 "nbformat": 4,
 "nbformat_minor": 5
}
