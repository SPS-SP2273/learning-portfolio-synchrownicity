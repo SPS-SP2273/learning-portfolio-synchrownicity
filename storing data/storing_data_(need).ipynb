{
 "cells": [
  {
   "attachments": {},
   "cell_type": "markdown",
   "id": "123456",
   "metadata": {},
   "source": [
    "<div style=\"text-align:left;font-size:2em\"><span style=\"font-weight:bolder;font-size:1.25em\">SP2273 | Learning Portfolio</span><br><br><span style=\"font-weight:bold;color:darkred\">Storing Data (Need)</span></div>"
   ]
  },
  {
   "attachments": {},
   "cell_type": "markdown",
   "id": "19d4b0a6",
   "metadata": {},
   "source": [
    "# What to expect in this chapter"
   ]
  },
  {
   "attachments": {},
   "cell_type": "markdown",
   "id": "1b1b88d4",
   "metadata": {},
   "source": [
    "# 1 Lists, Arrays & Dictionaries"
   ]
  },
  {
   "cell_type": "markdown",
   "id": "e0b8e529-f8be-4046-9c18-2c8a1f0865bf",
   "metadata": {},
   "source": [
    "**Ways to Store and Manipulate Data:** <br>\n",
    "1. Lists \n",
    "2. Numpy Arrays \n",
    "3. Dictionaries \n",
    "4. Tuples\n",
    "5. Dataframes (Data Processing Basket --> Applications)\n",
    "6. Classes (See: Storing Data (Nice))"
   ]
  },
  {
   "attachments": {},
   "cell_type": "markdown",
   "id": "a2e0aff4",
   "metadata": {},
   "source": [
    "## 1.1 Let’s compare"
   ]
  },
  {
   "cell_type": "code",
   "execution_count": null,
   "id": "37159b47-7692-4628-85af-66a0a0fc0d2f",
   "metadata": {},
   "outputs": [],
   "source": [
    "import numpy as np\n",
    "\n",
    "# Python Lists\n",
    "py_super_names = [\"Black Window\", \"Iron Man\", \"Doctor Strange\"]\n",
    "py_real names = [\"Natasha Romanoff\", \"Tony Stark\", \"Stephen Strange\"]\n",
    "\n",
    "# Numpy Arrays\n",
    "np_super_names = np.array([\"Black Widow\", \"Iron Man\", \"Doctor Strange\"])\n",
    "np_real_names = np.array([\"Natasha Romanoff\", \"Tony Stark\", \"Stephen Strange\"])\n",
    "\n",
    "# Dictionary\n",
    "superhero_info = {\n",
    "    \"Natasha Romanoff\": \"Black Widow\",\n",
    "    \"Tony Stark\": \"Iron Man\",\n",
    "    \"Stephen Strange\": \"Doctor Strange\"\n",
    "}"
   ]
  },
  {
   "cell_type": "markdown",
   "id": "bba75d52-2884-417f-baef-62034edae73d",
   "metadata": {},
   "source": [
    "- Dictionaries use a **key-value** structure separated by a `:`.\n",
    "- Dictionary holds the real and super names in one structure while two lists are needed for the same data.\n",
    "- For lists and arrays, **order matters**."
   ]
  },
  {
   "attachments": {},
   "cell_type": "markdown",
   "id": "fd807c65",
   "metadata": {},
   "source": [
    "## 1.2 Accessing data from a list (or array)"
   ]
  },
  {
   "cell_type": "code",
   "execution_count": 1,
   "id": "5c987cf6-52ff-4d8c-8c37-8fe2f5d36fa3",
   "metadata": {},
   "outputs": [
    {
     "data": {
      "text/plain": [
       "True"
      ]
     },
     "execution_count": 1,
     "metadata": {},
     "output_type": "execute_result"
    }
   ],
   "source": [
    "# To access data from lists and arrays, call the index corresponding to the data's\n",
    "# position. Note that Python starts counting from 0 (zero-indexed language).\n",
    "\n",
    "py_super_names = [\"Black Widow\", \"Iron Man\", \"Doctor Strange\"]\n",
    "py_real_names = [\"Natasha Romanoff\", \"Tony Stark\", \"Stephen Strange\"]\n",
    "\n",
    "py_real_names[0]\n",
    "# This should output \"Natasha Romanoff\".\n",
    "\n",
    "py_super_names[0]\n",
    "# This should output \"Black Widow\".\n",
    "\n",
    "py_super_names[2] == py_super_names[-1]\n",
    "# This should output True, since -1 means it counts from the back (reverse indexing)."
   ]
  },
  {
   "attachments": {},
   "cell_type": "markdown",
   "id": "f20c33d9",
   "metadata": {},
   "source": [
    "## 1.3 Accessing data from a dictionary"
   ]
  },
  {
   "cell_type": "code",
   "execution_count": 2,
   "id": "54c50442-f7ec-4f27-969b-cb7c791d3c83",
   "metadata": {},
   "outputs": [
    {
     "data": {
      "text/plain": [
       "'Black Widow'"
      ]
     },
     "execution_count": 2,
     "metadata": {},
     "output_type": "execute_result"
    }
   ],
   "source": [
    "superhero_info = {\n",
    "    \"Natasha Romanoff\": \"Black Widow\",\n",
    "    \"Tony Stark\": \"Iron Man\",\n",
    "    \"Stephen Strange\": \"Doctor Strange\"\n",
    "}                  \n",
    "\n",
    "superhero_info[\"Natasha Romanoff\"]\n",
    "# This should output the value \"Black Widow\" associated with the key \"Natasha Romanoff\"."
   ]
  },
  {
   "cell_type": "code",
   "execution_count": 3,
   "id": "243183eb-320b-4596-8795-17588150729d",
   "metadata": {},
   "outputs": [
    {
     "data": {
      "text/plain": [
       "dict_values(['Black Widow', 'Iron Man', 'Doctor Strange'])"
      ]
     },
     "execution_count": 3,
     "metadata": {},
     "output_type": "execute_result"
    }
   ],
   "source": [
    "# To access all keys and values respectively, we can use the \n",
    "# .keys() and .values() functions.\n",
    "\n",
    "superhero_info.keys()\n",
    "superhero_info.values()"
   ]
  },
  {
   "attachments": {},
   "cell_type": "markdown",
   "id": "2111cfda",
   "metadata": {},
   "source": [
    "## 1.4 Higher dimensional lists"
   ]
  },
  {
   "cell_type": "code",
   "execution_count": null,
   "id": "76c7ace8-df16-4000-97d0-9680647586a4",
   "metadata": {},
   "outputs": [],
   "source": [
    "# 2D Lists / Arrays\n",
    "\n",
    "py_superhero_info = [['Natasha Romanoff', 'Black Widow'],\n",
    "                     ['Tony Stark', 'Iron Man'],\n",
    "                     ['Stephen Strange', 'Doctor Strange']]\n",
    "\n",
    "# Workaround to having two separate lists to store each info."
   ]
  },
  {
   "attachments": {},
   "cell_type": "markdown",
   "id": "22fd9047",
   "metadata": {},
   "source": [
    "# 2 Lists vs. Arrays"
   ]
  },
  {
   "attachments": {},
   "cell_type": "markdown",
   "id": "7e41bd68",
   "metadata": {},
   "source": [
    "## 2.1 Size"
   ]
  },
  {
   "cell_type": "code",
   "execution_count": 6,
   "id": "9f5a5ba5-d491-4886-a25f-eccc2d32cd44",
   "metadata": {},
   "outputs": [
    {
     "data": {
      "text/plain": [
       "(10, 2)"
      ]
     },
     "execution_count": 6,
     "metadata": {},
     "output_type": "execute_result"
    }
   ],
   "source": [
    "# We can use the len() function to find out the number of elements in a list / array.\n",
    "\n",
    "import numpy as np\n",
    "\n",
    "py_list_2d = [[1, \"A\"], [2, \"B\"], [3, \"C\"], [4, \"D\"],\n",
    "              [5, \"E\"], [6, \"F\"], [7, \"G\"], [8, \"H\"],\n",
    "              [9, \"I\"], [10, \"J\"]]\n",
    "\n",
    "np_array_2d = np.array(py_list_2d)     \n",
    "# This reuses the Python list to create a NEW NumPy array.\n",
    "\n",
    "len(py_list_2d)\n",
    "len(np_array_2d)\n",
    "\n",
    "np_array_2d.shape\n",
    "# Note the absence of brackets above. This is because shape is NOT a function but\n",
    "# rather a property or attribute of the NumPy array."
   ]
  },
  {
   "attachments": {},
   "cell_type": "markdown",
   "id": "2a922c4e",
   "metadata": {},
   "source": [
    "## 2.2 Arrays are fussy about type"
   ]
  },
  {
   "cell_type": "code",
   "execution_count": 8,
   "id": "466c7a46-b300-4f22-bf05-514ccc02d52d",
   "metadata": {},
   "outputs": [
    {
     "data": {
      "text/plain": [
       "[1, 1.5, 'A']"
      ]
     },
     "execution_count": 8,
     "metadata": {},
     "output_type": "execute_result"
    }
   ],
   "source": [
    "# Arrays are insistent about having only a SINGLE data type,\n",
    "# while lists are more accomodating.\n",
    "\n",
    "py_list = [1, 1.5, 'A']\n",
    "np_array = np.array(py_list)\n",
    "\n",
    "py_list"
   ]
  },
  {
   "cell_type": "code",
   "execution_count": 9,
   "id": "b8654ff2-e27d-4849-a0b2-19b762b03599",
   "metadata": {},
   "outputs": [
    {
     "data": {
      "text/plain": [
       "array(['1', '1.5', 'A'], dtype='<U32')"
      ]
     },
     "execution_count": 9,
     "metadata": {},
     "output_type": "execute_result"
    }
   ],
   "source": [
    "np_array\n",
    "# Numpy will convert all the numbers into strings."
   ]
  },
  {
   "attachments": {},
   "cell_type": "markdown",
   "id": "f6df159d",
   "metadata": {},
   "source": [
    "## 2.3 Adding a number"
   ]
  },
  {
   "cell_type": "code",
   "execution_count": 15,
   "id": "4590e107-10a9-49c5-9cd8-22ff9d41847f",
   "metadata": {},
   "outputs": [
    {
     "ename": "TypeError",
     "evalue": "can only concatenate list (not \"int\") to list",
     "output_type": "error",
     "traceback": [
      "\u001b[1;31m---------------------------------------------------------------------------\u001b[0m",
      "\u001b[1;31mTypeError\u001b[0m                                 Traceback (most recent call last)",
      "Cell \u001b[1;32mIn[15], line 8\u001b[0m\n\u001b[0;32m      4\u001b[0m np_array \u001b[38;5;241m=\u001b[39m np\u001b[38;5;241m.\u001b[39marray(py_list)         \u001b[38;5;66;03m# Reusing the Python list\u001b[39;00m\n\u001b[0;32m      5\u001b[0m                                      \u001b[38;5;66;03m# to create a NEW\u001b[39;00m\n\u001b[0;32m      6\u001b[0m                                      \u001b[38;5;66;03m# NumPy array\u001b[39;00m\n\u001b[1;32m----> 8\u001b[0m \u001b[43mpy_list\u001b[49m\u001b[43m \u001b[49m\u001b[38;5;241;43m+\u001b[39;49m\u001b[43m \u001b[49m\u001b[38;5;241;43m10\u001b[39;49m      \u001b[38;5;66;03m# Won't work!\u001b[39;00m\n\u001b[0;32m     10\u001b[0m \u001b[38;5;66;03m# Instead, to add numbers to another list, we will have to use the .append() function.\u001b[39;00m\n",
      "\u001b[1;31mTypeError\u001b[0m: can only concatenate list (not \"int\") to list"
     ]
    }
   ],
   "source": [
    "# NumPy will allow for the addition of numbers into a list.\n",
    "\n",
    "py_list = [1, 2, 3, 4, 5]\n",
    "np_array = np.array(py_list)         # Reusing the Python list\n",
    "                                     # to create a NEW\n",
    "                                     # NumPy array\n",
    "\n",
    "py_list + 10      # Won't work!\n",
    "\n",
    "# Instead, to add numbers to another list, we will have to use the .append() function."
   ]
  },
  {
   "cell_type": "code",
   "execution_count": 11,
   "id": "4a021429-1d1f-4ad5-b066-a629701241a6",
   "metadata": {},
   "outputs": [
    {
     "data": {
      "text/plain": [
       "array([11, 12, 13, 14, 15])"
      ]
     },
     "execution_count": 11,
     "metadata": {},
     "output_type": "execute_result"
    }
   ],
   "source": [
    "np_array + 10"
   ]
  },
  {
   "attachments": {},
   "cell_type": "markdown",
   "id": "8c1d06e1",
   "metadata": {},
   "source": [
    "## 2.4 Adding another list"
   ]
  },
  {
   "cell_type": "code",
   "execution_count": 16,
   "id": "10b59ce9-1e19-4654-b9fb-86f7dd3f7e1d",
   "metadata": {},
   "outputs": [
    {
     "data": {
      "text/plain": [
       "[1, 2, 3, 4, 5, 10, 20, 30, 40, 50]"
      ]
     },
     "execution_count": 16,
     "metadata": {},
     "output_type": "execute_result"
    }
   ],
   "source": [
    "py_list_1 = [1, 2, 3, 4, 5]\n",
    "py_list_2 = [10, 20, 30, 40, 50]\n",
    "\n",
    "np_array_1 = np.array(py_list_1)\n",
    "np_array_2 = np.array(py_list_2)\n",
    "\n",
    "py_list_1 + py_list_2\n",
    "\n",
    "# Adding two lists will simply append list 1 to list 2."
   ]
  },
  {
   "cell_type": "code",
   "execution_count": 18,
   "id": "e4124708-7e24-4aec-bed2-b549b58618c9",
   "metadata": {},
   "outputs": [
    {
     "data": {
      "text/plain": [
       "array([11, 22, 33, 44, 55])"
      ]
     },
     "execution_count": 18,
     "metadata": {},
     "output_type": "execute_result"
    }
   ],
   "source": [
    "np_array_1 + np_array_2\n",
    "\n",
    "# Adding two arrays will add each of the array elements together (element-wise operation)."
   ]
  },
  {
   "attachments": {},
   "cell_type": "markdown",
   "id": "ccc1caf2",
   "metadata": {},
   "source": [
    "## 2.5 Multiplying by a Number"
   ]
  },
  {
   "cell_type": "code",
   "execution_count": 19,
   "id": "33c8a347-0c6f-4ec1-9ebe-2df511e6b780",
   "metadata": {},
   "outputs": [
    {
     "data": {
      "text/plain": [
       "[1, 2, 3, 4, 5, 1, 2, 3, 4, 5]"
      ]
     },
     "execution_count": 19,
     "metadata": {},
     "output_type": "execute_result"
    }
   ],
   "source": [
    "py_list = [1, 2, 3, 4, 5]\n",
    "np_array = np.array(py_list)\n",
    "\n",
    "py_list*2\n",
    "\n",
    "# Multiplying lists will simply append the same list behind the original however many times."
   ]
  },
  {
   "cell_type": "code",
   "execution_count": 20,
   "id": "565af026-7239-412c-b1c6-75fae6b44d69",
   "metadata": {},
   "outputs": [
    {
     "data": {
      "text/plain": [
       "array([ 2,  4,  6,  8, 10])"
      ]
     },
     "execution_count": 20,
     "metadata": {},
     "output_type": "execute_result"
    }
   ],
   "source": [
    "np_array*2\n",
    "\n",
    "# Multiplying arrays will multiply each element by the number."
   ]
  },
  {
   "attachments": {},
   "cell_type": "markdown",
   "id": "aeb6604b",
   "metadata": {},
   "source": [
    "## 2.6 Squaring"
   ]
  },
  {
   "cell_type": "code",
   "execution_count": 21,
   "id": "4620c916-4380-42c4-9233-def6509fc2c7",
   "metadata": {},
   "outputs": [
    {
     "ename": "TypeError",
     "evalue": "unsupported operand type(s) for ** or pow(): 'list' and 'int'",
     "output_type": "error",
     "traceback": [
      "\u001b[1;31m---------------------------------------------------------------------------\u001b[0m",
      "\u001b[1;31mTypeError\u001b[0m                                 Traceback (most recent call last)",
      "Cell \u001b[1;32mIn[21], line 4\u001b[0m\n\u001b[0;32m      1\u001b[0m py_list \u001b[38;5;241m=\u001b[39m [\u001b[38;5;241m1\u001b[39m, \u001b[38;5;241m2\u001b[39m, \u001b[38;5;241m3\u001b[39m, \u001b[38;5;241m4\u001b[39m, \u001b[38;5;241m5\u001b[39m]\n\u001b[0;32m      2\u001b[0m np_array \u001b[38;5;241m=\u001b[39m np\u001b[38;5;241m.\u001b[39marray(py_list)\n\u001b[1;32m----> 4\u001b[0m \u001b[43mpy_list\u001b[49m\u001b[38;5;241;43m*\u001b[39;49m\u001b[38;5;241;43m*\u001b[39;49m\u001b[38;5;241;43m2\u001b[39;49m     \u001b[38;5;66;03m# Won't work.\u001b[39;00m\n",
      "\u001b[1;31mTypeError\u001b[0m: unsupported operand type(s) for ** or pow(): 'list' and 'int'"
     ]
    }
   ],
   "source": [
    "py_list = [1, 2, 3, 4, 5]\n",
    "np_array = np.array(py_list)\n",
    "\n",
    "py_list**2     # Won't work."
   ]
  },
  {
   "cell_type": "code",
   "execution_count": 22,
   "id": "84c5ef56-50ef-4425-baab-c90e816dad51",
   "metadata": {},
   "outputs": [
    {
     "data": {
      "text/plain": [
       "array([ 1,  4,  9, 16, 25])"
      ]
     },
     "execution_count": 22,
     "metadata": {},
     "output_type": "execute_result"
    }
   ],
   "source": [
    "np_array**2\n",
    "\n",
    "# Squares each element."
   ]
  },
  {
   "attachments": {},
   "cell_type": "markdown",
   "id": "c24cd5e4",
   "metadata": {},
   "source": [
    "## 2.7 Asking questions"
   ]
  },
  {
   "cell_type": "code",
   "execution_count": 31,
   "id": "e0c9753b-6a6a-4d75-a400-3b765ecbd441",
   "metadata": {},
   "outputs": [
    {
     "data": {
      "text/plain": [
       "False"
      ]
     },
     "execution_count": 31,
     "metadata": {},
     "output_type": "execute_result"
    }
   ],
   "source": [
    "py_list = [1, 2, 3, 4, 5]\n",
    "np_array = np.array(py_list)         \n",
    "\n",
    "py_list == 3        # Works, but outputs FALSE. Why?"
   ]
  },
  {
   "cell_type": "code",
   "execution_count": 24,
   "id": "9b2695b0-91ef-4c62-8525-66dbe856f5eb",
   "metadata": {},
   "outputs": [
    {
     "ename": "TypeError",
     "evalue": "'>' not supported between instances of 'list' and 'int'",
     "output_type": "error",
     "traceback": [
      "\u001b[1;31m---------------------------------------------------------------------------\u001b[0m",
      "\u001b[1;31mTypeError\u001b[0m                                 Traceback (most recent call last)",
      "Cell \u001b[1;32mIn[24], line 1\u001b[0m\n\u001b[1;32m----> 1\u001b[0m \u001b[43mpy_list\u001b[49m\u001b[43m \u001b[49m\u001b[38;5;241;43m>\u001b[39;49m\u001b[43m \u001b[49m\u001b[38;5;241;43m3\u001b[39;49m\n",
      "\u001b[1;31mTypeError\u001b[0m: '>' not supported between instances of 'list' and 'int'"
     ]
    }
   ],
   "source": [
    "py_list > 3         # Won' work."
   ]
  },
  {
   "cell_type": "code",
   "execution_count": 25,
   "id": "2d3fab5a-8613-4430-9179-279b1e4de826",
   "metadata": {},
   "outputs": [
    {
     "data": {
      "text/plain": [
       "array([False, False,  True, False, False])"
      ]
     },
     "execution_count": 25,
     "metadata": {},
     "output_type": "execute_result"
    }
   ],
   "source": [
    "np_array == 3"
   ]
  },
  {
   "cell_type": "code",
   "execution_count": 26,
   "id": "19d9899d-3629-4d71-806f-1eae1e2bb48f",
   "metadata": {},
   "outputs": [
    {
     "data": {
      "text/plain": [
       "array([False, False, False,  True,  True])"
      ]
     },
     "execution_count": 26,
     "metadata": {},
     "output_type": "execute_result"
    }
   ],
   "source": [
    "np_array > 3"
   ]
  },
  {
   "attachments": {},
   "cell_type": "markdown",
   "id": "b8ac7665",
   "metadata": {},
   "source": [
    "## 2.8 Mathematics"
   ]
  },
  {
   "cell_type": "code",
   "execution_count": 33,
   "id": "4b51c24c-b26d-4da8-89fc-07ad4c2a7ae4",
   "metadata": {},
   "outputs": [
    {
     "data": {
      "text/plain": [
       "15"
      ]
     },
     "execution_count": 33,
     "metadata": {},
     "output_type": "execute_result"
    }
   ],
   "source": [
    "py_list = [1, 2, 3, 4, 5]\n",
    "np_array = np.array(py_list)         \n",
    "\n",
    "sum(py_list)        # sum() is a base Python function"
   ]
  },
  {
   "cell_type": "code",
   "execution_count": 34,
   "id": "4c7bfa3e-6632-42cb-9bec-72e42286d69c",
   "metadata": {},
   "outputs": [
    {
     "data": {
      "text/plain": [
       "5"
      ]
     },
     "execution_count": 34,
     "metadata": {},
     "output_type": "execute_result"
    }
   ],
   "source": [
    "max(py_list)"
   ]
  },
  {
   "cell_type": "code",
   "execution_count": 35,
   "id": "36ea9503-0784-4a60-b0d5-b8966f2a1f42",
   "metadata": {},
   "outputs": [
    {
     "data": {
      "text/plain": [
       "1"
      ]
     },
     "execution_count": 35,
     "metadata": {},
     "output_type": "execute_result"
    }
   ],
   "source": [
    "min(py_list)"
   ]
  },
  {
   "cell_type": "code",
   "execution_count": 36,
   "id": "2ee69b77-71e8-4b6e-a556-1a2e3afc1438",
   "metadata": {},
   "outputs": [
    {
     "ename": "AttributeError",
     "evalue": "'list' object has no attribute 'sum'",
     "output_type": "error",
     "traceback": [
      "\u001b[1;31m---------------------------------------------------------------------------\u001b[0m",
      "\u001b[1;31mAttributeError\u001b[0m                            Traceback (most recent call last)",
      "Cell \u001b[1;32mIn[36], line 1\u001b[0m\n\u001b[1;32m----> 1\u001b[0m \u001b[43mpy_list\u001b[49m\u001b[38;5;241;43m.\u001b[39;49m\u001b[43msum\u001b[49m()          \u001b[38;5;66;03m# Won't work!\u001b[39;00m\n",
      "\u001b[1;31mAttributeError\u001b[0m: 'list' object has no attribute 'sum'"
     ]
    }
   ],
   "source": [
    "py_list.sum()          # Won't work!"
   ]
  },
  {
   "cell_type": "code",
   "execution_count": 37,
   "id": "05ed17b6-10c8-4911-8958-9784f85255d2",
   "metadata": {},
   "outputs": [
    {
     "data": {
      "text/plain": [
       "15"
      ]
     },
     "execution_count": 37,
     "metadata": {},
     "output_type": "execute_result"
    }
   ],
   "source": [
    "np_array.sum()"
   ]
  },
  {
   "cell_type": "code",
   "execution_count": 38,
   "id": "b84e0eb2-aa53-4062-b251-2e6d03654f96",
   "metadata": {},
   "outputs": [
    {
     "data": {
      "text/plain": [
       "5"
      ]
     },
     "execution_count": 38,
     "metadata": {},
     "output_type": "execute_result"
    }
   ],
   "source": [
    "np_array.max()"
   ]
  },
  {
   "cell_type": "code",
   "execution_count": 39,
   "id": "dfb1ae23-48ed-4c12-99ce-cba97924c50e",
   "metadata": {},
   "outputs": [
    {
     "data": {
      "text/plain": [
       "1"
      ]
     },
     "execution_count": 39,
     "metadata": {},
     "output_type": "execute_result"
    }
   ],
   "source": [
    "np_array.min()"
   ]
  },
  {
   "cell_type": "code",
   "execution_count": 40,
   "id": "d938b49a-df51-417d-9655-013144b49cf1",
   "metadata": {},
   "outputs": [
    {
     "data": {
      "text/plain": [
       "3.0"
      ]
     },
     "execution_count": 40,
     "metadata": {},
     "output_type": "execute_result"
    }
   ],
   "source": [
    "np_array.mean()"
   ]
  },
  {
   "cell_type": "code",
   "execution_count": 41,
   "id": "2b6e2c9f-5e0f-42bc-974f-cca1010b7501",
   "metadata": {},
   "outputs": [
    {
     "data": {
      "text/plain": [
       "1.4142135623730951"
      ]
     },
     "execution_count": 41,
     "metadata": {},
     "output_type": "execute_result"
    }
   ],
   "source": [
    "np_array.std()"
   ]
  },
  {
   "cell_type": "markdown",
   "id": "6e7a404e-8307-4714-9a66-d8ea04e2789d",
   "metadata": {},
   "source": [
    "An operation on a list works on the **whole** list, while operations on a array work on the **individual elements** of the array."
   ]
  },
  {
   "attachments": {},
   "cell_type": "markdown",
   "id": "0e56066e",
   "metadata": {},
   "source": [
    "# Exercises & Self-Assessment"
   ]
  },
  {
   "cell_type": "code",
   "execution_count": null,
   "id": "465f7a92",
   "metadata": {},
   "outputs": [],
   "source": [
    "\n",
    "\n",
    "\n",
    "# Your solution here\n",
    "\n",
    "\n"
   ]
  },
  {
   "attachments": {},
   "cell_type": "markdown",
   "id": "5a4860d4",
   "metadata": {},
   "source": [
    "## Footnotes"
   ]
  },
  {
   "cell_type": "markdown",
   "id": "365c1b3e-feed-4962-82eb-10e7dbc940bf",
   "metadata": {},
   "source": [
    "### **Summary of Storing Data (Need)**"
   ]
  }
 ],
 "metadata": {
  "kernelspec": {
   "display_name": "Python 3 (ipykernel)",
   "language": "python",
   "name": "python3"
  },
  "language_info": {
   "codemirror_mode": {
    "name": "ipython",
    "version": 3
   },
   "file_extension": ".py",
   "mimetype": "text/x-python",
   "name": "python",
   "nbconvert_exporter": "python",
   "pygments_lexer": "ipython3",
   "version": "3.11.5"
  },
  "toc": {
   "base_numbering": 1,
   "nav_menu": {},
   "number_sections": true,
   "sideBar": true,
   "skip_h1_title": false,
   "title_cell": "Table of Contents",
   "title_sidebar": "Contents",
   "toc_cell": false,
   "toc_position": {},
   "toc_section_display": true,
   "toc_window_display": false
  },
  "vscode": {
   "interpreter": {
    "hash": "31f2aee4e71d21fbe5cf8b01ff0e069b9275f58929596ceb00d14d90e3e16cd6"
   }
  }
 },
 "nbformat": 4,
 "nbformat_minor": 5
}
